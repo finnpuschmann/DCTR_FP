{
 "cells": [
  {
   "cell_type": "code",
   "execution_count": 1,
   "id": "477d4d19",
   "metadata": {},
   "outputs": [],
   "source": [
    "import numpy as np\n",
    "import sys\n",
    "\n",
    "import DCTR\n"
   ]
  },
  {
   "cell_type": "markdown",
   "id": "1c655410-2a66-4a78-a4b9-ccb4e769255b",
   "metadata": {},
   "source": [
    "# POWHEG hvq | theta = 0"
   ]
  },
  {
   "cell_type": "code",
   "execution_count": 1,
   "id": "949d5dcb-c217-4ad8-bb00-7e957f060743",
   "metadata": {},
   "outputs": [],
   "source": [
    "input_data_dir = '/tf/data/BachelorThesis_Data/LHE/data' # adjust to LHE files location\n",
    "output_data_dir = './Data' # adjust for desired save location\n"
   ]
  },
  {
   "cell_type": "code",
   "execution_count": 2,
   "id": "82995f62",
   "metadata": {},
   "outputs": [
    {
     "name": "stdout",
     "output_type": "stream",
     "text": [
      "discarded particles: 0, due to rapidity domain error\n",
      "discarded events: 3702, due to pseudorapidity domain error\n",
      "array shape is: (31996298, 5, 9) and should be: (numEvents, particlesPerEvent + tt-pair, attributesPerParticle)\n"
     ]
    }
   ],
   "source": [
    "DCTR.convert_lhe(inputFolder = f'{input_data_dir}/POWHEG_new/01/',\n",
    "                 outputFolder = f'{output_data_dir}/POWHEG_hvq/13TeV/', outLabel='01_', theta=0, maxJetParts=2)\n",
    "\n"
   ]
  },
  {
   "cell_type": "code",
   "execution_count": null,
   "id": "00f69a50-5573-401c-a724-6d66d650316f",
   "metadata": {},
   "outputs": [],
   "source": [
    "DCTR.convert_lhe(inputFolder = f'{input_data_dir}/POWHEG_new/02/',\n",
    "                 outputFolder = f'{output_data_dir}/POWHEG_hvq/13TeV/', outLabel='02_', theta=0, maxJetParts=2)\n",
    "\n"
   ]
  },
  {
   "cell_type": "code",
   "execution_count": null,
   "id": "452ec6bc-0481-4916-957c-fee50dce3750",
   "metadata": {},
   "outputs": [],
   "source": [
    "DCTR.convert_lhe(inputFolder = f'{input_data_dir}/POWHEG_new/03/',\n",
    "                 outputFolder = f'{output_data_dir}/POWHEG_hvq/13TeV/', outLabel='03_', theta=0, maxJetParts=2)\n",
    "\n"
   ]
  },
  {
   "cell_type": "code",
   "execution_count": null,
   "id": "388865db-22aa-4180-a851-fa6854f10183",
   "metadata": {},
   "outputs": [],
   "source": [
    "DCTR.convert_lhe(inputFolder = f'{input_data_dir}/POWHEG_new/04/',\n",
    "                 outputFolder = f'{output_data_dir}/POWHEG_hvq/13TeV/', outLabel='04_', theta=0, maxJetParts=2)\n",
    "\n"
   ]
  },
  {
   "cell_type": "code",
   "execution_count": null,
   "id": "1e918e4a-7c78-48d6-8ee0-37b2726fb2f4",
   "metadata": {},
   "outputs": [],
   "source": []
  },
  {
   "cell_type": "code",
   "execution_count": null,
   "id": "d0dd3092-9df9-4de1-85e7-8d18dae3e1c7",
   "metadata": {},
   "outputs": [],
   "source": [
    "# combine partial datasets 01 and 02\n",
    "X0 = []\n",
    "\n",
    "# Load multiple datasets and combine \n",
    "X0 = np.concatenate((np.array(DCTR.load_dataset(f'{output_data_dir}/POWHEG_hvq/13TeV/01_converted_lhe.npz')),\n",
    "                     np.array(DCTR.load_dataset(f'{output_data_dir}/POWHEG_hvq/13TeV/02_converted_lhe.npz'))))\n",
    "\n",
    "np.savez_compressed(f'{output_data_dir}/POWHEG_hvq/13TeV/01-02_converted_lhe.npz', a=X0)\n",
    "\n",
    "del X0\n"
   ]
  },
  {
   "cell_type": "code",
   "execution_count": null,
   "id": "4f0d6f1c-61fb-4383-ae6c-5adc5725ea5b",
   "metadata": {},
   "outputs": [],
   "source": [
    "# combine partial datasets 01 and 02\n",
    "X0 = []\n",
    "\n",
    "# Load multiple datasets and combine \n",
    "X0 = np.concatenate((np.array(DCTR.load_dataset(f'{output_data_dir}/POWHEG_hvq/13TeV/03_converted_lhe.npz')),\n",
    "                     np.array(DCTR.load_dataset(f'{output_data_dir}/POWHEG_hvq/13TeV/04_converted_lhe.npz'))))\n",
    "\n",
    "np.savez_compressed(f'{output_data_dir}/POWHEG_hvq/13TeV/03-04_converted_lhe.npz', a=X0)\n",
    "\n",
    "del X0\n"
   ]
  },
  {
   "cell_type": "code",
   "execution_count": null,
   "id": "65d9aab4-b6c3-46d8-ad87-6650b9c7c92d",
   "metadata": {},
   "outputs": [],
   "source": []
  },
  {
   "cell_type": "markdown",
   "id": "039ee31c-142f-48a0-99d5-5de11f95cec2",
   "metadata": {},
   "source": [
    "# create normalized datasets"
   ]
  },
  {
   "cell_type": "code",
   "execution_count": 2,
   "id": "9c0fadc1-617e-40bd-b4f4-3edbce33ec09",
   "metadata": {},
   "outputs": [
    {
     "name": "stdout",
     "output_type": "stream",
     "text": [
      "X0 POWHEG shape: (63992408, 5, 9)\n",
      "X0 normalized\n",
      "(5, 6, 3)\n"
     ]
    }
   ],
   "source": [
    "# load data 01-02\n",
    "X0 = []\n",
    "X0 = np.array(DCTR.load_dataset(f'{output_data_dir}/POWHEG_hvq/13TeV/01-02_converted_lhe.npz'))\n",
    "print(f'X0 POWHEG shape: {X0.shape}')\n",
    "\n",
    "# normalize data\n",
    "X0, nrm_array = DCTR.normalize_data(X0)\n",
    "print('X0 normalized')\n",
    "\n"
   ]
  },
  {
   "cell_type": "code",
   "execution_count": 7,
   "id": "63bbb8f2",
   "metadata": {},
   "outputs": [
    {
     "name": "stdout",
     "output_type": "stream",
     "text": [
      "X0 with jets saved\n",
      "X0 without jets saved\n"
     ]
    }
   ],
   "source": [
    "# save compressed\n",
    "# np.savez_compressed(f'{output_data_dir}/POWHEG_hvq/13TeV/01-02_normed_jet_converted_lhe.npz', a=X0)\n",
    "# print('X0 with jets saved')\n",
    "\n",
    "# save compressed without jet particles\n",
    "X0 = DCTR.remove_jet_parts(X0)\n",
    "np.savez_compressed(f'{output_data_dir}/POWHEG_hvq/13TeV/01-02_normed_converted_lhe.npz', a=X0)\n",
    "print('X0 without jets saved')\n"
   ]
  },
  {
   "cell_type": "code",
   "execution_count": 8,
   "id": "d13efabd-754a-460e-aa99-4e6c8ef62499",
   "metadata": {},
   "outputs": [],
   "source": [
    "# clear from memory\n",
    "X0 = []\n",
    "del X0\n"
   ]
  },
  {
   "cell_type": "code",
   "execution_count": null,
   "id": "423c1a80-7e63-4653-9872-47e33c04d269",
   "metadata": {},
   "outputs": [],
   "source": []
  },
  {
   "cell_type": "code",
   "execution_count": null,
   "id": "53c2f234-586b-49c8-9aeb-46a234335a29",
   "metadata": {},
   "outputs": [],
   "source": []
  },
  {
   "cell_type": "code",
   "execution_count": 9,
   "id": "33417eb2",
   "metadata": {},
   "outputs": [
    {
     "name": "stdout",
     "output_type": "stream",
     "text": [
      "X0_ POWHEG shape: (63992361, 5, 9)\n",
      "X0_ normalized\n"
     ]
    }
   ],
   "source": [
    "# load data 03-04\n",
    "X0 = []\n",
    "X0 = np.array(DCTR.load_dataset(f'{output_data_dir}/POWHEG_hvq/13TeV/03-04_converted_lhe.npz'))\n",
    "print(f'X0 POWHEG shape: {X0.shape}')\n",
    "\n",
    "# normalize data\n",
    "X0, nrm_array = DCTR.normalize_data(X0)\n",
    "print('X0 normalized')\n"
   ]
  },
  {
   "cell_type": "code",
   "execution_count": 10,
   "id": "c414c19c-a4a8-46fb-bb32-fc66a5bd576b",
   "metadata": {},
   "outputs": [
    {
     "name": "stdout",
     "output_type": "stream",
     "text": [
      "X0_ with jets saved\n",
      "X0_ without jets saved\n"
     ]
    }
   ],
   "source": [
    "# save compressed\n",
    "# np.savez_compressed(f'{output_data_dir}/POWHEG_hvq/13TeV/03-04_normed_jet_converted_lhe.npz', a=X0)\n",
    "# print('X0 with jets saved')\n",
    "\n",
    "# save compressed without jet particles\n",
    "X0 = DCTR.remove_jet_parts(X0)\n",
    "np.savez_compressed(f'{output_data_dir}/POWHEG_hvq/13TeV/03-04_normed_converted_lhe.npz', a=X0)\n",
    "print('X0 without jets saved')\n"
   ]
  },
  {
   "cell_type": "code",
   "execution_count": 11,
   "id": "a935c0ca-3597-4152-b5cc-7dd623c84d62",
   "metadata": {},
   "outputs": [],
   "source": [
    "# clear from memory\n",
    "X0_ = []\n",
    "del X0_\n"
   ]
  },
  {
   "cell_type": "code",
   "execution_count": null,
   "id": "60a3dc3e-5cf7-4930-bd62-520d4d82a42c",
   "metadata": {},
   "outputs": [],
   "source": []
  },
  {
   "cell_type": "code",
   "execution_count": null,
   "id": "eca01fe2-29e4-41d2-ab35-dbdf0b5e5399",
   "metadata": {},
   "outputs": [],
   "source": []
  },
  {
   "cell_type": "code",
   "execution_count": 3,
   "id": "6ad4685c-7496-4ffa-a5fd-eca291c28c34",
   "metadata": {},
   "outputs": [
    {
     "name": "stdout",
     "output_type": "stream",
     "text": [
      "X1 MiNNLO shape: (9553938, 5, 9)\n",
      "X1 normalized\n",
      "(5, 6, 3)\n"
     ]
    }
   ],
   "source": [
    "# nrm X1 MiNNLO with nrm_array from POWHEG\n",
    "\n",
    "inputFolder = f'{input_data_dir}/POWHEG_new/01/',\n",
    "\n",
    "# load MiNNLO data\n",
    "X1 = []\n",
    "X1 = np.array(DCTR.load_dataset(f'{input_data_dir}/MiNNLO/converted_lhe.npz', i=5)) # adjust for different MiNNLO location\n",
    "print(f'X1 MiNNLO shape: {X1.shape}')\n",
    "\n",
    "# normalize data\n",
    "X1, nrm_array1 = DCTR.normalize_data(X1, nrm_array)\n",
    "print('X1 normalized')\n",
    "print(np.array(nrm_array1).shape)\n",
    "\n"
   ]
  },
  {
   "cell_type": "code",
   "execution_count": 6,
   "id": "f238d328-b002-4364-88c2-19c765dd44f2",
   "metadata": {},
   "outputs": [
    {
     "name": "stdout",
     "output_type": "stream",
     "text": [
      "X1 with jets saved\n",
      "X1 without jets saved\n"
     ]
    }
   ],
   "source": [
    "# save compressed\n",
    "# np.savez_compressed(f'{output_data_dir}/MiNNLO/converted_with_13TeV_NLO/normed_jet_converted_lhe.npz', a=X1)\n",
    "# print('X1 with jets saved')\n",
    "\n",
    "# save compressed without jet particles\n",
    "X1 = DCTR.remove_jet_parts(X1)\n",
    "np.savez_compressed(f'{output_data_dir}/MiNNLO/converted_with_13TeV_NLO/normed_converted_lhe.npz', a=X1)\n",
    "print('X1 without jets saved')\n",
    "\n",
    "# clear from memory\n",
    "X1 = []\n",
    "del X1\n"
   ]
  }
 ],
 "metadata": {
  "kernelspec": {
   "display_name": "Python 3 (ipykernel)",
   "language": "python",
   "name": "python3"
  },
  "language_info": {
   "codemirror_mode": {
    "name": "ipython",
    "version": 3
   },
   "file_extension": ".py",
   "mimetype": "text/x-python",
   "name": "python",
   "nbconvert_exporter": "python",
   "pygments_lexer": "ipython3",
   "version": "3.8.10"
  }
 },
 "nbformat": 4,
 "nbformat_minor": 5
}
