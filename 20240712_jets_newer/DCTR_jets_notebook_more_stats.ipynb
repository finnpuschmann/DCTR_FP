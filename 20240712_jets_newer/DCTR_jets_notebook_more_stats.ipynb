{
 "cells": [
  {
   "cell_type": "code",
   "execution_count": 1,
   "metadata": {
    "metadata": {}
   },
   "outputs": [
    {
     "name": "stderr",
     "output_type": "stream",
     "text": [
      "2024-08-16 13:22:07.475123: W tensorflow/stream_executor/platform/default/dso_loader.cc:64] Could not load dynamic library 'libcudart.so.11.0'; dlerror: libcudart.so.11.0: cannot open shared object file: No such file or directory\n",
      "2024-08-16 13:22:07.475173: I tensorflow/stream_executor/cuda/cudart_stub.cc:29] Ignore above cudart dlerror if you do not have a GPU set up on your machine.\n"
     ]
    }
   ],
   "source": [
    "# import system modules\n",
    "import sys\n",
    "import os\n",
    "import gc\n",
    "\n",
    "# import standard numerical modules\n",
    "import numpy as np\n",
    "import math\n",
    "\n",
    "import matplotlib.pyplot as plt\n",
    "\n",
    "# import machine learning modules\n",
    "import tensorflow as tf\n",
    "import keras.backend as K\n",
    "\n",
    "sys.path.append('../')\n",
    "import DCTR\n"
   ]
  },
  {
   "cell_type": "markdown",
   "metadata": {},
   "source": [
    "# Process Data"
   ]
  },
  {
   "cell_type": "code",
   "execution_count": 2,
   "metadata": {},
   "outputs": [],
   "source": [
    "data_dir = '../../Data'\n",
    "num_events = int(5e8) # 985997 num MiNNLO events\n"
   ]
  },
  {
   "cell_type": "markdown",
   "metadata": {},
   "source": [
    "## hvq dielptonic\n"
   ]
  },
  {
   "cell_type": "code",
   "execution_count": 3,
   "metadata": {},
   "outputs": [
    {
     "ename": "FileNotFoundError",
     "evalue": "[Errno 2] No such file or directory: '../../Data/POWHEG_hvq/dileptonic/jet_multiplicity_hvq_dileptonic_1M_1.npy'",
     "output_type": "error",
     "traceback": [
      "\u001b[0;31m---------------------------------------------------------------------------\u001b[0m",
      "\u001b[0;31mFileNotFoundError\u001b[0m                         Traceback (most recent call last)",
      "Cell \u001b[0;32mIn[3], line 11\u001b[0m\n\u001b[1;32m      6\u001b[0m \u001b[38;5;28;01mfor\u001b[39;00m i \u001b[38;5;129;01min\u001b[39;00m \u001b[38;5;28mrange\u001b[39m(\u001b[38;5;241m1\u001b[39m, \u001b[38;5;241m21\u001b[39m):\n\u001b[1;32m      7\u001b[0m     X0\u001b[38;5;241m.\u001b[39mappend(\n\u001b[1;32m      8\u001b[0m         np\u001b[38;5;241m.\u001b[39mload(\u001b[38;5;124mf\u001b[39m\u001b[38;5;124m'\u001b[39m\u001b[38;5;132;01m{\u001b[39;00mdata_dir\u001b[38;5;132;01m}\u001b[39;00m\u001b[38;5;124m/POWHEG_hvq/dileptonic/converted_lhe_hvq_dileptonic_1M_\u001b[39m\u001b[38;5;132;01m{\u001b[39;00mi\u001b[38;5;132;01m}\u001b[39;00m\u001b[38;5;124m.npy\u001b[39m\u001b[38;5;124m'\u001b[39m)\n\u001b[1;32m      9\u001b[0m     )\n\u001b[1;32m     10\u001b[0m     X0_nJets\u001b[38;5;241m.\u001b[39mappend(\n\u001b[0;32m---> 11\u001b[0m         \u001b[43mnp\u001b[49m\u001b[38;5;241;43m.\u001b[39;49m\u001b[43mload\u001b[49m\u001b[43m(\u001b[49m\u001b[38;5;124;43mf\u001b[39;49m\u001b[38;5;124;43m'\u001b[39;49m\u001b[38;5;132;43;01m{\u001b[39;49;00m\u001b[43mdata_dir\u001b[49m\u001b[38;5;132;43;01m}\u001b[39;49;00m\u001b[38;5;124;43m/POWHEG_hvq/dileptonic/jet_multiplicity_hvq_dileptonic_1M_\u001b[39;49m\u001b[38;5;132;43;01m{\u001b[39;49;00m\u001b[43mi\u001b[49m\u001b[38;5;132;43;01m}\u001b[39;49;00m\u001b[38;5;124;43m.npy\u001b[39;49m\u001b[38;5;124;43m'\u001b[39;49m\u001b[43m)\u001b[49m\n\u001b[1;32m     12\u001b[0m     )\n\u001b[1;32m     13\u001b[0m     X0_jet\u001b[38;5;241m.\u001b[39mappend(\n\u001b[1;32m     14\u001b[0m         np\u001b[38;5;241m.\u001b[39mload(\u001b[38;5;124mf\u001b[39m\u001b[38;5;124m'\u001b[39m\u001b[38;5;132;01m{\u001b[39;00mdata_dir\u001b[38;5;132;01m}\u001b[39;00m\u001b[38;5;124m/POWHEG_hvq/dileptonic/jet_4vectors_hvq_dileptonic_1M_\u001b[39m\u001b[38;5;132;01m{\u001b[39;00mi\u001b[38;5;132;01m}\u001b[39;00m\u001b[38;5;124m.npy\u001b[39m\u001b[38;5;124m'\u001b[39m)\n\u001b[1;32m     15\u001b[0m     )\n\u001b[1;32m     17\u001b[0m \u001b[38;5;66;03m# nrm data and save to disk (only needed to run once)\u001b[39;00m\n",
      "File \u001b[0;32m~/miniconda3/envs/tf/lib/python3.9/site-packages/numpy/lib/npyio.py:427\u001b[0m, in \u001b[0;36mload\u001b[0;34m(file, mmap_mode, allow_pickle, fix_imports, encoding, max_header_size)\u001b[0m\n\u001b[1;32m    425\u001b[0m     own_fid \u001b[38;5;241m=\u001b[39m \u001b[38;5;28;01mFalse\u001b[39;00m\n\u001b[1;32m    426\u001b[0m \u001b[38;5;28;01melse\u001b[39;00m:\n\u001b[0;32m--> 427\u001b[0m     fid \u001b[38;5;241m=\u001b[39m stack\u001b[38;5;241m.\u001b[39menter_context(\u001b[38;5;28;43mopen\u001b[39;49m\u001b[43m(\u001b[49m\u001b[43mos_fspath\u001b[49m\u001b[43m(\u001b[49m\u001b[43mfile\u001b[49m\u001b[43m)\u001b[49m\u001b[43m,\u001b[49m\u001b[43m \u001b[49m\u001b[38;5;124;43m\"\u001b[39;49m\u001b[38;5;124;43mrb\u001b[39;49m\u001b[38;5;124;43m\"\u001b[39;49m\u001b[43m)\u001b[49m)\n\u001b[1;32m    428\u001b[0m     own_fid \u001b[38;5;241m=\u001b[39m \u001b[38;5;28;01mTrue\u001b[39;00m\n\u001b[1;32m    430\u001b[0m \u001b[38;5;66;03m# Code to distinguish from NumPy binary files and pickles.\u001b[39;00m\n",
      "\u001b[0;31mFileNotFoundError\u001b[0m: [Errno 2] No such file or directory: '../../Data/POWHEG_hvq/dileptonic/jet_multiplicity_hvq_dileptonic_1M_1.npy'"
     ]
    }
   ],
   "source": [
    "# dileptonic hvq has 1M events per LHE\n",
    "\n",
    "X0 = []\n",
    "X0_nJets = []\n",
    "X0_jet = []\n",
    "for i in range(1, 21):\n",
    "    X0.append(\n",
    "        np.load(f'{data_dir}/POWHEG_hvq/dileptonic/converted_lhe_hvq_dileptonic_1M_{i}.npy')\n",
    "    )\n",
    "    X0_nJets.append(\n",
    "        np.load(f'{data_dir}/POWHEG_hvq/dileptonic/jet_multiplicity_hvq_dileptonic_1M_{i}.npy')\n",
    "    )\n",
    "    X0_jet.append(\n",
    "        np.load(f'{data_dir}/POWHEG_hvq/dileptonic/jet_4vectors_hvq_dileptonic_1M_{i}.npy')\n",
    "    )\n",
    "\n",
    "# nrm data and save to disk (only needed to run once)\n",
    "\n",
    "nrm_array_dir = f'{data_dir}/POWHEG_hvq/showered/'\n",
    "nrm_array = np.load(f'{nrm_array_dir}/norm_array_lhe_01.npy')\n",
    "X0_nrm, _ = DCTR.normalize_data(X0.copy(), nrm_array)\n",
    "X0_nrm = np.array(X0_nrm)\n",
    "np.save(f'{data_dir}/POWHEG_hvq/dileptonic/normed_lhe_hvq_dileptonic_1M_1-20.npy', X0_nrm)\n",
    "\n",
    "X0       = np.array(X0[num_events])\n",
    "X0_nJets = np.array(X0_nJets[num_events])\n",
    "X0_jet   = np.array(X0_jet[num_events])\n",
    "\n",
    "X0_nrm = np.load(f'{data_dir}/POWHEG_hvq/dileptonic/normed_lhe_hvq_dileptonic_1M_1-20.npy')[:num_events]\n",
    "X0_wgt = X0_nJets[:,1]\n",
    "\n",
    "print(X0.shape)\n",
    "print(X0_nrm.shape)\n",
    "print(X0_nJets.shape)\n",
    "print(X0_jet.shape)\n"
   ]
  },
  {
   "cell_type": "markdown",
   "metadata": {},
   "source": [
    "## MiNNLO"
   ]
  },
  {
   "cell_type": "code",
   "execution_count": null,
   "metadata": {},
   "outputs": [],
   "source": [
    "# MiNNLO has 10k events per lhe\n",
    "\n",
    "X1 = []\n",
    "X1_nJets = []\n",
    "X1_jet = []\n",
    "\n",
    "for i in range(1, 1001):\n",
    "    X1.extend(\n",
    "        np.load(f'{data_dir}/MiNNLO/showered/converted_lhe_MiNNLO_10K_{i}.npy')\n",
    "    )\n",
    "    X1_nJets.extend(\n",
    "        np.load(f'{data_dir}/MiNNLO/showered/jet_multiplicity_MiNNLO_10K_{i}.npy')\n",
    "    )\n",
    "    X1_jet.extend(\n",
    "        np.load(f'{data_dir}/MiNNLO/showered/jet_4vectors_MiNNLO_10K_{i}.npy')\n",
    "    )\n",
    "\n",
    "\n",
    "# nrm data and save to disk (only needed to run once)\n",
    "\n",
    "nrm_array_dir = f'{data_dir}/POWHEG_hvq/showered/'\n",
    "nrm_array = np.load(f'{nrm_array_dir}/norm_array_lhe_01.npy')\n",
    "X1_nrm, _ = DCTR.normalize_data(X1.copy(), nrm_array)\n",
    "np.save(f'{data_dir}/MiNNLO/showered/normed_lhe_MiNNLO_10K_1-1000.npy', X1_nrm)\n",
    "\n",
    "\n",
    "X1       = np.array(X1[:num_events])\n",
    "X1_nJets = np.array(X1_nJets[:num_events])\n",
    "X1_jet   = np.array(X1_jet[:num_events])\n",
    "\n",
    "X1_nrm = np.load(f'{data_dir}/MiNNLO/showered/normed_lhe_MiNNLO_10K_1-1000.npy')[:num_events]\n",
    "X1_wgt = X1_nJets[:, 1]\n",
    "\n",
    "print(X1.shape)\n",
    "print(X1_nrm.shape)\n",
    "print(X1_nJets.shape)\n",
    "print(X1_jet.shape)\n"
   ]
  },
  {
   "cell_type": "code",
   "execution_count": null,
   "metadata": {},
   "outputs": [],
   "source": []
  },
  {
   "cell_type": "code",
   "execution_count": null,
   "metadata": {},
   "outputs": [],
   "source": []
  },
  {
   "cell_type": "markdown",
   "metadata": {},
   "source": [
    "# prepare datasets"
   ]
  },
  {
   "cell_type": "code",
   "execution_count": null,
   "metadata": {},
   "outputs": [],
   "source": [
    "# delete energy from (normalized) testing dataset, since the neural network was trained without these parameters\n",
    "X0_nrm = np.delete(X0_nrm, 5, -1) # E\n",
    "X0_nrm = np.delete(X0_nrm, 4, -1) # eta\n",
    "\n",
    "# garbage collection after deleting to clear memory asap\n",
    "print(gc.collect())\n",
    "\n",
    "print(X0_nrm.shape)\n",
    "print(X0_nrm[0])\n"
   ]
  },
  {
   "cell_type": "code",
   "execution_count": null,
   "metadata": {},
   "outputs": [],
   "source": []
  },
  {
   "cell_type": "markdown",
   "metadata": {},
   "source": [
    "# compare datasets before reweighting"
   ]
  },
  {
   "cell_type": "markdown",
   "metadata": {},
   "source": [
    "### hvq"
   ]
  },
  {
   "cell_type": "code",
   "execution_count": null,
   "metadata": {},
   "outputs": [],
   "source": [
    "# jet multiplicity\n",
    "\n",
    "args_multiplicity = [(X0_minPT_15_nJets[:,0], X0_wgt, 'Jet minPT 15 Multiplicity NLO (hvq) \\n dileptonic decays'),\n",
    "                     (X0_minPT_30_nJets[:,0], X0_wgt, 'Jet minPT 30 Multiplicity NLO (hvq) \\n dileptonic decays'),\n",
    "                     (X0_minPT_50_nJets[:,0], X0_wgt, 'Jet minPT 50 Multiplicity NLO (hvq) \\n dileptonic decays')]\n",
    "\n",
    "\n",
    "bins = np.linspace(-0.5, 10.5, 12)\n",
    "\n",
    "DCTR.plot_ratio_cms(args_multiplicity, bins = bins, y_scale = 'log', ratio_ylim=[0.7, 1.3], part_label='Jet', arg_label='multiplicity', unit='', inv_unit='')\n"
   ]
  },
  {
   "cell_type": "markdown",
   "metadata": {},
   "source": [
    "### MiNNLO"
   ]
  },
  {
   "cell_type": "code",
   "execution_count": null,
   "metadata": {},
   "outputs": [],
   "source": [
    "# jet multiplicity\n",
    "\n",
    "args_multiplicity = [(X1_minPT_15_nJets[:,0], X1_wgt, 'Jet minPT 15 Multiplicity NNLO (MiNNLO) \\n dileptonic decays'),\n",
    "                     (X1_minPT_30_nJets[:,0], X1_wgt, 'Jet minPT 30 Multiplicity NNLO (MiNNLO) \\n dileptonic decays'),\n",
    "                     (X1_minPT_50_nJets[:,0], X1_wgt, 'Jet minPT 50 Multiplicity NNLO (MiNNLO) \\n dileptonic decays')]\n",
    "\n",
    "\n",
    "bins = np.linspace(-0.5, 10.5, 12)\n",
    "\n",
    "DCTR.plot_ratio_cms(args_multiplicity, bins = bins, y_scale = 'log', ratio_ylim=[0.7, 1.3], part_label='Jet', arg_label='multiplicity', unit='', inv_unit='')\n"
   ]
  },
  {
   "cell_type": "markdown",
   "metadata": {},
   "source": [
    "## hvq vs MiNNLO"
   ]
  },
  {
   "cell_type": "code",
   "execution_count": null,
   "metadata": {},
   "outputs": [],
   "source": [
    "# jet multiplicity\n",
    "\n",
    "args_multiplicity = [(X0_minPT_15_nJets[:,0], X0_wgt, 'Jet minPT 15 Multiplicity NLO (hvq) \\n dileptonic decays'),\n",
    "                     (X1_minPT_15_nJets[:,0], X1_wgt, 'Jet minPT 15 Multiplicity NNLO (MiNNLO) \\n dileptonic decays')]\n",
    "\n",
    "\n",
    "bins = np.linspace(-0.5, 10.5, 12)\n",
    "\n",
    "DCTR.plot_ratio_cms_2(args_multiplicity, bins = bins, y_scale = 'log', ratio_ylim=[0.7, 1.3], part_label='Jet', arg_label='multiplicity', unit='', inv_unit='')\n",
    "\n",
    "\n",
    "# jet multiplicity\n",
    "\n",
    "args_multiplicity = [(X0_minPT_30_nJets[:,0], X0_wgt, 'Jet minPT 30 Multiplicity NLO (hvq) \\n dileptonic decays'),\n",
    "                     (X1_minPT_30_nJets[:,0], X1_wgt, 'Jet minPT 30 Multiplicity NNLO (MiNNLO) \\n dileptonic decays')]\n",
    "\n",
    "\n",
    "DCTR.plot_ratio_cms_2(args_multiplicity, bins = bins, y_scale = 'log', ratio_ylim=[0.7, 1.3], part_label='Jet', arg_label='multiplicity', unit='', inv_unit='')\n",
    "\n",
    "\n",
    "# jet multiplicity\n",
    "\n",
    "args_multiplicity = [(X0_minPT_50_nJets[:,0], X0_wgt, 'Jet minPT 50 Multiplicity NLO (hvq) \\n dileptonic decays'),\n",
    "                     (X1_minPT_50_nJets[:,0], X1_wgt, 'Jet minPT 50 Multiplicity NNLO (MiNNLO) \\n dileptonic decays')]\n",
    "\n",
    "\n",
    "DCTR.plot_ratio_cms_2(args_multiplicity, bins = bins, y_scale = 'log', ratio_ylim=[0.7, 1.3], part_label='Jet', arg_label='multiplicity', unit='', inv_unit='')\n",
    "\n"
   ]
  },
  {
   "cell_type": "code",
   "execution_count": null,
   "metadata": {},
   "outputs": [],
   "source": []
  },
  {
   "cell_type": "markdown",
   "metadata": {},
   "source": [
    "### pT(tt)"
   ]
  },
  {
   "cell_type": "code",
   "execution_count": null,
   "metadata": {},
   "outputs": [],
   "source": [
    "# jet cut_off should have no impact on parton pT\n",
    "\n",
    "# hvq\n",
    "args = [(X0_minPT_15, X0_wgt, 'showered NLO (hvq) Jet minPT 15 \\n dileptonic decays'),\n",
    "        (X0_minPT_30, X0_wgt, 'showered NLO (hvq) Jet minPT 30 \\n dileptonic decays'),\n",
    "        (X0_minPT_50, X0_wgt, 'showered NLO (hvq) Jet minPT 50 \\n dileptonic decays')]\n",
    "\n",
    "log_bins = np.logspace(np.log10(1), np.log10(1000), 15)\n",
    "\n",
    "\n",
    "DCTR.plot_ratio_cms(args, bins = log_bins, y_scale = 'log', ratio_ylim=[0.8, 1.2])\n",
    "\n",
    "\n",
    "# MiNNLO\n",
    "args = [(X1_minPT_15, X1_wgt, 'showered NNLO (MiNNLO) Jet minPT 15 \\n dileptonic decays'),\n",
    "        (X1_minPT_30, X1_wgt, 'showered NNLO (MiNNLO) Jet minPT 30 \\n dileptonic decays'),\n",
    "        (X1_minPT_50, X1_wgt, 'showered NNLO (MiNNLO) Jet minPT 50 \\n dileptonic decays')]\n",
    "\n",
    "log_bins = np.logspace(np.log10(1), np.log10(1000), 15)\n",
    "\n",
    "\n",
    "DCTR.plot_ratio_cms(args, bins = log_bins, y_scale = 'log', ratio_ylim=[0.8, 1.2])\n",
    "\n"
   ]
  },
  {
   "cell_type": "code",
   "execution_count": null,
   "metadata": {},
   "outputs": [],
   "source": []
  },
  {
   "cell_type": "markdown",
   "metadata": {},
   "source": [
    "# compare against old shower (HadronLevel:all = on)"
   ]
  },
  {
   "cell_type": "code",
   "execution_count": null,
   "metadata": {},
   "outputs": [],
   "source": [
    "num_events_old = 100000\n",
    "# dileptonic hvq has all 1M events in one LHE\n",
    "X0_old = np.load(f'{data_dir}/POWHEG_hvq/dileptonic/converted_lhe_hvq_dileptonic.npy')[:num_events_old]\n",
    "\n",
    "# nrm data and save to disk (only needed to run once)\n",
    "'''\n",
    "nrm_array_dir = f'{data_dir}/POWHEG_hvq/showered/'\n",
    "nrm_array = np.load(f'{nrm_array_dir}/norm_array_lhe_01.npy')\n",
    "X0_old_nrm, _ = DCTR.normalize_data(X0_old.copy(), nrm_array)\n",
    "np.save(f'{data_dir}/POWHEG_hvq/dileptonic/normed_lhe_hvq_dileptonic.npy', X0_old_nrm)\n",
    "'''\n",
    "\n",
    "X0_old_nrm = np.array(np.load(f'{data_dir}/POWHEG_hvq/dileptonic/normed_lhe_hvq_dileptonic.npy')[:num_events_old])\n",
    "\n",
    "X0_old_nJets = np.array(np.load(f'{data_dir}/POWHEG_hvq/dileptonic/jet_multiplicity_hvq_dileptonic.npy')[:num_events_old])\n",
    "\n",
    "X0_old_wgt = X0_old_nJets[:, 1]\n",
    "\n",
    "X0_old_jet = np.array(np.load(f'{data_dir}/POWHEG_hvq/dileptonic/jet_4vectors_hvq_dileptonic.npy')[:num_events_old])\n",
    "\n",
    "print(X0_old.shape)\n",
    "print(X0_old_nrm.shape)\n",
    "print(X0_old_nJets.shape)\n",
    "print(X0_old_jet.shape)\n"
   ]
  },
  {
   "cell_type": "code",
   "execution_count": null,
   "metadata": {},
   "outputs": [],
   "source": [
    "# jet multiplicity\n",
    "args_multiplicity = [(X0_minPT_30_nJets[:,0], X0_wgt, 'Jet minPT 30 Multiplicity NLO (hvq) NEW'),\n",
    "                     (X0_old_nJets[:,0], X0_old_wgt, 'Jet minPT 30 Multiplicity NLO (hvq) OLD \\n With HadronLevel:all = on')]\n",
    "\n",
    "\n",
    "bins = np.linspace(-0.5, 12.5, 14)\n",
    "\n",
    "DCTR.plot_ratio_cms_2(args_multiplicity, bins = bins, y_scale = 'log', ratio_ylim=[0.7, 1.3], part_label='Jet', arg_label='multiplicity', unit='', inv_unit='')\n"
   ]
  },
  {
   "cell_type": "code",
   "execution_count": null,
   "metadata": {},
   "outputs": [],
   "source": [
    "# pT\n",
    "args = [(X0_minPT_30, X0_wgt, 'Jet minPT 30 NLO (hvq) NEW'),\n",
    "        (X0_old, X0_old_wgt, 'Jet minPT 30 NLO (hvq) OLD \\n With HadronLevel:all = on')]\n",
    "\n",
    "\n",
    "\n",
    "bins = np.logspace(np.log10(1), np.log10(800), 15)\n",
    "\n",
    "DCTR.plot_ratio_cms_2(args, bins = bins, y_scale = 'log', ratio_ylim=[0.7, 1.3])\n"
   ]
  },
  {
   "cell_type": "code",
   "execution_count": null,
   "metadata": {},
   "outputs": [],
   "source": []
  },
  {
   "cell_type": "markdown",
   "metadata": {},
   "source": [
    "# DCTR reweighting\n"
   ]
  },
  {
   "cell_type": "code",
   "execution_count": null,
   "metadata": {},
   "outputs": [],
   "source": [
    "# calculate weights from DCTR trained on showered events\n",
    "model = '../20240521_showered_new/train_20240523_regular_epochs.tf' # path to previously trained model (in .tf format (folder)) for showered events\n",
    "\n",
    "dctr_rwgt = []\n",
    "# calculate rwgt\n",
    "with tf.device('CPU'):\n",
    "    dctr_rwgt_minPT_15 = DCTR.get_rwgt([model], X0_minPT_15_nrm) # .tf models also include network architecture. get_rwgt() sets up the network for the (list of) models, then calls predict_weights() like in DCTR_notebook_OLD_14-to-13TeV notebook\n",
    "\n",
    "wgts_plot = [(dctr_rwgt_minPT_15[0], r'DCTR NLO $\\to$ NNLO reweights minPT 15')]\n",
    "\n",
    "DCTR.plot_weights(wgts_plot, start = 0.1, stop = 10)\n",
    "\n",
    "# apply orginal generator weights to rwgt\n",
    "dctr_rwgt_minPT_15 = np.multiply(dctr_rwgt_minPT_15[0], X0_wgt)\n",
    "\n"
   ]
  },
  {
   "cell_type": "code",
   "execution_count": null,
   "metadata": {},
   "outputs": [],
   "source": [
    "# calculate weights from DCTR trained on showered events\n",
    "model = '../20240521_showered_new/train_20240523_regular_epochs.tf' # path to previously trained model (in .tf format (folder)) for showered events\n",
    "\n",
    "dctr_rwgt = []\n",
    "# calculate rwgt\n",
    "with tf.device('CPU'):\n",
    "    dctr_rwgt_minPT_30 = DCTR.get_rwgt([model], X0_minPT_30_nrm) # .tf models also include network architecture. get_rwgt() sets up the network for the (list of) models, then calls predict_weights() like in DCTR_notebook_OLD_14-to-13TeV notebook\n",
    "\n",
    "wgts_plot = [(dctr_rwgt_minPT_30[0], r'DCTR NLO $\\to$ NNLO reweights minPT 30')]\n",
    "\n",
    "DCTR.plot_weights(wgts_plot, start = 0.1, stop = 10)\n",
    "\n",
    "# apply orginal generator weights to rwgt\n",
    "dctr_rwgt_minPT_30 = np.multiply(dctr_rwgt_minPT_30[0], X0_wgt)\n",
    "\n"
   ]
  },
  {
   "cell_type": "code",
   "execution_count": null,
   "metadata": {},
   "outputs": [],
   "source": [
    "# calculate weights from DCTR trained on showered events\n",
    "model = '../20240521_showered_new/train_20240523_regular_epochs.tf' # path to previously trained model (in .tf format (folder)) for showered events\n",
    "\n",
    "dctr_rwgt = []\n",
    "# calculate rwgt\n",
    "with tf.device('CPU'):\n",
    "    dctr_rwgt_minPT_50 = DCTR.get_rwgt([model], X0_minPT_50_nrm) # .tf models also include network architecture. get_rwgt() sets up the network for the (list of) models, then calls predict_weights() like in DCTR_notebook_OLD_14-to-13TeV notebook\n",
    "\n",
    "wgts_plot = [(dctr_rwgt_minPT_50[0], r'DCTR NLO $\\to$ NNLO reweights minPT 50')]\n",
    "\n",
    "DCTR.plot_weights(wgts_plot, start = 0.1, stop = 10)\n",
    "\n",
    "# apply orginal generator weights to rwgt\n",
    "dctr_rwgt_minPT_50 = np.multiply(dctr_rwgt_minPT_50[0], X0_wgt)\n",
    "\n"
   ]
  },
  {
   "cell_type": "code",
   "execution_count": null,
   "metadata": {},
   "outputs": [],
   "source": []
  },
  {
   "cell_type": "code",
   "execution_count": null,
   "metadata": {},
   "outputs": [],
   "source": [
    "# jet multiplicity\n",
    "\n",
    "args_multiplicity = [(X1_minPT_15_nJets[:,0], X1_wgt, 'Jet minPT 15 Multiplicity NNLO (MiNNLO) \\n dileptonic decays'),\n",
    "                     (X0_minPT_15_nJets[:,0], X0_wgt, 'Jet minPT 15 Multiplicity NLO (hvq) \\n dileptonic decays'),\n",
    "                     (X0_minPT_15_nJets[:,0], dctr_rwgt_minPT_15, r'DCTR reweighted NLO $\\to$ NNLO')]\n",
    "\n",
    "bins = np.linspace(-0.5, 10.5, 12)\n",
    "ratio_ylim=[0.7, 1.3]\n",
    "\n",
    "\n",
    "DCTR.plot_ratio_cms(args_multiplicity, bins = bins, y_scale = 'log', ratio_ylim=ratio_ylim, part_label='Jet', arg_label='multiplicity', unit='', inv_unit='')\n",
    "\n",
    "\n",
    "\n",
    "args_multiplicity = [(X1_minPT_30_nJets[:,0], X1_wgt, 'Jet minPT 30 Multiplicity NNLO (MiNNLO) \\n dileptonic decays'),\n",
    "                     (X0_minPT_30_nJets[:,0], X0_wgt, 'Jet minPT 30 Multiplicity NLO (hvq) \\n dileptonic decays'),\n",
    "                     (X0_minPT_30_nJets[:,0], dctr_rwgt_minPT_30, r'DCTR reweighted NLO $\\to$ NNLO')]\n",
    "\n",
    "DCTR.plot_ratio_cms(args_multiplicity, bins = bins, y_scale = 'log', ratio_ylim=ratio_ylim, part_label='Jet', arg_label='multiplicity', unit='', inv_unit='')\n",
    "\n",
    "\n",
    "\n",
    "args_multiplicity = [(X1_minPT_50_nJets[:,0], X1_wgt, 'Jet minPT 50 Multiplicity NNLO (MiNNLO) \\n dileptonic decays'),\n",
    "                     (X0_minPT_50_nJets[:,0], X0_wgt, 'Jet minPT 50 Multiplicity NLO (hvq) \\n dileptonic decays'),\n",
    "                     (X0_minPT_50_nJets[:,0], dctr_rwgt_minPT_50, r'DCTR reweighted NLO $\\to$ NNLO')]\n",
    "\n",
    "DCTR.plot_ratio_cms(args_multiplicity, bins = bins, y_scale = 'log', ratio_ylim=ratio_ylim, part_label='Jet', arg_label='multiplicity', unit='', inv_unit='')\n",
    "\n"
   ]
  },
  {
   "cell_type": "code",
   "execution_count": null,
   "metadata": {},
   "outputs": [],
   "source": [
    "# pT\n",
    "\n",
    "# jet multiplicity\n",
    "\n",
    "args = [(X1_minPT_15, X1_wgt, 'Jet minPT 15 NNLO (MiNNLO) \\n dileptonic decays'),\n",
    "        (X0_minPT_15, X0_wgt, 'Jet minPT 15 NLO (hvq) \\n dileptonic decays'),\n",
    "        (X0_minPT_15, dctr_rwgt_minPT_15, r'DCTR reweighted NLO $\\to$ NNLO')]\n",
    "\n",
    "\n",
    "bins = np.logspace(np.log10(1), np.log10(800), 15)\n",
    "\n",
    "DCTR.plot_ratio_cms(args, bins = bins, y_scale = 'log', ratio_ylim=[0.7, 1.3])\n",
    "\n",
    "\n",
    "# jet multiplicity\n",
    "\n",
    "args = [(X1_minPT_30, X1_wgt, 'Jet minPT 30 NNLO (MiNNLO) \\n dileptonic decays'),\n",
    "        (X0_minPT_30, X0_wgt, 'Jet minPT 30 NLO (hvq) \\n dileptonic decays'),\n",
    "        (X0_minPT_30, dctr_rwgt_minPT_30, r'DCTR reweighted NLO $\\to$ NNLO')]\n",
    "\n",
    "\n",
    "DCTR.plot_ratio_cms(args, bins = bins, y_scale = 'log', ratio_ylim=[0.7, 1.3])\n",
    "\n",
    "\n",
    "# jet multiplicity\n",
    "\n",
    "\n",
    "args = [(X1_minPT_50, X1_wgt, 'Jet minPT 50 NNLO (MiNNLO) \\n dileptonic decays'),\n",
    "        (X0_minPT_50, X0_wgt, 'Jet minPT 50 NLO (hvq) \\n dileptonic decays'),\n",
    "        (X0_minPT_50, dctr_rwgt_minPT_50, r'DCTR reweighted NLO $\\to$ NNLO')]\n",
    "\n",
    "\n",
    "DCTR.plot_ratio_cms(args, bins = bins, y_scale = 'log', ratio_ylim=[0.7, 1.3])\n",
    "\n"
   ]
  },
  {
   "cell_type": "code",
   "execution_count": null,
   "metadata": {},
   "outputs": [],
   "source": []
  },
  {
   "cell_type": "code",
   "execution_count": null,
   "metadata": {},
   "outputs": [],
   "source": []
  },
  {
   "cell_type": "code",
   "execution_count": null,
   "metadata": {},
   "outputs": [],
   "source": []
  },
  {
   "cell_type": "code",
   "execution_count": null,
   "metadata": {},
   "outputs": [],
   "source": []
  },
  {
   "cell_type": "markdown",
   "metadata": {},
   "source": [
    "# jet p_t min pt 15"
   ]
  },
  {
   "cell_type": "code",
   "execution_count": null,
   "metadata": {},
   "outputs": [],
   "source": []
  },
  {
   "cell_type": "code",
   "execution_count": null,
   "metadata": {},
   "outputs": [],
   "source": [
    "log_bins = np.logspace(np.log10(30), np.log10(800), 15)\n",
    "\n",
    "args_jet_0 = [(X1_minPT_15_jet[:, 0, 0], X1_wgt, 'NNLO (MiNNLO)'),\n",
    "              (X0_minPT_15_jet[:, 0, 0], X0_wgt, 'NLO (hvq)'),\n",
    "              (X0_minPT_15_jet[:, 0, 0], dctr_rwgt_minPT_15, 'dctr reweighted')]\n",
    "\n",
    "DCTR.plot_ratio_cms(args_jet_0, bins = log_bins, y_scale = 'log', part_label='First Jet', ratio_ylim=(0.7, 1.3))\n",
    "\n",
    "log_bins = np.logspace(np.log10(30), np.log10(600), 15)\n",
    "args_jet_1 = [(X1_minPT_15_jet[:, 1, 0], X1_wgt, 'NNLO (MiNNLO)'),\n",
    "              (X0_minPT_15_jet[:, 1, 0], X0_wgt, 'NLO (hvq)'),\n",
    "              (X0_minPT_15_jet[:, 1, 0], dctr_rwgt_minPT_15, 'dctr reweighted')]\n",
    "\n",
    "DCTR.plot_ratio_cms(args_jet_1, bins = log_bins, y_scale = 'log', part_label='2. Jet', ratio_ylim=(0.7, 1.3))\n",
    "\n",
    "log_bins = np.logspace(np.log10(30), np.log10(500), 15)\n",
    "args_jet_2 = [(X1_minPT_15_jet[:, 2, 0], X1_wgt, 'NNLO (MiNNLO)'),\n",
    "              (X0_minPT_15_jet[:, 2, 0], X0_wgt, 'NLO (hvq)'),\n",
    "              (X0_minPT_15_jet[:, 2, 0], dctr_rwgt_minPT_15, 'dctr reweighted')]\n",
    "\n",
    "DCTR.plot_ratio_cms(args_jet_2, bins = log_bins, y_scale = 'log', part_label='3. Jet', ratio_ylim=(0.7, 1.3))\n",
    "\n",
    "log_bins = np.logspace(np.log10(30), np.log10(200), 15)\n",
    "args_jet_3 = [(X1_minPT_15_jet[:, 3, 0], X1_wgt, 'NNLO (MiNNLO)'),\n",
    "              (X0_minPT_15_jet[:, 3, 0], X0_wgt, 'NLO (hvq)'),\n",
    "              (X0_minPT_15_jet[:, 3, 0], dctr_rwgt_minPT_15, 'dctr reweighted')]\n",
    "\n",
    "DCTR.plot_ratio_cms(args_jet_3, bins = log_bins, y_scale = 'log', part_label='4. Jet', ratio_ylim=(0.7, 1.3))\n",
    "\n"
   ]
  },
  {
   "cell_type": "code",
   "execution_count": null,
   "metadata": {},
   "outputs": [],
   "source": [
    "# sum of jet pt per event\n",
    "\n",
    "X0_minPT_15_jet_pt_sums = []\n",
    "for event in X0_minPT_15_jet:\n",
    "    X0_minPT_15_jet_pt_sums.append(np.sum(event[:,0]))\n",
    "\n",
    "X1_minPT_15_jet_pt_sums = []\n",
    "for event in X1_minPT_15_jet:\n",
    "    X1_minPT_15_jet_pt_sums.append(np.sum(event[:,0]))\n",
    "\n",
    "    \n",
    "print(f'{np.shape(X0_minPT_15_jet_pt_sums) = }')\n",
    "print(f'{np.shape(X1_minPT_15_jet_pt_sums) = }')\n",
    "log_bins = np.logspace(np.log10(10), np.log10(1000), 15)\n",
    "\n",
    "args_jet_sum = [(np.array(X1_minPT_15_jet_pt_sums), X1_wgt, 'NNLO (MiNNLO)'),\n",
    "                (np.array(X0_minPT_15_jet_pt_sums), X0_wgt, 'NLO (hvq)'),\n",
    "                (np.array(X0_minPT_15_jet_pt_sums), dctr_rwgt_minPT_15, 'dctr reweighted')]\n",
    "\n",
    "#log_bins = np.logspace(np.log10(30), np.log10(1000), 15)\n",
    "lin_bins = np.linspace(15, 800, 15)\n",
    "\n",
    "DCTR.plot_ratio_cms(args_jet_sum, bins = lin_bins, y_scale = 'log', part_label='Sum of Jets', ratio_ylim=(0.9, 1.1))\n",
    "\n",
    "\n"
   ]
  },
  {
   "cell_type": "code",
   "execution_count": null,
   "metadata": {},
   "outputs": [],
   "source": []
  },
  {
   "cell_type": "markdown",
   "metadata": {},
   "source": [
    "# jet p_t min pt 30"
   ]
  },
  {
   "cell_type": "code",
   "execution_count": null,
   "metadata": {},
   "outputs": [],
   "source": [
    "# jet p_t min pt 30\n",
    "log_bins = np.logspace(np.log10(30), np.log10(800), 15)\n",
    "\n",
    "args_jet_0 = [(X1_minPT_50_jet[:, 0, 0], X1_wgt, 'NNLO (MiNNLO)'),\n",
    "              (X0_minPT_50_jet[:, 0, 0], X0_wgt, 'NLO (hvq)'),\n",
    "              (X0_minPT_50_jet[:, 0, 0], dctr_rwgt_minPT_50, 'dctr reweighted')]\n",
    "\n",
    "DCTR.plot_ratio_cms(args_jet_0, bins = log_bins, y_scale = 'log', part_label='First Jet', ratio_ylim=(0.7, 1.3))\n",
    "\n",
    "log_bins = np.logspace(np.log10(30), np.log10(600), 15)\n",
    "args_jet_1 = [(X1_minPT_50_jet[:, 1, 0], X1_wgt, 'NNLO (MiNNLO)'),\n",
    "              (X0_minPT_50_jet[:, 1, 0], X0_wgt, 'NLO (hvq)'),\n",
    "              (X0_minPT_50_jet[:, 1, 0], dctr_rwgt_minPT_50, 'dctr reweighted')]\n",
    "\n",
    "DCTR.plot_ratio_cms(args_jet_1, bins = log_bins, y_scale = 'log', part_label='2. Jet', ratio_ylim=(0.7, 1.3))\n",
    "\n",
    "log_bins = np.logspace(np.log10(30), np.log10(500), 15)\n",
    "args_jet_2 = [(X1_minPT_50_jet[:, 2, 0], X1_wgt, 'NNLO (MiNNLO)'),\n",
    "              (X0_minPT_50_jet[:, 2, 0], X0_wgt, 'NLO (hvq)'),\n",
    "              (X0_minPT_50_jet[:, 2, 0], dctr_rwgt_minPT_50, 'dctr reweighted')]\n",
    "\n",
    "DCTR.plot_ratio_cms(args_jet_2, bins = log_bins, y_scale = 'log', part_label='3. Jet', ratio_ylim=(0.7, 1.3))\n",
    "\n",
    "log_bins = np.logspace(np.log10(30), np.log10(200), 15)\n",
    "args_jet_3 = [(X1_minPT_50_jet[:, 3, 0], X1_wgt, 'NNLO (MiNNLO)'),\n",
    "              (X0_minPT_50_jet[:, 3, 0], X0_wgt, 'NLO (hvq)'),\n",
    "              (X0_minPT_50_jet[:, 3, 0], dctr_rwgt_minPT_50, 'dctr reweighted')]\n",
    "\n",
    "DCTR.plot_ratio_cms(args_jet_3, bins = log_bins, y_scale = 'log', part_label='4. Jet', ratio_ylim=(0.7, 1.3))\n",
    "\n",
    "\n",
    "# sum of jet pt per event\n",
    "\n",
    "X0_minPT_50_jet_pt_sums = []\n",
    "for event in X0_minPT_50_jet:\n",
    "    X0_minPT_50_jet_pt_sums.append(np.sum(event[:,0]))\n",
    "\n",
    "X1_minPT_50_jet_pt_sums = []\n",
    "for event in X1_minPT_50_jet:\n",
    "    X1_minPT_50_jet_pt_sums.append(np.sum(event[:,0]))\n",
    "\n",
    "    \n",
    "print(f'{np.shape(X0_minPT_50_jet_pt_sums) = }')\n",
    "print(f'{np.shape(X1_minPT_50_jet_pt_sums) = }')\n",
    "log_bins = np.logspace(np.log10(10), np.log10(1000), 15)\n",
    "\n",
    "args_jet_sum = [(np.array(X1_minPT_50_jet_pt_sums), X1_wgt, 'NNLO (MiNNLO)'),\n",
    "                (np.array(X0_minPT_50_jet_pt_sums), X0_wgt, 'NLO (hvq)'),\n",
    "                (np.array(X0_minPT_50_jet_pt_sums), dctr_rwgt_minPT_50, 'dctr reweighted')]\n",
    "\n",
    "#log_bins = np.logspace(np.log10(30), np.log10(1000), 15)\n",
    "lin_bins = np.linspace(30, 800, 15)\n",
    "\n",
    "DCTR.plot_ratio_cms(args_jet_sum, bins = lin_bins, y_scale = 'log', part_label='Sum of Jets', ratio_ylim=(0.9, 1.1))\n",
    "\n",
    "\n"
   ]
  },
  {
   "cell_type": "code",
   "execution_count": null,
   "metadata": {},
   "outputs": [],
   "source": []
  },
  {
   "cell_type": "code",
   "execution_count": null,
   "metadata": {},
   "outputs": [],
   "source": []
  },
  {
   "cell_type": "markdown",
   "metadata": {},
   "source": [
    "# jet p_t min pt 50"
   ]
  },
  {
   "cell_type": "code",
   "execution_count": null,
   "metadata": {},
   "outputs": [],
   "source": [
    "# jet p_t min pt 50\n",
    "log_bins = np.logspace(np.log10(30), np.log10(800), 15)\n",
    "\n",
    "args_jet_0 = [(X1_minPT_30_jet[:, 0, 0], X1_wgt, 'NNLO (MiNNLO)'),\n",
    "              (X0_minPT_30_jet[:, 0, 0], X0_wgt, 'NLO (hvq)'),\n",
    "              (X0_minPT_30_jet[:, 0, 0], dctr_rwgt_minPT_30, 'dctr reweighted')]\n",
    "\n",
    "DCTR.plot_ratio_cms(args_jet_0, bins = log_bins, y_scale = 'log', part_label='First Jet', ratio_ylim=(0.7, 1.3))\n",
    "\n",
    "log_bins = np.logspace(np.log10(30), np.log10(600), 15)\n",
    "args_jet_1 = [(X1_minPT_30_jet[:, 1, 0], X1_wgt, 'NNLO (MiNNLO)'),\n",
    "              (X0_minPT_30_jet[:, 1, 0], X0_wgt, 'NLO (hvq)'),\n",
    "              (X0_minPT_30_jet[:, 1, 0], dctr_rwgt_minPT_30, 'dctr reweighted')]\n",
    "\n",
    "DCTR.plot_ratio_cms(args_jet_1, bins = log_bins, y_scale = 'log', part_label='2. Jet', ratio_ylim=(0.7, 1.3))\n",
    "\n",
    "log_bins = np.logspace(np.log10(30), np.log10(500), 15)\n",
    "args_jet_2 = [(X1_minPT_30_jet[:, 2, 0], X1_wgt, 'NNLO (MiNNLO)'),\n",
    "              (X0_minPT_30_jet[:, 2, 0], X0_wgt, 'NLO (hvq)'),\n",
    "              (X0_minPT_30_jet[:, 2, 0], dctr_rwgt_minPT_30, 'dctr reweighted')]\n",
    "\n",
    "DCTR.plot_ratio_cms(args_jet_2, bins = log_bins, y_scale = 'log', part_label='3. Jet', ratio_ylim=(0.7, 1.3))\n",
    "\n",
    "log_bins = np.logspace(np.log10(30), np.log10(200), 15)\n",
    "args_jet_3 = [(X1_minPT_30_jet[:, 3, 0], X1_wgt, 'NNLO (MiNNLO)'),\n",
    "              (X0_minPT_30_jet[:, 3, 0], X0_wgt, 'NLO (hvq)'),\n",
    "              (X0_minPT_30_jet[:, 3, 0], dctr_rwgt_minPT_30, 'dctr reweighted')]\n",
    "\n",
    "DCTR.plot_ratio_cms(args_jet_3, bins = log_bins, y_scale = 'log', part_label='4. Jet', ratio_ylim=(0.7, 1.3))\n",
    "\n",
    "\n",
    "# sum of jet pt per event\n",
    "\n",
    "X0_minPT_30_jet_pt_sums = []\n",
    "for event in X0_minPT_30_jet:\n",
    "    X0_minPT_30_jet_pt_sums.append(np.sum(event[:,0]))\n",
    "\n",
    "X1_minPT_30_jet_pt_sums = []\n",
    "for event in X1_minPT_30_jet:\n",
    "    X1_minPT_30_jet_pt_sums.append(np.sum(event[:,0]))\n",
    "\n",
    "    \n",
    "print(f'{np.shape(X0_minPT_30_jet_pt_sums) = }')\n",
    "print(f'{np.shape(X1_minPT_30_jet_pt_sums) = }')\n",
    "log_bins = np.logspace(np.log10(10), np.log10(1000), 15)\n",
    "\n",
    "args_jet_sum = [(np.array(X1_minPT_30_jet_pt_sums), X1_wgt, 'NNLO (MiNNLO)'),\n",
    "                (np.array(X0_minPT_30_jet_pt_sums), X0_wgt, 'NLO (hvq)'),\n",
    "                (np.array(X0_minPT_30_jet_pt_sums), dctr_rwgt_minPT_30, 'dctr reweighted')]\n",
    "\n",
    "#log_bins = np.logspace(np.log10(30), np.log10(1000), 15)\n",
    "lin_bins = np.linspace(30, 800, 15)\n",
    "\n",
    "DCTR.plot_ratio_cms(args_jet_sum, bins = lin_bins, y_scale = 'log', part_label='Sum of Jets', ratio_ylim=(0.9, 1.1))\n",
    "\n",
    "\n"
   ]
  }
 ],
 "metadata": {
  "kernelspec": {
   "display_name": "Python 3 (ipykernel)",
   "language": "python",
   "name": "python3"
  },
  "language_info": {
   "codemirror_mode": {
    "name": "ipython",
    "version": 3
   },
   "file_extension": ".py",
   "mimetype": "text/x-python",
   "name": "python",
   "nbconvert_exporter": "python",
   "pygments_lexer": "ipython3",
   "version": "3.9.19"
  }
 },
 "nbformat": 4,
 "nbformat_minor": 4
}
