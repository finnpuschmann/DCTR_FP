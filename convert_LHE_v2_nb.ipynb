{
 "cells": [
  {
   "cell_type": "code",
   "execution_count": 2,
   "metadata": {},
   "outputs": [],
   "source": [
    "import numpy as np\n",
    "import sys\n",
    "sys.path.append('/tf/home/DCTR_BachelorThesis/')\n",
    "import DCTR\n"
   ]
  },
  {
   "cell_type": "code",
   "execution_count": null,
   "id": "003bcbc1",
   "metadata": {},
   "outputs": [],
   "source": [
    "from importlib import reload\n",
    "reload(DCTR)"
   ]
  },
  {
   "cell_type": "markdown",
   "id": "1c655410-2a66-4a78-a4b9-ccb4e769255b",
   "metadata": {},
   "source": [
    "# POWHEG hvq | theta = 0"
   ]
  },
  {
   "cell_type": "code",
   "execution_count": null,
   "metadata": {},
   "outputs": [],
   "source": []
  },
  {
   "cell_type": "code",
   "execution_count": 3,
   "id": "5ede26eb-a040-4147-824d-458f9437bd12",
   "metadata": {
    "tags": []
   },
   "outputs": [
    {
     "name": "stderr",
     "output_type": "stream",
     "text": [
      "/tf/home/DCTR_BachelorThesis/DCTR.py:97: RuntimeWarning: divide by zero encountered in double_scalars\n",
      "  pseudorapidity = 0.5*math.log((p-pz)/(p+pz)) # if this has a domain error, it is caught by process_file() and a counter for failed pseudorapidities is kept.\n",
      "/tf/home/DCTR_BachelorThesis/DCTR.py:97: RuntimeWarning: divide by zero encountered in double_scalars\n",
      "  pseudorapidity = 0.5*math.log((p-pz)/(p+pz)) # if this has a domain error, it is caught by process_file() and a counter for failed pseudorapidities is kept.\n",
      "/tf/home/DCTR_BachelorThesis/DCTR.py:97: RuntimeWarning: divide by zero encountered in double_scalars\n",
      "  pseudorapidity = 0.5*math.log((p-pz)/(p+pz)) # if this has a domain error, it is caught by process_file() and a counter for failed pseudorapidities is kept.\n",
      "/tf/home/DCTR_BachelorThesis/DCTR.py:97: RuntimeWarning: divide by zero encountered in double_scalars\n",
      "  pseudorapidity = 0.5*math.log((p-pz)/(p+pz)) # if this has a domain error, it is caught by process_file() and a counter for failed pseudorapidities is kept.\n",
      "/tf/home/DCTR_BachelorThesis/DCTR.py:97: RuntimeWarning: divide by zero encountered in double_scalars\n",
      "  pseudorapidity = 0.5*math.log((p-pz)/(p+pz)) # if this has a domain error, it is caught by process_file() and a counter for failed pseudorapidities is kept.\n"
     ]
    },
    {
     "name": "stdout",
     "output_type": "stream",
     "text": [
      "discarded particles: 0, due to rapidity domain error\n",
      "discarded events: 443, due to tt-pair pseudorapidity domain error\n",
      "array shape is: (8607811, 11, 9) and should be: (numEvents, particlesPerEvent + tt-pair, attributesPerParticle)\n"
     ]
    }
   ],
   "source": [
    "# POWHEG hvq X0 -> theta = 0\n",
    "\n",
    "# seed1-seed5 | defaults: outLabel=None, maxJetParts=8, label='converted_lhe', recursive=True):\n",
    "DCTR.convert_lhe(inputFolder = '/tf/data/BachelorThesis_Data/LHE/data/POWHEG_hvq/seed1-seed5/',\n",
    "                 outputFolder = '/tf/data/BachelorThesis_Data/LHE/data/POWHEG_hvq/', outLabel='seed1-seed5_', theta=0)\n",
    "\n"
   ]
  },
  {
   "cell_type": "code",
   "execution_count": 4,
   "metadata": {},
   "outputs": [
    {
     "name": "stderr",
     "output_type": "stream",
     "text": [
      "/tf/home/DCTR_BachelorThesis/DCTR.py:97: RuntimeWarning: divide by zero encountered in double_scalars\n",
      "  pseudorapidity = 0.5*math.log((p-pz)/(p+pz)) # if this has a domain error, it is caught by process_file() and a counter for failed pseudorapidities is kept.\n",
      "/tf/home/DCTR_BachelorThesis/DCTR.py:97: RuntimeWarning: divide by zero encountered in double_scalars\n",
      "  pseudorapidity = 0.5*math.log((p-pz)/(p+pz)) # if this has a domain error, it is caught by process_file() and a counter for failed pseudorapidities is kept.\n",
      "/tf/home/DCTR_BachelorThesis/DCTR.py:97: RuntimeWarning: divide by zero encountered in double_scalars\n",
      "  pseudorapidity = 0.5*math.log((p-pz)/(p+pz)) # if this has a domain error, it is caught by process_file() and a counter for failed pseudorapidities is kept.\n",
      "/tf/home/DCTR_BachelorThesis/DCTR.py:97: RuntimeWarning: divide by zero encountered in double_scalars\n",
      "  pseudorapidity = 0.5*math.log((p-pz)/(p+pz)) # if this has a domain error, it is caught by process_file() and a counter for failed pseudorapidities is kept.\n",
      "/tf/home/DCTR_BachelorThesis/DCTR.py:97: RuntimeWarning: divide by zero encountered in double_scalars\n",
      "  pseudorapidity = 0.5*math.log((p-pz)/(p+pz)) # if this has a domain error, it is caught by process_file() and a counter for failed pseudorapidities is kept.\n"
     ]
    },
    {
     "name": "stdout",
     "output_type": "stream",
     "text": [
      "discarded particles: 0, due to rapidity domain error\n",
      "discarded events: 513, due to tt-pair pseudorapidity domain error\n",
      "array shape is: (8999487, 11, 9) and should be: (numEvents, particlesPerEvent + tt-pair, attributesPerParticle)\n"
     ]
    }
   ],
   "source": [
    "# seed6-seed10\n",
    "DCTR.convert_lhe(inputFolder = '/tf/data/BachelorThesis_Data/LHE/data/POWHEG_hvq/seed6-seed10/',\n",
    "                 outputFolder = '/tf/data/BachelorThesis_Data/LHE/data/POWHEG_hvq/', outLabel='seed6-seed10_', theta=0)\n",
    "\n"
   ]
  },
  {
   "cell_type": "code",
   "execution_count": 5,
   "metadata": {},
   "outputs": [
    {
     "name": "stderr",
     "output_type": "stream",
     "text": [
      "/tf/home/DCTR_BachelorThesis/DCTR.py:97: RuntimeWarning: divide by zero encountered in double_scalars\n",
      "  pseudorapidity = 0.5*math.log((p-pz)/(p+pz)) # if this has a domain error, it is caught by process_file() and a counter for failed pseudorapidities is kept.\n",
      "/tf/home/DCTR_BachelorThesis/DCTR.py:97: RuntimeWarning: divide by zero encountered in double_scalars\n",
      "  pseudorapidity = 0.5*math.log((p-pz)/(p+pz)) # if this has a domain error, it is caught by process_file() and a counter for failed pseudorapidities is kept.\n",
      "/tf/home/DCTR_BachelorThesis/DCTR.py:97: RuntimeWarning: divide by zero encountered in double_scalars\n",
      "  pseudorapidity = 0.5*math.log((p-pz)/(p+pz)) # if this has a domain error, it is caught by process_file() and a counter for failed pseudorapidities is kept.\n"
     ]
    },
    {
     "name": "stdout",
     "output_type": "stream",
     "text": [
      "discarded particles: 0, due to rapidity domain error\n",
      "discarded events: 304, due to tt-pair pseudorapidity domain error\n",
      "array shape is: (5999696, 11, 9) and should be: (numEvents, particlesPerEvent + tt-pair, attributesPerParticle)\n"
     ]
    },
    {
     "name": "stderr",
     "output_type": "stream",
     "text": [
      "/tf/home/DCTR_BachelorThesis/DCTR.py:97: RuntimeWarning: divide by zero encountered in double_scalars\n",
      "  pseudorapidity = 0.5*math.log((p-pz)/(p+pz)) # if this has a domain error, it is caught by process_file() and a counter for failed pseudorapidities is kept.\n",
      "/tf/home/DCTR_BachelorThesis/DCTR.py:97: RuntimeWarning: divide by zero encountered in double_scalars\n",
      "  pseudorapidity = 0.5*math.log((p-pz)/(p+pz)) # if this has a domain error, it is caught by process_file() and a counter for failed pseudorapidities is kept.\n",
      "/tf/home/DCTR_BachelorThesis/DCTR.py:97: RuntimeWarning: divide by zero encountered in double_scalars\n",
      "  pseudorapidity = 0.5*math.log((p-pz)/(p+pz)) # if this has a domain error, it is caught by process_file() and a counter for failed pseudorapidities is kept.\n"
     ]
    },
    {
     "name": "stdout",
     "output_type": "stream",
     "text": [
      "discarded particles: 0, due to rapidity domain error\n",
      "discarded events: 292, due to tt-pair pseudorapidity domain error\n",
      "array shape is: (5999708, 11, 9) and should be: (numEvents, particlesPerEvent + tt-pair, attributesPerParticle)\n"
     ]
    }
   ],
   "source": [
    "# seed11-seed13\n",
    "DCTR.convert_lhe(inputFolder = '/tf/data/BachelorThesis_Data/LHE/data/POWHEG_hvq/seed11-seed13/',\n",
    "                 outputFolder = '/tf/data/BachelorThesis_Data/LHE/data/POWHEG_hvq/', outLabel='seed11-seed13_', theta=0)\n",
    "\n",
    "# seed14-seed16\n",
    "DCTR.convert_lhe(inputFolder = '/tf/data/BachelorThesis_Data/LHE/data/POWHEG_hvq/seed14-seed16/',\n",
    "                 outputFolder = '/tf/data/BachelorThesis_Data/LHE/data/POWHEG_hvq/', outLabel='seed14-seed16_', theta=0)\n"
   ]
  },
  {
   "cell_type": "code",
   "execution_count": null,
   "metadata": {},
   "outputs": [],
   "source": []
  },
  {
   "cell_type": "code",
   "execution_count": 6,
   "id": "939981cc-3a16-4d32-a2ea-47ae07bbfa09",
   "metadata": {},
   "outputs": [],
   "source": [
    "# combine partial datasets\n",
    "X0 = []\n",
    "\n",
    "# Load multiple datasets and combine \n",
    "\n",
    "X0s1 = np.array(DCTR.load_dataset('/tf/data/BachelorThesis_Data/LHE/data/POWHEG_hvq/seed1-seed5_converted_lhe.npz'))\n",
    "X0s2 = np.array(DCTR.load_dataset('/tf/data/BachelorThesis_Data/LHE/data/POWHEG_hvq/seed6-seed10_converted_lhe.npz'))\n",
    "X0s3 = np.array(DCTR.load_dataset('/tf/data/BachelorThesis_Data/LHE/data/POWHEG_hvq/seed11-seed13_converted_lhe.npz'))\n",
    "X0s4 = np.array(DCTR.load_dataset('/tf/data/BachelorThesis_Data/LHE/data/POWHEG_hvq/seed14-seed16_converted_lhe.npz'))\n",
    "\n",
    "X0 = np.concatenate((X0s1, X0s2, X0s3, X0s4))\n",
    "# clear partial arrays from memory\n",
    "X0s1 = []\n",
    "X0s2 = []\n",
    "X0s3 = []\n",
    "X0s4 = []\n",
    "np.savez_compressed('/tf/data/BachelorThesis_Data/LHE/data/POWHEG_hvq/converted_lhe.npz', a=X0)\n",
    "# clear X0 array\n",
    "X0 = []\n"
   ]
  },
  {
   "cell_type": "code",
   "execution_count": null,
   "id": "42ed503f-0556-4b3a-b23f-1887101141b9",
   "metadata": {},
   "outputs": [],
   "source": []
  },
  {
   "cell_type": "markdown",
   "id": "25e17849-bc09-4c66-8ffa-9205b59dcce5",
   "metadata": {},
   "source": [
    "# MiNNLO | theta = 1"
   ]
  },
  {
   "cell_type": "code",
   "execution_count": 7,
   "id": "7b184461-4e5e-4b2c-b7fe-2afb5fac168c",
   "metadata": {
    "tags": []
   },
   "outputs": [
    {
     "name": "stdout",
     "output_type": "stream",
     "text": [
      "discarded particles: 0, due to rapidity domain error\n",
      "discarded events: 0, due to tt-pair pseudorapidity domain error\n",
      "array shape is: (4863968, 11, 9) and should be: (numEvents, particlesPerEvent + tt-pair, attributesPerParticle)\n",
      "discarded particles: 1, due to rapidity domain error\n",
      "discarded events: 0, due to tt-pair pseudorapidity domain error\n",
      "array shape is: (4689970, 11, 9) and should be: (numEvents, particlesPerEvent + tt-pair, attributesPerParticle)\n"
     ]
    }
   ],
   "source": [
    "# MiNNLO X1 und P1  -> theta = 1\n",
    "\n",
    "# 0001-0500 | defaults: outLabel=None, maxJetParts=8, label='converted_lhe', recursive=True):\n",
    "DCTR.convert_lhe(inputFolder = '/tf/data/BachelorThesis_Data/LHE/data/MiNNLO/0001-0500/',\n",
    "                 outputFolder = '/tf/data/BachelorThesis_Data/LHE/data/MiNNLO/', outLabel='0001-0500_', theta=1)\n",
    "\n",
    "# 0501-1000\n",
    "DCTR.convert_lhe(inputFolder = '/tf/data/BachelorThesis_Data/LHE/data/MiNNLO/0501-1000/', \n",
    "                 outputFolder = '/tf/data/BachelorThesis_Data/LHE/data/MiNNLO/', outLabel='0501-1000_', theta=1)\n"
   ]
  },
  {
   "cell_type": "code",
   "execution_count": 8,
   "id": "206a7ab3-8a76-4300-a169-fbae6212a102",
   "metadata": {},
   "outputs": [],
   "source": [
    "# combine partial datasets\n",
    "X1 = []\n",
    "\n",
    "# Load multiple datasets and combine \n",
    "X1s1 = np.array(DCTR.load_dataset('/tf/data/BachelorThesis_Data/LHE/data/MiNNLO/0001-0500_converted_lhe.npz'))\n",
    "X1s2 = np.array(DCTR.load_dataset('/tf/data/BachelorThesis_Data/LHE/data/MiNNLO/0501-1000_converted_lhe.npz'))\n",
    "\n",
    "X1 = np.concatenate((X1s1, X1s2))\n",
    "# clear partial arrays from memory\n",
    "X1s1 = []\n",
    "X1s2 = []\n",
    "np.savez_compressed('/tf/data/BachelorThesis_Data/LHE/data/MiNNLO/converted_lhe_all_particles.npz', a=X1)\n",
    "# clear X1 array\n",
    "X1 = []\n"
   ]
  },
  {
   "cell_type": "code",
   "execution_count": null,
   "id": "fd2aa82a-4ba3-4e2f-8822-064d3602f0dc",
   "metadata": {},
   "outputs": [],
   "source": []
  }
 ],
 "metadata": {
  "kernelspec": {
   "display_name": "Python 3",
   "language": "python",
   "name": "python3"
  },
  "language_info": {
   "codemirror_mode": {
    "name": "ipython",
    "version": 3
   },
   "file_extension": ".py",
   "mimetype": "text/x-python",
   "name": "python",
   "nbconvert_exporter": "python",
   "pygments_lexer": "ipython3",
   "version": "3.8.10"
  }
 },
 "nbformat": 4,
 "nbformat_minor": 5
}
