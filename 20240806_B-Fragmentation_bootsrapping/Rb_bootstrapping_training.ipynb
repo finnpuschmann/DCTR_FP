{
 "cells": [
  {
   "cell_type": "code",
   "execution_count": 26,
   "id": "eaaf0ee9",
   "metadata": {},
   "outputs": [],
   "source": [
    "# standard library imports\n",
    "from __future__ import absolute_import, division, print_function\n",
    "import os\n",
    "import sys\n",
    "import argparse\n",
    "import gc\n",
    "\n",
    "# standard numerical library imports\n",
    "import numpy as np\n",
    "import scipy as sp\n",
    "\n",
    "import matplotlib.pyplot as plt\n",
    "\n",
    "\n",
    "\n",
    "import tensorflow as tf\n",
    "from tensorflow import keras\n",
    "\n",
    "import keras.backend as K\n",
    "from tensorflow.keras.layers import Lambda, Dense, Input, Layer, Dropout, BatchNormalization\n",
    "from tensorflow.keras.models import Model\n",
    "from sklearn.model_selection import train_test_split\n",
    "from tensorflow.keras.utils import to_categorical\n",
    "from tensorflow.keras.callbacks import EarlyStopping, LambdaCallback\n",
    "from tensorflow.keras.initializers import Constant\n",
    "from tensorflow.keras.backend import concatenate\n",
    "\n",
    "# energyflow imports\n",
    "import energyflow as ef\n",
    "from energyflow.archs import PFN\n",
    "from energyflow.utils import data_split, remap_pids, to_categorical\n",
    "\n"
   ]
  },
  {
   "cell_type": "code",
   "execution_count": 2,
   "id": "6910feef-b1c8-434c-8b46-5794830e79de",
   "metadata": {},
   "outputs": [],
   "source": [
    "# parse cli arguments\n",
    "'''\n",
    "if __name__ == \"__main__\":\n",
    "    parser = argparse.ArgumentParser(description=\"How many training iterations shoud be run?\")\n",
    "    # LHE arg\n",
    "    parser.add_argument(\"-i\", \"--iter\", help=\"Int. Number of repeated training runs with randomized samples\", default = 5)\n",
    "    args = parser.parse_args()\n",
    "    NUM = args.num\n",
    "else:\n",
    "'''\n",
    "NUM = 5\n"
   ]
  },
  {
   "cell_type": "code",
   "execution_count": 4,
   "id": "d1a0aa77",
   "metadata": {},
   "outputs": [],
   "source": [
    "memory=8192*0.9\n",
    "gpus = tf.config.list_physical_devices('GPU')\n",
    "tf.config.set_visible_devices(gpus[0], 'GPU')\n",
    "tf.config.experimental.set_virtual_device_configuration(gpus[0],[tf.config.experimental.VirtualDeviceConfiguration(memory_limit=memory)])\n",
    "logical_gpus = tf.config.experimental.list_logical_devices('GPU')\n",
    "# print(len(gpus), \"Physical GPUs,\", len(logical_gpus), \"Logical GPUs\")\n",
    "\n"
   ]
  },
  {
   "cell_type": "code",
   "execution_count": null,
   "id": "0b31da25",
   "metadata": {},
   "outputs": [],
   "source": []
  },
  {
   "cell_type": "code",
   "execution_count": 22,
   "id": "9b93e47b-9d16-431c-a205-82ddde916cf0",
   "metadata": {},
   "outputs": [],
   "source": [
    "# define training iter function and helpful setup_nn function\n",
    "\n",
    "def setup_nn(Phi_sizes = (100,100,128), F_sizes = (100,100,100), input_dim=1, patience = 15, save_label = 'DCTR_pp_tt_1D_Rb_mine_xB_CP5_nominal', out_dir = './saved_models'):\n",
    "\n",
    "    dctr = PFN(input_dim = input_dim,\n",
    "               Phi_sizes = Phi_sizes, \n",
    "               F_sizes   = F_sizes,\n",
    "               summary   = False)\n",
    "\n",
    "    os.makedirs(os.path.dirname(f'{out_dir}/{save_label}.h5'), exist_ok=True) # create output dir, if it doesn't exist\n",
    "    \n",
    "    checkpoint = keras.callbacks.ModelCheckpoint(f'{out_dir}/{save_label}.h5',\n",
    "                                                    monitor='val_loss',\n",
    "                                                    verbose=2,\n",
    "                                                    save_best_only=True,\n",
    "                                                    mode='min')\n",
    "    \n",
    "    CSVLogger = keras.callbacks.CSVLogger(f'{out_dir}/{save_label}_loss.csv', append=False)\n",
    "    \n",
    "    EarlyStopping = keras.callbacks.EarlyStopping(monitor='val_loss',\n",
    "                                                  min_delta=0,\n",
    "                                                  patience=patience,\n",
    "                                                  verbose=1,\n",
    "                                                  restore_best_weights=True)\n",
    "    \n",
    "    callbacks = [checkpoint, CSVLogger, EarlyStopping]\n",
    "\n",
    "    return dctr, callbacks\n",
    "\n",
    "\n",
    "\n",
    "\n",
    "def train_single_iteration(X0, X1, iteration, num_events = int(4e6), batch_size = 1000, save_label = 'DCTR_pp_tt_1D_Rb_mine_xB_CP5_nominal', out_dir = './saved_models'):\n",
    "    K.clear_session()\n",
    "    gc.collect() # collect garbage to free memory\n",
    "    \n",
    "    # take random num_evts from each dataset\n",
    "    rand0 = np.random.choice(len(X0), num_events) # num_evts random indices\n",
    "    rand1 = np.random.choice(len(X1), num_events)\n",
    "\n",
    "    local_X0 = X0[rand0]\n",
    "    local_X1 = X1[rand1]\n",
    "\n",
    "    # create classifier array Y\n",
    "    Y0 = np.array([0. for i in range(local_X0.shape[0])])\n",
    "    Y1 = np.array([1. for i in range(local_X1.shape[0])])\n",
    "\n",
    "    Y = np.concatenate((Y0, Y1))\n",
    "    Y = to_categorical(Y, num_classes=2)\n",
    "\n",
    "    # create training array\n",
    "    X = []\n",
    "    X = np.concatenate((local_X0, local_X1))\n",
    "    \n",
    "    X_train, X_val, Y_train, Y_val = data_split(X, Y, test=0.25, shuffle=True)\n",
    "\n",
    "    del rand0, rand1, local_X0, local_X1, X, Y # delete the tmp variables to free memory\n",
    "    gc.collect() # collect garbage to free memory\n",
    "\n",
    "    with tf.device('/cpu:0'):\n",
    "        X_train = tf.convert_to_tensor(X_train)\n",
    "        X_val   = tf.convert_to_tensor(X_val)\n",
    "        Y_train = tf.convert_to_tensor(Y_train)\n",
    "        Y_val   = tf.convert_to_tensor(Y_val)\n",
    "    \n",
    "    # ready to start training\n",
    "    dctr, callbacks = setup_nn(save_label = f'{save_label}_iter_{iteration:02d}', out_dir = out_dir)\n",
    "\n",
    "    print('Starting training')\n",
    "    history = dctr.fit(X_train, Y_train,\n",
    "                       epochs = 1000,\n",
    "                       batch_size = batch_size,\n",
    "                       validation_data = (X_val, Y_val),\n",
    "                       verbose = 1,\n",
    "                       callbacks = callbacks)\n",
    "    \n",
    "    dctr.save(f'{out_dir}/{save_label}_iter_{iteration:02d}.h5')\n",
    "    \n",
    "    plt.figure(figsize=(6,5))\n",
    "    plt.plot(history.history['loss'],     label = 'loss')\n",
    "    plt.plot(history.history['val_loss'], label = 'val loss')\n",
    "    plt.legend(loc=0)\n",
    "    plt.ylabel('loss')\n",
    "    plt.xlabel('Epochs')\n",
    "    plt.savefig(f'{out_dir}/{save_label}_iter_{iteration:02d}_history.pdf')\n",
    "\n",
    "    del history, dctr, callbacks, X_train, X_val, Y_train, Y_val # delete vars to free memory\n",
    "    K.clear_session()\n",
    "    gc.collect() # collect garbage to free memory\n"
   ]
  },
  {
   "cell_type": "code",
   "execution_count": null,
   "id": "943790de-f10f-42ee-bcf7-60b1bf069102",
   "metadata": {},
   "outputs": [],
   "source": []
  },
  {
   "cell_type": "code",
   "execution_count": null,
   "id": "5331d839-a947-4ab7-bc75-92378c00a0b2",
   "metadata": {},
   "outputs": [],
   "source": []
  },
  {
   "cell_type": "code",
   "execution_count": null,
   "id": "c615a4ed-b1ac-4d69-8c7d-2cccaba21701",
   "metadata": {},
   "outputs": [],
   "source": []
  },
  {
   "cell_type": "code",
   "execution_count": 6,
   "id": "2a0fcdb3",
   "metadata": {},
   "outputs": [],
   "source": [
    "data_dir = '../../Data'\n",
    "\n",
    "# NAF\n",
    "# data_dir = '/nfs/dust/cms/user/puschman/pythia8307/examples/output'\n"
   ]
  },
  {
   "cell_type": "markdown",
   "id": "cfd0084e-7514-40ff-9098-990d6f74c798",
   "metadata": {},
   "source": [
    "### aggrgate data from 15 runs with different seeds\n",
    "\n",
    "12 runs are for the training, where each training will receive 4M random samples from the ~12M total for each class.\n",
    "\n",
    "X0: Rb 1.056\n",
    "\n",
    "X1: Rb 0.855\n",
    "\n"
   ]
  },
  {
   "cell_type": "code",
   "execution_count": 7,
   "id": "4d8a786f",
   "metadata": {},
   "outputs": [
    {
     "name": "stdout",
     "output_type": "stream",
     "text": [
      "['a', 'b', 'c', 'd', 'e']\n",
      "['a', 'b', 'c', 'd', 'e']\n",
      "['a', 'b', 'c', 'd', 'e']\n",
      "['a', 'b', 'c', 'd', 'e']\n",
      "['a', 'b', 'c', 'd', 'e']\n",
      "['a', 'b', 'c', 'd', 'e']\n",
      "['a', 'b', 'c', 'd', 'e']\n",
      "['a', 'b', 'c', 'd', 'e']\n",
      "['a', 'b', 'c', 'd', 'e']\n",
      "['a', 'b', 'c', 'd', 'e']\n",
      "['a', 'b', 'c', 'd', 'e']\n",
      "['a', 'b', 'c', 'd', 'e']\n",
      "(23911152,)\n"
     ]
    }
   ],
   "source": [
    "X0 = []\n",
    "\n",
    "for i in range(1, 13):\n",
    "    dataset = np.load(f'{data_dir}/B-Fragmentation_Rb_1.056/bootstrapping_Xb_multC_multNeutra_listBtop_listBextra-Rb_1.056_1M_seed{i}_CP5.npz')\n",
    "    print(dataset.files)\n",
    "    X0.extend(dataset['a'])\n",
    "\n",
    "X0 = np.array(X0)\n",
    "print(X0.shape)\n",
    "\n"
   ]
  },
  {
   "cell_type": "code",
   "execution_count": 8,
   "id": "e88ae0ae",
   "metadata": {},
   "outputs": [
    {
     "name": "stdout",
     "output_type": "stream",
     "text": [
      "['a', 'b', 'c', 'd', 'e']\n",
      "['a', 'b', 'c', 'd', 'e']\n",
      "['a', 'b', 'c', 'd', 'e']\n",
      "['a', 'b', 'c', 'd', 'e']\n",
      "['a', 'b', 'c', 'd', 'e']\n",
      "['a', 'b', 'c', 'd', 'e']\n",
      "['a', 'b', 'c', 'd', 'e']\n",
      "['a', 'b', 'c', 'd', 'e']\n",
      "['a', 'b', 'c', 'd', 'e']\n",
      "['a', 'b', 'c', 'd', 'e']\n",
      "['a', 'b', 'c', 'd', 'e']\n",
      "['a', 'b', 'c', 'd', 'e']\n",
      "(23912424,)\n"
     ]
    }
   ],
   "source": [
    "X1 = []\n",
    "\n",
    "for i in range(1, 13):\n",
    "    dataset = np.load(f'{data_dir}/B-Fragmentation_Rb_0.855/bootstrapping_Xb_multC_multNeutra_listBtop_listBextra-Rb_0.855_1M_seed{i}_CP5.npz')\n",
    "    print(dataset.files)\n",
    "    X1.extend(dataset['a'])\n",
    "\n",
    "X1 = np.array(X1)\n",
    "print(X1.shape)\n"
   ]
  },
  {
   "cell_type": "code",
   "execution_count": 9,
   "id": "7b0a0583",
   "metadata": {},
   "outputs": [
    {
     "name": "stdout",
     "output_type": "stream",
     "text": [
      "(23911152,)\n",
      "(23912424,)\n"
     ]
    }
   ],
   "source": [
    "print(X0.shape)\n",
    "print(X1.shape)\n"
   ]
  },
  {
   "cell_type": "code",
   "execution_count": 10,
   "id": "088b0194",
   "metadata": {},
   "outputs": [],
   "source": [
    "X0_pari = []\n",
    "X0_dispari = []\n",
    "X1_pari = []\n",
    "X1_dispari = []\n",
    "\n",
    "\n",
    "for i, _ in enumerate(X0):\n",
    "    if i % 2 == 0:\n",
    "        X0_pari.append(X0[i])\n",
    "    else:\n",
    "        X0_dispari.append(X0[i])\n",
    "\n",
    "\n",
    "for i, _ in enumerate(X1):\n",
    "    if i % 2 == 0:\n",
    "        X1_pari.append(X1[i])\n",
    "    else:\n",
    "        X1_dispari.append(X1[i])\n"
   ]
  },
  {
   "cell_type": "code",
   "execution_count": 11,
   "id": "b92c3ffe",
   "metadata": {},
   "outputs": [
    {
     "name": "stdout",
     "output_type": "stream",
     "text": [
      "11955576\n",
      "11956212\n"
     ]
    }
   ],
   "source": [
    "print(len(X0_pari))\n",
    "print(len(X1_pari))"
   ]
  },
  {
   "cell_type": "code",
   "execution_count": 12,
   "id": "0c68e916",
   "metadata": {},
   "outputs": [
    {
     "name": "stdout",
     "output_type": "stream",
     "text": [
      "11955576\n",
      "11956212\n"
     ]
    }
   ],
   "source": [
    "print(len(X0_dispari))\n",
    "print(len(X1_dispari))"
   ]
  },
  {
   "cell_type": "code",
   "execution_count": 13,
   "id": "d5acde8c",
   "metadata": {},
   "outputs": [],
   "source": [
    "X0_tot = []\n",
    "for i, _ in enumerate(X0_pari):\n",
    "    X0_tot.append([[X0_pari[i]], [X0_dispari[i]]])\n",
    "    "
   ]
  },
  {
   "cell_type": "code",
   "execution_count": 14,
   "id": "cc70a340",
   "metadata": {},
   "outputs": [
    {
     "name": "stdout",
     "output_type": "stream",
     "text": [
      "(11955576, 2, 1)\n"
     ]
    }
   ],
   "source": [
    "X0_tot = np.array(X0_tot)\n",
    "print(X0_tot.shape)\n"
   ]
  },
  {
   "cell_type": "code",
   "execution_count": 15,
   "id": "140e1f75",
   "metadata": {},
   "outputs": [
    {
     "name": "stdout",
     "output_type": "stream",
     "text": [
      "[[[0.4727821 ]\n",
      "  [0.77345092]]\n",
      "\n",
      " [[0.81807189]\n",
      "  [0.68890812]]\n",
      "\n",
      " [[0.31941123]\n",
      "  [0.89386035]]\n",
      "\n",
      " ...\n",
      "\n",
      " [[0.6885071 ]\n",
      "  [0.68362032]]\n",
      "\n",
      " [[0.42146701]\n",
      "  [0.77048908]]\n",
      "\n",
      " [[0.37598829]\n",
      "  [0.36507024]]]\n"
     ]
    }
   ],
   "source": [
    "print(X0_tot)"
   ]
  },
  {
   "cell_type": "code",
   "execution_count": 16,
   "id": "e7e97541",
   "metadata": {},
   "outputs": [],
   "source": [
    "X1_tot = []\n",
    "for i, _ in enumerate(X1_pari):\n",
    "    X1_tot.append([[X1_pari[i]], [X1_dispari[i]]])\n",
    "    "
   ]
  },
  {
   "cell_type": "code",
   "execution_count": 17,
   "id": "2a48a61a",
   "metadata": {},
   "outputs": [
    {
     "name": "stdout",
     "output_type": "stream",
     "text": [
      "(11956212, 2, 1)\n"
     ]
    }
   ],
   "source": [
    "X1_tot = np.array(X1_tot)\n",
    "print(X1_tot.shape)\n"
   ]
  },
  {
   "cell_type": "code",
   "execution_count": 18,
   "id": "380135b3",
   "metadata": {},
   "outputs": [
    {
     "name": "stdout",
     "output_type": "stream",
     "text": [
      "[[[0.4727821 ]\n",
      "  [0.77345092]]\n",
      "\n",
      " [[0.81807189]\n",
      "  [0.7358395 ]]\n",
      "\n",
      " [[0.32661311]\n",
      "  [0.91397603]]\n",
      "\n",
      " ...\n",
      "\n",
      " [[0.86739354]\n",
      "  [0.81468214]]\n",
      "\n",
      " [[0.81390241]\n",
      "  [0.85790137]]\n",
      "\n",
      " [[0.92550745]\n",
      "  [0.99964699]]]\n"
     ]
    }
   ],
   "source": [
    "print(X1_tot)"
   ]
  },
  {
   "cell_type": "code",
   "execution_count": 19,
   "id": "805e6ee2",
   "metadata": {},
   "outputs": [
    {
     "data": {
      "image/png": "[encoded data removed]",
      "text/plain": [
       "<Figure size 600x500 with 1 Axes>"
      ]
     },
     "metadata": {},
     "output_type": "display_data"
    }
   ],
   "source": [
    "# xb X0\n",
    "plt.figure(figsize=(6,5))\n",
    "bins = np.linspace(0,1.1,50)\n",
    "hist0 = plt.hist(X0_tot[:,:,0], bins = bins)\n",
    "\n",
    "\n",
    "plt.xlabel(r'$x_b$')\n",
    "plt.ylabel('$entries$')\n",
    "#plt.yscale('log')\n",
    "plt.show()"
   ]
  },
  {
   "cell_type": "code",
   "execution_count": 20,
   "id": "3c43c5f7",
   "metadata": {},
   "outputs": [
    {
     "data": {
      "image/png": "[encoded data removed]",
      "text/plain": [
       "<Figure size 600x500 with 1 Axes>"
      ]
     },
     "metadata": {},
     "output_type": "display_data"
    }
   ],
   "source": [
    "# xb X1\n",
    "plt.figure(figsize=(6,5))\n",
    "bins = np.linspace(0,1.1,50)\n",
    "hist0 = plt.hist(X1_tot[:,:,0], bins = bins)\n",
    "\n",
    "\n",
    "plt.xlabel(r'$x_b$')\n",
    "plt.ylabel('$entries$')\n",
    "#plt.yscale('log')\n",
    "plt.show()"
   ]
  },
  {
   "cell_type": "code",
   "execution_count": 21,
   "id": "d54f4b3c",
   "metadata": {},
   "outputs": [
    {
     "data": {
      "image/png": "[encoded data removed]",
      "text/plain": [
       "<Figure size 600x500 with 1 Axes>"
      ]
     },
     "metadata": {},
     "output_type": "display_data"
    }
   ],
   "source": [
    "# xb\n",
    "plt.figure(figsize=(6,5))\n",
    "bins = np.linspace(0,1.1,30)\n",
    "plot_style_0 = {'histtype':'step', 'color':'blue', 'linewidth':2, 'linestyle':'--', 'density':True}\n",
    "plot_style_1 = {'histtype':'step', 'color':'red', 'linewidth':2, 'linestyle':'--', 'density':True}\n",
    "plot_style_2 = {'histtype':'step', 'color':'green', 'linewidth':2, 'linestyle':'--', 'density':True}\n",
    "plot_style_3 = {'histtype':'step', 'color':'orange', 'linewidth':2, 'linestyle':'--', 'density':True}\n",
    "hist0 = plt.hist(X0_tot[:,0,0], bins = bins, alpha=0.7, label = r'$R_b = 1.056$', **plot_style_0)\n",
    "hist1 = plt.hist(X1_tot[:,0,0], bins = bins, alpha=0.7, label = r'$R_b = 0.855$', **plot_style_1)\n",
    "\n",
    "plt.xlabel(r'$x_b$')\n",
    "plt.ylabel('$entries$')\n",
    "#plt.yscale('log')\n",
    "plt.legend(loc='upper left')\n",
    "plt.show()"
   ]
  },
  {
   "cell_type": "code",
   "execution_count": null,
   "id": "273a27f0-8d0f-40fd-83ce-ad229c3ea0d6",
   "metadata": {},
   "outputs": [],
   "source": []
  },
  {
   "cell_type": "code",
   "execution_count": 27,
   "id": "2f60a391-cb99-4b8d-9a60-b7eb872d8053",
   "metadata": {
    "collapsed": true,
    "jupyter": {
     "outputs_hidden": true
    }
   },
   "outputs": [
    {
     "name": "stdout",
     "output_type": "stream",
     "text": [
      "Starting training\n",
      "Epoch 1/1000\n",
      "5981/6000 [============================>.] - ETA: 0s - loss: 0.6900 - acc: 0.5329\n",
      "Epoch 1: val_loss improved from inf to 0.68579, saving model to ./saved_models/DCTR_pp_tt_1D_Rb_mine_xB_CP5_nominal_iter_01.h5\n",
      "6000/6000 [==============================] - 16s 2ms/step - loss: 0.6900 - acc: 0.5329 - val_loss: 0.6858 - val_acc: 0.5502\n",
      "Epoch 2/1000\n",
      "6000/6000 [==============================] - ETA: 0s - loss: 0.6860 - acc: 0.5499\n",
      "Epoch 2: val_loss did not improve from 0.68579\n",
      "6000/6000 [==============================] - 14s 2ms/step - loss: 0.6860 - acc: 0.5499 - val_loss: 0.6867 - val_acc: 0.5480\n",
      "Epoch 3/1000\n",
      "5993/6000 [============================>.] - ETA: 0s - loss: 0.6857 - acc: 0.5505\n",
      "Epoch 3: val_loss improved from 0.68579 to 0.68548, saving model to ./saved_models/DCTR_pp_tt_1D_Rb_mine_xB_CP5_nominal_iter_01.h5\n",
      "6000/6000 [==============================] - 15s 3ms/step - loss: 0.6857 - acc: 0.5505 - val_loss: 0.6855 - val_acc: 0.5509\n",
      "Epoch 4/1000\n",
      "6000/6000 [==============================] - ETA: 0s - loss: 0.6856 - acc: 0.5508\n",
      "Epoch 4: val_loss improved from 0.68548 to 0.68534, saving model to ./saved_models/DCTR_pp_tt_1D_Rb_mine_xB_CP5_nominal_iter_01.h5\n",
      "6000/6000 [==============================] - 15s 2ms/step - loss: 0.6856 - acc: 0.5508 - val_loss: 0.6853 - val_acc: 0.5509\n",
      "Epoch 5/1000\n",
      "5988/6000 [============================>.] - ETA: 0s - loss: 0.6855 - acc: 0.5509\n",
      "Epoch 5: val_loss did not improve from 0.68534\n",
      "6000/6000 [==============================] - 15s 3ms/step - loss: 0.6855 - acc: 0.5509 - val_loss: 0.6854 - val_acc: 0.5511\n",
      "Epoch 6/1000\n",
      "5988/6000 [============================>.] - ETA: 0s - loss: 0.6855 - acc: 0.5511\n",
      "Epoch 6: val_loss improved from 0.68534 to 0.68534, saving model to ./saved_models/DCTR_pp_tt_1D_Rb_mine_xB_CP5_nominal_iter_01.h5\n",
      "6000/6000 [==============================] - 15s 2ms/step - loss: 0.6855 - acc: 0.5511 - val_loss: 0.6853 - val_acc: 0.5510\n",
      "Epoch 7/1000\n",
      "5982/6000 [============================>.] - ETA: 0s - loss: 0.6855 - acc: 0.5511\n",
      "Epoch 7: val_loss did not improve from 0.68534\n",
      "6000/6000 [==============================] - 15s 3ms/step - loss: 0.6855 - acc: 0.5512 - val_loss: 0.6855 - val_acc: 0.5508\n",
      "Epoch 8/1000\n",
      "5986/6000 [============================>.] - ETA: 0s - loss: 0.6854 - acc: 0.5512\n",
      "Epoch 8: val_loss did not improve from 0.68534\n",
      "6000/6000 [==============================] - 14s 2ms/step - loss: 0.6854 - acc: 0.5512 - val_loss: 0.6854 - val_acc: 0.5509\n",
      "Epoch 9/1000\n",
      "5984/6000 [============================>.] - ETA: 0s - loss: 0.6854 - acc: 0.5513\n",
      "Epoch 9: val_loss did not improve from 0.68534\n",
      "6000/6000 [==============================] - 15s 2ms/step - loss: 0.6854 - acc: 0.5513 - val_loss: 0.6854 - val_acc: 0.5510\n",
      "Epoch 10/1000\n",
      "5983/6000 [============================>.] - ETA: 0s - loss: 0.6854 - acc: 0.5512\n",
      "Epoch 10: val_loss did not improve from 0.68534\n",
      "6000/6000 [==============================] - 15s 3ms/step - loss: 0.6854 - acc: 0.5511 - val_loss: 0.6856 - val_acc: 0.5506\n",
      "Epoch 11/1000\n",
      "5986/6000 [============================>.] - ETA: 0s - loss: 0.6854 - acc: 0.5512\n",
      "Epoch 11: val_loss did not improve from 0.68534\n",
      "6000/6000 [==============================] - 15s 3ms/step - loss: 0.6854 - acc: 0.5512 - val_loss: 0.6855 - val_acc: 0.5508\n",
      "Epoch 12/1000\n",
      "5982/6000 [============================>.] - ETA: 0s - loss: 0.6854 - acc: 0.5513\n",
      "Epoch 12: val_loss improved from 0.68534 to 0.68531, saving model to ./saved_models/DCTR_pp_tt_1D_Rb_mine_xB_CP5_nominal_iter_01.h5\n",
      "6000/6000 [==============================] - 14s 2ms/step - loss: 0.6854 - acc: 0.5513 - val_loss: 0.6853 - val_acc: 0.5510\n",
      "Epoch 13/1000\n",
      "5981/6000 [============================>.] - ETA: 0s - loss: 0.6854 - acc: 0.5512\n",
      "Epoch 13: val_loss did not improve from 0.68531\n",
      "6000/6000 [==============================] - 15s 2ms/step - loss: 0.6854 - acc: 0.5512 - val_loss: 0.6853 - val_acc: 0.5513\n",
      "Epoch 14/1000\n",
      "6000/6000 [==============================] - ETA: 0s - loss: 0.6854 - acc: 0.5513\n",
      "Epoch 14: val_loss did not improve from 0.68531\n",
      "6000/6000 [==============================] - 15s 3ms/step - loss: 0.6854 - acc: 0.5513 - val_loss: 0.6855 - val_acc: 0.5508\n",
      "Epoch 15/1000\n",
      "5983/6000 [============================>.] - ETA: 0s - loss: 0.6854 - acc: 0.5513\n",
      "Epoch 15: val_loss improved from 0.68531 to 0.68531, saving model to ./saved_models/DCTR_pp_tt_1D_Rb_mine_xB_CP5_nominal_iter_01.h5\n",
      "6000/6000 [==============================] - 15s 2ms/step - loss: 0.6854 - acc: 0.5513 - val_loss: 0.6853 - val_acc: 0.5511\n",
      "Epoch 16/1000\n",
      "5977/6000 [============================>.] - ETA: 0s - loss: 0.6854 - acc: 0.5513\n",
      "Epoch 16: val_loss did not improve from 0.68531\n",
      "6000/6000 [==============================] - 15s 2ms/step - loss: 0.6854 - acc: 0.5513 - val_loss: 0.6855 - val_acc: 0.5508\n",
      "Epoch 17/1000\n",
      "5984/6000 [============================>.] - ETA: 0s - loss: 0.6854 - acc: 0.5513\n",
      "Epoch 17: val_loss did not improve from 0.68531\n",
      "6000/6000 [==============================] - 15s 2ms/step - loss: 0.6854 - acc: 0.5513 - val_loss: 0.6855 - val_acc: 0.5506\n",
      "Epoch 18/1000\n",
      "5998/6000 [============================>.] - ETA: 0s - loss: 0.6854 - acc: 0.5513\n",
      "Epoch 18: val_loss did not improve from 0.68531\n",
      "6000/6000 [==============================] - 15s 3ms/step - loss: 0.6854 - acc: 0.5513 - val_loss: 0.6857 - val_acc: 0.5501\n",
      "Epoch 19/1000\n",
      "5994/6000 [============================>.] - ETA: 0s - loss: 0.6854 - acc: 0.5513\n",
      "Epoch 19: val_loss did not improve from 0.68531\n",
      "6000/6000 [==============================] - 15s 3ms/step - loss: 0.6854 - acc: 0.5513 - val_loss: 0.6854 - val_acc: 0.5513\n",
      "Epoch 20/1000\n",
      "5996/6000 [============================>.] - ETA: 0s - loss: 0.6854 - acc: 0.5514\n",
      "Epoch 20: val_loss did not improve from 0.68531\n",
      "6000/6000 [==============================] - 15s 2ms/step - loss: 0.6854 - acc: 0.5514 - val_loss: 0.6853 - val_acc: 0.5512\n",
      "Epoch 21/1000\n",
      "5994/6000 [============================>.] - ETA: 0s - loss: 0.6854 - acc: 0.5514\n",
      "Epoch 21: val_loss did not improve from 0.68531\n",
      "6000/6000 [==============================] - 15s 2ms/step - loss: 0.6854 - acc: 0.5514 - val_loss: 0.6856 - val_acc: 0.5503\n",
      "Epoch 22/1000\n",
      "6000/6000 [==============================] - ETA: 0s - loss: 0.6854 - acc: 0.5513\n",
      "Epoch 22: val_loss did not improve from 0.68531\n",
      "6000/6000 [==============================] - 15s 2ms/step - loss: 0.6854 - acc: 0.5513 - val_loss: 0.6853 - val_acc: 0.5512\n",
      "Epoch 23/1000\n",
      "5997/6000 [============================>.] - ETA: 0s - loss: 0.6854 - acc: 0.5513\n",
      "Epoch 23: val_loss did not improve from 0.68531\n",
      "6000/6000 [==============================] - 15s 2ms/step - loss: 0.6854 - acc: 0.5513 - val_loss: 0.6854 - val_acc: 0.5510\n",
      "Epoch 24/1000\n",
      "5995/6000 [============================>.] - ETA: 0s - loss: 0.6854 - acc: 0.5513\n",
      "Epoch 24: val_loss did not improve from 0.68531\n",
      "6000/6000 [==============================] - 14s 2ms/step - loss: 0.6854 - acc: 0.5513 - val_loss: 0.6854 - val_acc: 0.5511\n",
      "Epoch 25/1000\n",
      "5989/6000 [============================>.] - ETA: 0s - loss: 0.6854 - acc: 0.5514\n",
      "Epoch 25: val_loss did not improve from 0.68531\n",
      "6000/6000 [==============================] - 15s 2ms/step - loss: 0.6854 - acc: 0.5514 - val_loss: 0.6853 - val_acc: 0.5510\n",
      "Epoch 26/1000\n",
      "5981/6000 [============================>.] - ETA: 0s - loss: 0.6854 - acc: 0.5514\n",
      "Epoch 26: val_loss did not improve from 0.68531\n",
      "6000/6000 [==============================] - 15s 3ms/step - loss: 0.6854 - acc: 0.5514 - val_loss: 0.6853 - val_acc: 0.5510\n",
      "Epoch 27/1000\n",
      "5993/6000 [============================>.] - ETA: 0s - loss: 0.6854 - acc: 0.5513\n",
      "Epoch 27: val_loss did not improve from 0.68531\n",
      "6000/6000 [==============================] - 15s 3ms/step - loss: 0.6854 - acc: 0.5513 - val_loss: 0.6854 - val_acc: 0.5511\n",
      "Epoch 28/1000\n",
      "5984/6000 [============================>.] - ETA: 0s - loss: 0.6854 - acc: 0.5512\n",
      "Epoch 28: val_loss did not improve from 0.68531\n",
      "6000/6000 [==============================] - 15s 3ms/step - loss: 0.6854 - acc: 0.5512 - val_loss: 0.6854 - val_acc: 0.5511\n",
      "Epoch 29/1000\n",
      "5980/6000 [============================>.] - ETA: 0s - loss: 0.6854 - acc: 0.5514\n",
      "Epoch 29: val_loss did not improve from 0.68531\n",
      "6000/6000 [==============================] - 15s 3ms/step - loss: 0.6854 - acc: 0.5514 - val_loss: 0.6854 - val_acc: 0.5510\n",
      "Epoch 30/1000\n",
      "5980/6000 [============================>.] - ETA: 0s - loss: 0.6854 - acc: 0.5515\n",
      "Epoch 30: val_loss did not improve from 0.68531\n",
      "Restoring model weights from the end of the best epoch: 15.\n",
      "6000/6000 [==============================] - 15s 2ms/step - loss: 0.6854 - acc: 0.5515 - val_loss: 0.6853 - val_acc: 0.5509\n",
      "Epoch 30: early stopping\n",
      "Starting training\n",
      "Epoch 1/1000\n",
      "5993/6000 [============================>.] - ETA: 0s - loss: 0.6902 - acc: 0.5318\n",
      "Epoch 1: val_loss improved from inf to 0.68559, saving model to ./saved_models/DCTR_pp_tt_1D_Rb_mine_xB_CP5_nominal_iter_02.h5\n",
      "6000/6000 [==============================] - 15s 3ms/step - loss: 0.6902 - acc: 0.5318 - val_loss: 0.6856 - val_acc: 0.5507\n",
      "Epoch 2/1000\n",
      "5987/6000 [============================>.] - ETA: 0s - loss: 0.6860 - acc: 0.5500\n",
      "Epoch 2: val_loss improved from 0.68559 to 0.68523, saving model to ./saved_models/DCTR_pp_tt_1D_Rb_mine_xB_CP5_nominal_iter_02.h5\n",
      "6000/6000 [==============================] - 14s 2ms/step - loss: 0.6860 - acc: 0.5500 - val_loss: 0.6852 - val_acc: 0.5518\n",
      "Epoch 3/1000\n",
      "5986/6000 [============================>.] - ETA: 0s - loss: 0.6857 - acc: 0.5505\n",
      "Epoch 3: val_loss improved from 0.68523 to 0.68510, saving model to ./saved_models/DCTR_pp_tt_1D_Rb_mine_xB_CP5_nominal_iter_02.h5\n",
      "6000/6000 [==============================] - 14s 2ms/step - loss: 0.6857 - acc: 0.5505 - val_loss: 0.6851 - val_acc: 0.5519\n",
      "Epoch 4/1000\n",
      "5981/6000 [============================>.] - ETA: 0s - loss: 0.6855 - acc: 0.5510\n",
      "Epoch 4: val_loss did not improve from 0.68510\n",
      "6000/6000 [==============================] - 15s 2ms/step - loss: 0.6855 - acc: 0.5510 - val_loss: 0.6851 - val_acc: 0.5520\n",
      "Epoch 5/1000\n",
      " 461/6000 [=>............................] - ETA: 11s - loss: 0.6857 - acc: 0.5497"
     ]
    },
    {
     "ename": "KeyboardInterrupt",
     "evalue": "",
     "output_type": "error",
     "traceback": [
      "\u001b[0;31m---------------------------------------------------------------------------\u001b[0m",
      "\u001b[0;31mKeyboardInterrupt\u001b[0m                         Traceback (most recent call last)",
      "Cell \u001b[0;32mIn[27], line 4\u001b[0m\n\u001b[1;32m      1\u001b[0m \u001b[38;5;66;03m# NUM iterations with 4M random samples per iter\u001b[39;00m\n\u001b[1;32m      3\u001b[0m \u001b[38;5;28;01mfor\u001b[39;00m i \u001b[38;5;129;01min\u001b[39;00m \u001b[38;5;28mrange\u001b[39m(\u001b[38;5;241m1\u001b[39m, NUM\u001b[38;5;241m+\u001b[39m\u001b[38;5;241m1\u001b[39m):\n\u001b[0;32m----> 4\u001b[0m     \u001b[43mtrain_single_iteration\u001b[49m\u001b[43m(\u001b[49m\u001b[43mX0_tot\u001b[49m\u001b[43m,\u001b[49m\u001b[43m \u001b[49m\u001b[43mX1_tot\u001b[49m\u001b[43m,\u001b[49m\u001b[43m \u001b[49m\u001b[43miteration\u001b[49m\u001b[38;5;241;43m=\u001b[39;49m\u001b[43mi\u001b[49m\u001b[43m)\u001b[49m\n",
      "Cell \u001b[0;32mIn[22], line 70\u001b[0m, in \u001b[0;36mtrain_single_iteration\u001b[0;34m(X0, X1, iteration, num_events, batch_size, save_label, out_dir)\u001b[0m\n\u001b[1;32m     67\u001b[0m dctr, callbacks \u001b[38;5;241m=\u001b[39m setup_nn(save_label \u001b[38;5;241m=\u001b[39m \u001b[38;5;124mf\u001b[39m\u001b[38;5;124m'\u001b[39m\u001b[38;5;132;01m{\u001b[39;00msave_label\u001b[38;5;132;01m}\u001b[39;00m\u001b[38;5;124m_iter_\u001b[39m\u001b[38;5;132;01m{\u001b[39;00miteration\u001b[38;5;132;01m:\u001b[39;00m\u001b[38;5;124m02d\u001b[39m\u001b[38;5;132;01m}\u001b[39;00m\u001b[38;5;124m'\u001b[39m, out_dir \u001b[38;5;241m=\u001b[39m out_dir)\n\u001b[1;32m     69\u001b[0m \u001b[38;5;28mprint\u001b[39m(\u001b[38;5;124m'\u001b[39m\u001b[38;5;124mStarting training\u001b[39m\u001b[38;5;124m'\u001b[39m)\n\u001b[0;32m---> 70\u001b[0m history \u001b[38;5;241m=\u001b[39m \u001b[43mdctr\u001b[49m\u001b[38;5;241;43m.\u001b[39;49m\u001b[43mfit\u001b[49m\u001b[43m(\u001b[49m\u001b[43mX_train\u001b[49m\u001b[43m,\u001b[49m\u001b[43m \u001b[49m\u001b[43mY_train\u001b[49m\u001b[43m,\u001b[49m\n\u001b[1;32m     71\u001b[0m \u001b[43m                   \u001b[49m\u001b[43mepochs\u001b[49m\u001b[43m \u001b[49m\u001b[38;5;241;43m=\u001b[39;49m\u001b[43m \u001b[49m\u001b[38;5;241;43m1000\u001b[39;49m\u001b[43m,\u001b[49m\n\u001b[1;32m     72\u001b[0m \u001b[43m                   \u001b[49m\u001b[43mbatch_size\u001b[49m\u001b[43m \u001b[49m\u001b[38;5;241;43m=\u001b[39;49m\u001b[43m \u001b[49m\u001b[43mbatch_size\u001b[49m\u001b[43m,\u001b[49m\n\u001b[1;32m     73\u001b[0m \u001b[43m                   \u001b[49m\u001b[43mvalidation_data\u001b[49m\u001b[43m \u001b[49m\u001b[38;5;241;43m=\u001b[39;49m\u001b[43m \u001b[49m\u001b[43m(\u001b[49m\u001b[43mX_val\u001b[49m\u001b[43m,\u001b[49m\u001b[43m \u001b[49m\u001b[43mY_val\u001b[49m\u001b[43m)\u001b[49m\u001b[43m,\u001b[49m\n\u001b[1;32m     74\u001b[0m \u001b[43m                   \u001b[49m\u001b[43mverbose\u001b[49m\u001b[43m \u001b[49m\u001b[38;5;241;43m=\u001b[39;49m\u001b[43m \u001b[49m\u001b[38;5;241;43m1\u001b[39;49m\u001b[43m,\u001b[49m\n\u001b[1;32m     75\u001b[0m \u001b[43m                   \u001b[49m\u001b[43mcallbacks\u001b[49m\u001b[43m \u001b[49m\u001b[38;5;241;43m=\u001b[39;49m\u001b[43m \u001b[49m\u001b[43mcallbacks\u001b[49m\u001b[43m)\u001b[49m\n\u001b[1;32m     77\u001b[0m dctr\u001b[38;5;241m.\u001b[39msave(\u001b[38;5;124mf\u001b[39m\u001b[38;5;124m'\u001b[39m\u001b[38;5;132;01m{\u001b[39;00mout_dir\u001b[38;5;132;01m}\u001b[39;00m\u001b[38;5;124m/\u001b[39m\u001b[38;5;132;01m{\u001b[39;00msave_label\u001b[38;5;132;01m}\u001b[39;00m\u001b[38;5;124m_iter_\u001b[39m\u001b[38;5;132;01m{\u001b[39;00miteration\u001b[38;5;132;01m:\u001b[39;00m\u001b[38;5;124m02d\u001b[39m\u001b[38;5;132;01m}\u001b[39;00m\u001b[38;5;124m.h5\u001b[39m\u001b[38;5;124m'\u001b[39m)\n\u001b[1;32m     79\u001b[0m plt\u001b[38;5;241m.\u001b[39mfigure(figsize\u001b[38;5;241m=\u001b[39m(\u001b[38;5;241m6\u001b[39m,\u001b[38;5;241m5\u001b[39m))\n",
      "File \u001b[0;32m/usr/local/lib/python3.8/dist-packages/energyflow/archs/archbase.py:370\u001b[0m, in \u001b[0;36mNNBase.fit\u001b[0;34m(self, *args, **kwargs)\u001b[0m\n\u001b[1;32m    367\u001b[0m kwargs\u001b[38;5;241m.\u001b[39msetdefault(\u001b[38;5;124m'\u001b[39m\u001b[38;5;124mcallbacks\u001b[39m\u001b[38;5;124m'\u001b[39m, [])\u001b[38;5;241m.\u001b[39mextend(callbacks)\n\u001b[1;32m    369\u001b[0m \u001b[38;5;66;03m# do the fitting\u001b[39;00m\n\u001b[0;32m--> 370\u001b[0m hist \u001b[38;5;241m=\u001b[39m \u001b[38;5;28;43mself\u001b[39;49m\u001b[38;5;241;43m.\u001b[39;49m\u001b[43mmodel\u001b[49m\u001b[38;5;241;43m.\u001b[39;49m\u001b[43mfit\u001b[49m\u001b[43m(\u001b[49m\u001b[38;5;241;43m*\u001b[39;49m\u001b[43margs\u001b[49m\u001b[43m,\u001b[49m\u001b[43m \u001b[49m\u001b[38;5;241;43m*\u001b[39;49m\u001b[38;5;241;43m*\u001b[39;49m\u001b[43mkwargs\u001b[49m\u001b[43m)\u001b[49m\n\u001b[1;32m    372\u001b[0m \u001b[38;5;66;03m# handle saving at the end, if we weren't already saving throughout \u001b[39;00m\n\u001b[1;32m    373\u001b[0m \u001b[38;5;28;01mif\u001b[39;00m \u001b[38;5;28mself\u001b[39m\u001b[38;5;241m.\u001b[39mfilepath \u001b[38;5;129;01mand\u001b[39;00m \u001b[38;5;129;01mnot\u001b[39;00m \u001b[38;5;28mself\u001b[39m\u001b[38;5;241m.\u001b[39msave_while_training:\n",
      "File \u001b[0;32m/usr/local/lib/python3.8/dist-packages/keras/utils/traceback_utils.py:64\u001b[0m, in \u001b[0;36mfilter_traceback.<locals>.error_handler\u001b[0;34m(*args, **kwargs)\u001b[0m\n\u001b[1;32m     62\u001b[0m filtered_tb \u001b[38;5;241m=\u001b[39m \u001b[38;5;28;01mNone\u001b[39;00m\n\u001b[1;32m     63\u001b[0m \u001b[38;5;28;01mtry\u001b[39;00m:\n\u001b[0;32m---> 64\u001b[0m   \u001b[38;5;28;01mreturn\u001b[39;00m \u001b[43mfn\u001b[49m\u001b[43m(\u001b[49m\u001b[38;5;241;43m*\u001b[39;49m\u001b[43margs\u001b[49m\u001b[43m,\u001b[49m\u001b[43m \u001b[49m\u001b[38;5;241;43m*\u001b[39;49m\u001b[38;5;241;43m*\u001b[39;49m\u001b[43mkwargs\u001b[49m\u001b[43m)\u001b[49m\n\u001b[1;32m     65\u001b[0m \u001b[38;5;28;01mexcept\u001b[39;00m \u001b[38;5;167;01mException\u001b[39;00m \u001b[38;5;28;01mas\u001b[39;00m e:  \u001b[38;5;66;03m# pylint: disable=broad-except\u001b[39;00m\n\u001b[1;32m     66\u001b[0m   filtered_tb \u001b[38;5;241m=\u001b[39m _process_traceback_frames(e\u001b[38;5;241m.\u001b[39m__traceback__)\n",
      "File \u001b[0;32m/usr/local/lib/python3.8/dist-packages/keras/engine/training.py:1384\u001b[0m, in \u001b[0;36mModel.fit\u001b[0;34m(self, x, y, batch_size, epochs, verbose, callbacks, validation_split, validation_data, shuffle, class_weight, sample_weight, initial_epoch, steps_per_epoch, validation_steps, validation_batch_size, validation_freq, max_queue_size, workers, use_multiprocessing)\u001b[0m\n\u001b[1;32m   1377\u001b[0m \u001b[38;5;28;01mwith\u001b[39;00m tf\u001b[38;5;241m.\u001b[39mprofiler\u001b[38;5;241m.\u001b[39mexperimental\u001b[38;5;241m.\u001b[39mTrace(\n\u001b[1;32m   1378\u001b[0m     \u001b[38;5;124m'\u001b[39m\u001b[38;5;124mtrain\u001b[39m\u001b[38;5;124m'\u001b[39m,\n\u001b[1;32m   1379\u001b[0m     epoch_num\u001b[38;5;241m=\u001b[39mepoch,\n\u001b[1;32m   1380\u001b[0m     step_num\u001b[38;5;241m=\u001b[39mstep,\n\u001b[1;32m   1381\u001b[0m     batch_size\u001b[38;5;241m=\u001b[39mbatch_size,\n\u001b[1;32m   1382\u001b[0m     _r\u001b[38;5;241m=\u001b[39m\u001b[38;5;241m1\u001b[39m):\n\u001b[1;32m   1383\u001b[0m   callbacks\u001b[38;5;241m.\u001b[39mon_train_batch_begin(step)\n\u001b[0;32m-> 1384\u001b[0m   tmp_logs \u001b[38;5;241m=\u001b[39m \u001b[38;5;28;43mself\u001b[39;49m\u001b[38;5;241;43m.\u001b[39;49m\u001b[43mtrain_function\u001b[49m\u001b[43m(\u001b[49m\u001b[43miterator\u001b[49m\u001b[43m)\u001b[49m\n\u001b[1;32m   1385\u001b[0m   \u001b[38;5;28;01mif\u001b[39;00m data_handler\u001b[38;5;241m.\u001b[39mshould_sync:\n\u001b[1;32m   1386\u001b[0m     context\u001b[38;5;241m.\u001b[39masync_wait()\n",
      "File \u001b[0;32m/usr/local/lib/python3.8/dist-packages/tensorflow/python/util/traceback_utils.py:150\u001b[0m, in \u001b[0;36mfilter_traceback.<locals>.error_handler\u001b[0;34m(*args, **kwargs)\u001b[0m\n\u001b[1;32m    148\u001b[0m filtered_tb \u001b[38;5;241m=\u001b[39m \u001b[38;5;28;01mNone\u001b[39;00m\n\u001b[1;32m    149\u001b[0m \u001b[38;5;28;01mtry\u001b[39;00m:\n\u001b[0;32m--> 150\u001b[0m   \u001b[38;5;28;01mreturn\u001b[39;00m \u001b[43mfn\u001b[49m\u001b[43m(\u001b[49m\u001b[38;5;241;43m*\u001b[39;49m\u001b[43margs\u001b[49m\u001b[43m,\u001b[49m\u001b[43m \u001b[49m\u001b[38;5;241;43m*\u001b[39;49m\u001b[38;5;241;43m*\u001b[39;49m\u001b[43mkwargs\u001b[49m\u001b[43m)\u001b[49m\n\u001b[1;32m    151\u001b[0m \u001b[38;5;28;01mexcept\u001b[39;00m \u001b[38;5;167;01mException\u001b[39;00m \u001b[38;5;28;01mas\u001b[39;00m e:\n\u001b[1;32m    152\u001b[0m   filtered_tb \u001b[38;5;241m=\u001b[39m _process_traceback_frames(e\u001b[38;5;241m.\u001b[39m__traceback__)\n",
      "File \u001b[0;32m/usr/local/lib/python3.8/dist-packages/tensorflow/python/eager/def_function.py:915\u001b[0m, in \u001b[0;36mFunction.__call__\u001b[0;34m(self, *args, **kwds)\u001b[0m\n\u001b[1;32m    912\u001b[0m compiler \u001b[38;5;241m=\u001b[39m \u001b[38;5;124m\"\u001b[39m\u001b[38;5;124mxla\u001b[39m\u001b[38;5;124m\"\u001b[39m \u001b[38;5;28;01mif\u001b[39;00m \u001b[38;5;28mself\u001b[39m\u001b[38;5;241m.\u001b[39m_jit_compile \u001b[38;5;28;01melse\u001b[39;00m \u001b[38;5;124m\"\u001b[39m\u001b[38;5;124mnonXla\u001b[39m\u001b[38;5;124m\"\u001b[39m\n\u001b[1;32m    914\u001b[0m \u001b[38;5;28;01mwith\u001b[39;00m OptionalXlaContext(\u001b[38;5;28mself\u001b[39m\u001b[38;5;241m.\u001b[39m_jit_compile):\n\u001b[0;32m--> 915\u001b[0m   result \u001b[38;5;241m=\u001b[39m \u001b[38;5;28;43mself\u001b[39;49m\u001b[38;5;241;43m.\u001b[39;49m\u001b[43m_call\u001b[49m\u001b[43m(\u001b[49m\u001b[38;5;241;43m*\u001b[39;49m\u001b[43margs\u001b[49m\u001b[43m,\u001b[49m\u001b[43m \u001b[49m\u001b[38;5;241;43m*\u001b[39;49m\u001b[38;5;241;43m*\u001b[39;49m\u001b[43mkwds\u001b[49m\u001b[43m)\u001b[49m\n\u001b[1;32m    917\u001b[0m new_tracing_count \u001b[38;5;241m=\u001b[39m \u001b[38;5;28mself\u001b[39m\u001b[38;5;241m.\u001b[39mexperimental_get_tracing_count()\n\u001b[1;32m    918\u001b[0m without_tracing \u001b[38;5;241m=\u001b[39m (tracing_count \u001b[38;5;241m==\u001b[39m new_tracing_count)\n",
      "File \u001b[0;32m/usr/local/lib/python3.8/dist-packages/tensorflow/python/eager/def_function.py:947\u001b[0m, in \u001b[0;36mFunction._call\u001b[0;34m(self, *args, **kwds)\u001b[0m\n\u001b[1;32m    944\u001b[0m   \u001b[38;5;28mself\u001b[39m\u001b[38;5;241m.\u001b[39m_lock\u001b[38;5;241m.\u001b[39mrelease()\n\u001b[1;32m    945\u001b[0m   \u001b[38;5;66;03m# In this case we have created variables on the first call, so we run the\u001b[39;00m\n\u001b[1;32m    946\u001b[0m   \u001b[38;5;66;03m# defunned version which is guaranteed to never create variables.\u001b[39;00m\n\u001b[0;32m--> 947\u001b[0m   \u001b[38;5;28;01mreturn\u001b[39;00m \u001b[38;5;28;43mself\u001b[39;49m\u001b[38;5;241;43m.\u001b[39;49m\u001b[43m_stateless_fn\u001b[49m\u001b[43m(\u001b[49m\u001b[38;5;241;43m*\u001b[39;49m\u001b[43margs\u001b[49m\u001b[43m,\u001b[49m\u001b[43m \u001b[49m\u001b[38;5;241;43m*\u001b[39;49m\u001b[38;5;241;43m*\u001b[39;49m\u001b[43mkwds\u001b[49m\u001b[43m)\u001b[49m  \u001b[38;5;66;03m# pylint: disable=not-callable\u001b[39;00m\n\u001b[1;32m    948\u001b[0m \u001b[38;5;28;01melif\u001b[39;00m \u001b[38;5;28mself\u001b[39m\u001b[38;5;241m.\u001b[39m_stateful_fn \u001b[38;5;129;01mis\u001b[39;00m \u001b[38;5;129;01mnot\u001b[39;00m \u001b[38;5;28;01mNone\u001b[39;00m:\n\u001b[1;32m    949\u001b[0m   \u001b[38;5;66;03m# Release the lock early so that multiple threads can perform the call\u001b[39;00m\n\u001b[1;32m    950\u001b[0m   \u001b[38;5;66;03m# in parallel.\u001b[39;00m\n\u001b[1;32m    951\u001b[0m   \u001b[38;5;28mself\u001b[39m\u001b[38;5;241m.\u001b[39m_lock\u001b[38;5;241m.\u001b[39mrelease()\n",
      "File \u001b[0;32m/usr/local/lib/python3.8/dist-packages/tensorflow/python/eager/function.py:2956\u001b[0m, in \u001b[0;36mFunction.__call__\u001b[0;34m(self, *args, **kwargs)\u001b[0m\n\u001b[1;32m   2953\u001b[0m \u001b[38;5;28;01mwith\u001b[39;00m \u001b[38;5;28mself\u001b[39m\u001b[38;5;241m.\u001b[39m_lock:\n\u001b[1;32m   2954\u001b[0m   (graph_function,\n\u001b[1;32m   2955\u001b[0m    filtered_flat_args) \u001b[38;5;241m=\u001b[39m \u001b[38;5;28mself\u001b[39m\u001b[38;5;241m.\u001b[39m_maybe_define_function(args, kwargs)\n\u001b[0;32m-> 2956\u001b[0m \u001b[38;5;28;01mreturn\u001b[39;00m \u001b[43mgraph_function\u001b[49m\u001b[38;5;241;43m.\u001b[39;49m\u001b[43m_call_flat\u001b[49m\u001b[43m(\u001b[49m\n\u001b[1;32m   2957\u001b[0m \u001b[43m    \u001b[49m\u001b[43mfiltered_flat_args\u001b[49m\u001b[43m,\u001b[49m\u001b[43m \u001b[49m\u001b[43mcaptured_inputs\u001b[49m\u001b[38;5;241;43m=\u001b[39;49m\u001b[43mgraph_function\u001b[49m\u001b[38;5;241;43m.\u001b[39;49m\u001b[43mcaptured_inputs\u001b[49m\u001b[43m)\u001b[49m\n",
      "File \u001b[0;32m/usr/local/lib/python3.8/dist-packages/tensorflow/python/eager/function.py:1853\u001b[0m, in \u001b[0;36mConcreteFunction._call_flat\u001b[0;34m(self, args, captured_inputs, cancellation_manager)\u001b[0m\n\u001b[1;32m   1849\u001b[0m possible_gradient_type \u001b[38;5;241m=\u001b[39m gradients_util\u001b[38;5;241m.\u001b[39mPossibleTapeGradientTypes(args)\n\u001b[1;32m   1850\u001b[0m \u001b[38;5;28;01mif\u001b[39;00m (possible_gradient_type \u001b[38;5;241m==\u001b[39m gradients_util\u001b[38;5;241m.\u001b[39mPOSSIBLE_GRADIENT_TYPES_NONE\n\u001b[1;32m   1851\u001b[0m     \u001b[38;5;129;01mand\u001b[39;00m executing_eagerly):\n\u001b[1;32m   1852\u001b[0m   \u001b[38;5;66;03m# No tape is watching; skip to running the function.\u001b[39;00m\n\u001b[0;32m-> 1853\u001b[0m   \u001b[38;5;28;01mreturn\u001b[39;00m \u001b[38;5;28mself\u001b[39m\u001b[38;5;241m.\u001b[39m_build_call_outputs(\u001b[38;5;28;43mself\u001b[39;49m\u001b[38;5;241;43m.\u001b[39;49m\u001b[43m_inference_function\u001b[49m\u001b[38;5;241;43m.\u001b[39;49m\u001b[43mcall\u001b[49m\u001b[43m(\u001b[49m\n\u001b[1;32m   1854\u001b[0m \u001b[43m      \u001b[49m\u001b[43mctx\u001b[49m\u001b[43m,\u001b[49m\u001b[43m \u001b[49m\u001b[43margs\u001b[49m\u001b[43m,\u001b[49m\u001b[43m \u001b[49m\u001b[43mcancellation_manager\u001b[49m\u001b[38;5;241;43m=\u001b[39;49m\u001b[43mcancellation_manager\u001b[49m\u001b[43m)\u001b[49m)\n\u001b[1;32m   1855\u001b[0m forward_backward \u001b[38;5;241m=\u001b[39m \u001b[38;5;28mself\u001b[39m\u001b[38;5;241m.\u001b[39m_select_forward_and_backward_functions(\n\u001b[1;32m   1856\u001b[0m     args,\n\u001b[1;32m   1857\u001b[0m     possible_gradient_type,\n\u001b[1;32m   1858\u001b[0m     executing_eagerly)\n\u001b[1;32m   1859\u001b[0m forward_function, args_with_tangents \u001b[38;5;241m=\u001b[39m forward_backward\u001b[38;5;241m.\u001b[39mforward()\n",
      "File \u001b[0;32m/usr/local/lib/python3.8/dist-packages/tensorflow/python/eager/function.py:499\u001b[0m, in \u001b[0;36m_EagerDefinedFunction.call\u001b[0;34m(self, ctx, args, cancellation_manager)\u001b[0m\n\u001b[1;32m    497\u001b[0m \u001b[38;5;28;01mwith\u001b[39;00m _InterpolateFunctionError(\u001b[38;5;28mself\u001b[39m):\n\u001b[1;32m    498\u001b[0m   \u001b[38;5;28;01mif\u001b[39;00m cancellation_manager \u001b[38;5;129;01mis\u001b[39;00m \u001b[38;5;28;01mNone\u001b[39;00m:\n\u001b[0;32m--> 499\u001b[0m     outputs \u001b[38;5;241m=\u001b[39m \u001b[43mexecute\u001b[49m\u001b[38;5;241;43m.\u001b[39;49m\u001b[43mexecute\u001b[49m\u001b[43m(\u001b[49m\n\u001b[1;32m    500\u001b[0m \u001b[43m        \u001b[49m\u001b[38;5;28;43mstr\u001b[39;49m\u001b[43m(\u001b[49m\u001b[38;5;28;43mself\u001b[39;49m\u001b[38;5;241;43m.\u001b[39;49m\u001b[43msignature\u001b[49m\u001b[38;5;241;43m.\u001b[39;49m\u001b[43mname\u001b[49m\u001b[43m)\u001b[49m\u001b[43m,\u001b[49m\n\u001b[1;32m    501\u001b[0m \u001b[43m        \u001b[49m\u001b[43mnum_outputs\u001b[49m\u001b[38;5;241;43m=\u001b[39;49m\u001b[38;5;28;43mself\u001b[39;49m\u001b[38;5;241;43m.\u001b[39;49m\u001b[43m_num_outputs\u001b[49m\u001b[43m,\u001b[49m\n\u001b[1;32m    502\u001b[0m \u001b[43m        \u001b[49m\u001b[43minputs\u001b[49m\u001b[38;5;241;43m=\u001b[39;49m\u001b[43margs\u001b[49m\u001b[43m,\u001b[49m\n\u001b[1;32m    503\u001b[0m \u001b[43m        \u001b[49m\u001b[43mattrs\u001b[49m\u001b[38;5;241;43m=\u001b[39;49m\u001b[43mattrs\u001b[49m\u001b[43m,\u001b[49m\n\u001b[1;32m    504\u001b[0m \u001b[43m        \u001b[49m\u001b[43mctx\u001b[49m\u001b[38;5;241;43m=\u001b[39;49m\u001b[43mctx\u001b[49m\u001b[43m)\u001b[49m\n\u001b[1;32m    505\u001b[0m   \u001b[38;5;28;01melse\u001b[39;00m:\n\u001b[1;32m    506\u001b[0m     outputs \u001b[38;5;241m=\u001b[39m execute\u001b[38;5;241m.\u001b[39mexecute_with_cancellation(\n\u001b[1;32m    507\u001b[0m         \u001b[38;5;28mstr\u001b[39m(\u001b[38;5;28mself\u001b[39m\u001b[38;5;241m.\u001b[39msignature\u001b[38;5;241m.\u001b[39mname),\n\u001b[1;32m    508\u001b[0m         num_outputs\u001b[38;5;241m=\u001b[39m\u001b[38;5;28mself\u001b[39m\u001b[38;5;241m.\u001b[39m_num_outputs,\n\u001b[0;32m   (...)\u001b[0m\n\u001b[1;32m    511\u001b[0m         ctx\u001b[38;5;241m=\u001b[39mctx,\n\u001b[1;32m    512\u001b[0m         cancellation_manager\u001b[38;5;241m=\u001b[39mcancellation_manager)\n",
      "File \u001b[0;32m/usr/local/lib/python3.8/dist-packages/tensorflow/python/eager/execute.py:54\u001b[0m, in \u001b[0;36mquick_execute\u001b[0;34m(op_name, num_outputs, inputs, attrs, ctx, name)\u001b[0m\n\u001b[1;32m     52\u001b[0m \u001b[38;5;28;01mtry\u001b[39;00m:\n\u001b[1;32m     53\u001b[0m   ctx\u001b[38;5;241m.\u001b[39mensure_initialized()\n\u001b[0;32m---> 54\u001b[0m   tensors \u001b[38;5;241m=\u001b[39m \u001b[43mpywrap_tfe\u001b[49m\u001b[38;5;241;43m.\u001b[39;49m\u001b[43mTFE_Py_Execute\u001b[49m\u001b[43m(\u001b[49m\u001b[43mctx\u001b[49m\u001b[38;5;241;43m.\u001b[39;49m\u001b[43m_handle\u001b[49m\u001b[43m,\u001b[49m\u001b[43m \u001b[49m\u001b[43mdevice_name\u001b[49m\u001b[43m,\u001b[49m\u001b[43m \u001b[49m\u001b[43mop_name\u001b[49m\u001b[43m,\u001b[49m\n\u001b[1;32m     55\u001b[0m \u001b[43m                                      \u001b[49m\u001b[43minputs\u001b[49m\u001b[43m,\u001b[49m\u001b[43m \u001b[49m\u001b[43mattrs\u001b[49m\u001b[43m,\u001b[49m\u001b[43m \u001b[49m\u001b[43mnum_outputs\u001b[49m\u001b[43m)\u001b[49m\n\u001b[1;32m     56\u001b[0m \u001b[38;5;28;01mexcept\u001b[39;00m core\u001b[38;5;241m.\u001b[39m_NotOkStatusException \u001b[38;5;28;01mas\u001b[39;00m e:\n\u001b[1;32m     57\u001b[0m   \u001b[38;5;28;01mif\u001b[39;00m name \u001b[38;5;129;01mis\u001b[39;00m \u001b[38;5;129;01mnot\u001b[39;00m \u001b[38;5;28;01mNone\u001b[39;00m:\n",
      "\u001b[0;31mKeyboardInterrupt\u001b[0m: "
     ]
    },
    {
     "data": {
      "image/png": "[encoded data removed]",
      "text/plain": [
       "<Figure size 600x500 with 1 Axes>"
      ]
     },
     "metadata": {},
     "output_type": "display_data"
    }
   ],
   "source": [
    "# NUM iterations with 4M random samples per iter\n",
    "\n",
    "for i in range(1, NUM+1):\n",
    "    train_single_iteration(X0_tot, X1_tot, iteration=i)\n"
   ]
  },
  {
   "cell_type": "code",
   "execution_count": null,
   "id": "51b1a7ff-3d97-452a-bd09-143934a70301",
   "metadata": {},
   "outputs": [],
   "source": []
  },
  {
   "cell_type": "code",
   "execution_count": 30,
   "id": "b84f4ead-0ddf-4c3a-9fe9-2b4cde2d85e5",
   "metadata": {},
   "outputs": [],
   "source": [
    "# test rwgt\n",
    "\n",
    "Phi_sizes = (100,100,128)\n",
    "F_sizes = (100,100,100)\n",
    "input_dim=1\n",
    "\n",
    "dctr = PFN(input_dim = input_dim,\n",
    "           Phi_sizes = Phi_sizes, \n",
    "           F_sizes   = F_sizes,\n",
    "           summary   = False)\n",
    "\n",
    "\n",
    "model = './saved_models/DCTR_pp_tt_1D_Rb_mine_xB_CP5_nominal_iter_01.h5'\n",
    "dctr.load_weights(model)\n",
    "\n",
    "predics = dctr.predict(X0_tot, batch_size=1000)\n",
    "weights = np.divide(predics[:,1], (1-predics[:,1]), out=np.zeros_like(predics[:,1]), where=(predics[:,1])!=1.0 )\n"
   ]
  },
  {
   "cell_type": "code",
   "execution_count": 31,
   "id": "21e38013-47e3-469e-8ecb-45c0c196734a",
   "metadata": {},
   "outputs": [
    {
     "data": {
      "image/png": "[encoded data removed]",
      "text/plain": [
       "<Figure size 600x500 with 1 Axes>"
      ]
     },
     "metadata": {},
     "output_type": "display_data"
    }
   ],
   "source": [
    "# xb\n",
    "plt.figure(figsize=(6,5))\n",
    "bins = np.linspace(0,1.1,30)\n",
    "plot_style_0 = {'histtype':'step', 'color':'blue', 'linewidth':2, 'linestyle':'--', 'density':True}\n",
    "plot_style_1 = {'histtype':'step', 'color':'red', 'linewidth':2, 'linestyle':'--', 'density':True}\n",
    "plot_style_2 = {'histtype':'step', 'color':'green', 'linewidth':2, 'linestyle':'--', 'density':True}\n",
    "plot_style_3 = {'histtype':'step', 'color':'orange', 'linewidth':2, 'linestyle':'--', 'density':True}\n",
    "hist0 = plt.hist(X0_tot[:,0,0], bins = bins, alpha=0.7, weights=weights, label = r'$R_b = 1.056$ rwgt', **plot_style_0)\n",
    "hist1 = plt.hist(X1_tot[:,0,0], bins = bins, alpha=0.7, label = r'$R_b = 0.855$', **plot_style_1)\n",
    "\n",
    "plt.xlabel(r'$x_b$')\n",
    "plt.ylabel('$entries$')\n",
    "#plt.yscale('log')\n",
    "plt.legend(loc='upper left')\n",
    "plt.show()\n",
    "\n"
   ]
  },
  {
   "cell_type": "code",
   "execution_count": null,
   "id": "2a4876bc-c9fe-43c6-8069-db1870caf3a6",
   "metadata": {},
   "outputs": [],
   "source": []
  },
  {
   "cell_type": "code",
   "execution_count": 32,
   "id": "3fd0ecb6-5dd8-40ce-8e89-963dbed63b41",
   "metadata": {},
   "outputs": [
    {
     "name": "stdout",
     "output_type": "stream",
     "text": [
      "[NbConvertApp] Converting notebook Rb_bootstrapping_training.ipynb to python\n",
      "[NbConvertApp] Writing 9758 bytes to Rb_bootstrapping_training.py\n"
     ]
    }
   ],
   "source": [
    "!jupyter nbconvert Rb_bootstrapping_training.ipynb --to python\n"
   ]
  }
 ],
 "metadata": {
  "kernelspec": {
   "display_name": "Python 3 (ipykernel)",
   "language": "python",
   "name": "python3"
  },
  "language_info": {
   "codemirror_mode": {
    "name": "ipython",
    "version": 3
   },
   "file_extension": ".py",
   "mimetype": "text/x-python",
   "name": "python",
   "nbconvert_exporter": "python",
   "pygments_lexer": "ipython3",
   "version": "3.8.10"
  }
 },
 "nbformat": 4,
 "nbformat_minor": 5
}
