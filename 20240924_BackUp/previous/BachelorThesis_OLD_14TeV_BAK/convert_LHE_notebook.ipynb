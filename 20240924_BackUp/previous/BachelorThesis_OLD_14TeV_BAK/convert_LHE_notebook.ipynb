{
 "cells": [
  {
   "cell_type": "code",
   "execution_count": 2,
   "metadata": {},
   "outputs": [],
   "source": [
    "import numpy as np\n",
    "import sys\n",
    "sys.path.append('/tf/home/gdrive/_STUDIUM_/Semester_06/BachelorThesis/')\n",
    "import DCTR\n"
   ]
  },
  {
   "cell_type": "code",
   "execution_count": null,
   "id": "003bcbc1",
   "metadata": {},
   "outputs": [],
   "source": [
    "from importlib import reload\n",
    "reload(DCTR)"
   ]
  },
  {
   "cell_type": "markdown",
   "id": "1c655410-2a66-4a78-a4b9-ccb4e769255b",
   "metadata": {},
   "source": [
    "# POWHEG hvq | theta = 0"
   ]
  },
  {
   "cell_type": "code",
   "execution_count": null,
   "metadata": {},
   "outputs": [],
   "source": []
  },
  {
   "cell_type": "code",
   "execution_count": 2,
   "id": "5ede26eb-a040-4147-824d-458f9437bd12",
   "metadata": {
    "tags": []
   },
   "outputs": [
    {
     "name": "stdout",
     "output_type": "stream",
     "text": [
      "discarded particles: 0, due to rapidity domain error\n",
      "discarded events: 870, due to pseudorapidity domain error\n",
      "array shape is: (8607384, 11, 9) and should be: (numEvents, particlesPerEvent + tt-pair, attributesPerParticle)\n"
     ]
    }
   ],
   "source": [
    "# POWHEG hvq X0 -> theta = 0\n",
    "\n",
    "# seed1-seed5 | defaults: outLabel=None, maxJetParts=8, label='converted_lhe', recursive=True):\n",
    "DCTR.convert_lhe(inputFolder = '/tf/data/BachelorThesis_Data/LHE/data/POWHEG_hvq/seed1-seed5/',\n",
    "                 outputFolder = '/tf/data/BachelorThesis_Data/LHE/data/POWHEG_hvq/', outLabel='seed1-seed5_', theta=0)\n",
    "\n"
   ]
  },
  {
   "cell_type": "code",
   "execution_count": 3,
   "metadata": {},
   "outputs": [
    {
     "name": "stdout",
     "output_type": "stream",
     "text": [
      "discarded particles: 0, due to rapidity domain error\n",
      "discarded events: 953, due to pseudorapidity domain error\n",
      "array shape is: (8999047, 11, 9) and should be: (numEvents, particlesPerEvent + tt-pair, attributesPerParticle)\n"
     ]
    }
   ],
   "source": [
    "# seed6-seed10\n",
    "DCTR.convert_lhe(inputFolder = '/tf/data/BachelorThesis_Data/LHE/data/POWHEG_hvq/seed6-seed10/',\n",
    "                 outputFolder = '/tf/data/BachelorThesis_Data/LHE/data/POWHEG_hvq/', outLabel='seed6-seed10_', theta=0)\n",
    "\n"
   ]
  },
  {
   "cell_type": "code",
   "execution_count": 4,
   "metadata": {},
   "outputs": [
    {
     "name": "stdout",
     "output_type": "stream",
     "text": [
      "discarded particles: 0, due to rapidity domain error\n",
      "discarded events: 652, due to pseudorapidity domain error\n",
      "array shape is: (5999348, 11, 9) and should be: (numEvents, particlesPerEvent + tt-pair, attributesPerParticle)\n",
      "discarded particles: 0, due to rapidity domain error\n",
      "discarded events: 599, due to pseudorapidity domain error\n",
      "array shape is: (5999401, 11, 9) and should be: (numEvents, particlesPerEvent + tt-pair, attributesPerParticle)\n"
     ]
    }
   ],
   "source": [
    "# seed11-seed13\n",
    "DCTR.convert_lhe(inputFolder = '/tf/data/BachelorThesis_Data/LHE/data/POWHEG_hvq/seed11-seed13/',\n",
    "                 outputFolder = '/tf/data/BachelorThesis_Data/LHE/data/POWHEG_hvq/', outLabel='seed11-seed13_', theta=0)\n",
    "\n",
    "# seed14-seed16\n",
    "DCTR.convert_lhe(inputFolder = '/tf/data/BachelorThesis_Data/LHE/data/POWHEG_hvq/seed14-seed16/',\n",
    "                 outputFolder = '/tf/data/BachelorThesis_Data/LHE/data/POWHEG_hvq/', outLabel='seed14-seed16_', theta=0)\n"
   ]
  },
  {
   "cell_type": "code",
   "execution_count": null,
   "metadata": {},
   "outputs": [],
   "source": []
  },
  {
   "cell_type": "code",
   "execution_count": 2,
   "id": "939981cc-3a16-4d32-a2ea-47ae07bbfa09",
   "metadata": {},
   "outputs": [],
   "source": [
    "# combine partial datasets\n",
    "X0 = []\n",
    "\n",
    "# Load multiple datasets and combine \n",
    "X0 = np.concatenate((np.array(DCTR.load_dataset('/tf/data/BachelorThesis_Data/LHE/data/POWHEG_hvq/seed1-seed5_converted_lhe.npz')),\n",
    "                     np.array(DCTR.load_dataset('/tf/data/BachelorThesis_Data/LHE/data/POWHEG_hvq/seed6-seed10_converted_lhe.npz')),\n",
    "                     np.array(DCTR.load_dataset('/tf/data/BachelorThesis_Data/LHE/data/POWHEG_hvq/seed11-seed13_converted_lhe.npz')),\n",
    "                     np.array(DCTR.load_dataset('/tf/data/BachelorThesis_Data/LHE/data/POWHEG_hvq/seed14-seed16_converted_lhe.npz'))))\n",
    "\n",
    "np.savez_compressed('/tf/data/BachelorThesis_Data/LHE/data/POWHEG_hvq/converted_lhe.npz', a=X0)\n",
    "\n",
    "# clear X0 array\n",
    "X0 = []\n"
   ]
  },
  {
   "cell_type": "code",
   "execution_count": null,
   "id": "42ed503f-0556-4b3a-b23f-1887101141b9",
   "metadata": {},
   "outputs": [],
   "source": []
  },
  {
   "cell_type": "markdown",
   "id": "25e17849-bc09-4c66-8ffa-9205b59dcce5",
   "metadata": {},
   "source": [
    "# MiNNLO | theta = 1"
   ]
  },
  {
   "cell_type": "code",
   "execution_count": 5,
   "id": "7b184461-4e5e-4b2c-b7fe-2afb5fac168c",
   "metadata": {
    "tags": []
   },
   "outputs": [
    {
     "name": "stdout",
     "output_type": "stream",
     "text": [
      "discarded particles: 0, due to rapidity domain error\n",
      "discarded events: 0, due to pseudorapidity domain error\n",
      "array shape is: (4863968, 11, 9) and should be: (numEvents, particlesPerEvent + tt-pair, attributesPerParticle)\n",
      "discarded particles: 1, due to rapidity domain error\n",
      "discarded events: 0, due to pseudorapidity domain error\n",
      "array shape is: (4689970, 11, 9) and should be: (numEvents, particlesPerEvent + tt-pair, attributesPerParticle)\n"
     ]
    }
   ],
   "source": [
    "# MiNNLO X1 und P1  -> theta = 1\n",
    "\n",
    "# 0001-0500 | defaults: outLabel=None, maxJetParts=8, label='converted_lhe', recursive=True):\n",
    "DCTR.convert_lhe(inputFolder = '/tf/data/BachelorThesis_Data/LHE/data/MiNNLO/0001-0500/',\n",
    "                 outputFolder = '/tf/data/BachelorThesis_Data/LHE/data/MiNNLO/', outLabel='0001-0500_', theta=1)\n",
    "\n",
    "# 0501-1000\n",
    "DCTR.convert_lhe(inputFolder = '/tf/data/BachelorThesis_Data/LHE/data/MiNNLO/0501-1000/', \n",
    "                 outputFolder = '/tf/data/BachelorThesis_Data/LHE/data/MiNNLO/', outLabel='0501-1000_', theta=1)\n"
   ]
  },
  {
   "cell_type": "code",
   "execution_count": 6,
   "id": "206a7ab3-8a76-4300-a169-fbae6212a102",
   "metadata": {},
   "outputs": [],
   "source": [
    "# combine partial datasets\n",
    "X1 = []\n",
    "\n",
    "# Load multiple datasets and combine \n",
    "X1 = np.concatenate((np.array(DCTR.load_dataset('/tf/data/BachelorThesis_Data/LHE/data/MiNNLO/0001-0500_converted_lhe.npz')),\n",
    "                     np.array(DCTR.load_dataset('/tf/data/BachelorThesis_Data/LHE/data/MiNNLO/0501-1000_converted_lhe.npz'))))\n",
    "\n",
    "np.savez_compressed('/tf/data/BachelorThesis_Data/LHE/data/MiNNLO/converted_lhe.npz', a=X1)\n",
    "\n",
    "# clear X1 array\n",
    "X1 = []\n"
   ]
  },
  {
   "cell_type": "code",
   "execution_count": null,
   "id": "fd2aa82a-4ba3-4e2f-8822-064d3602f0dc",
   "metadata": {},
   "outputs": [],
   "source": []
  },
  {
   "cell_type": "code",
   "execution_count": null,
   "metadata": {},
   "outputs": [],
   "source": []
  },
  {
   "cell_type": "markdown",
   "metadata": {},
   "source": [
    "# create and save pre-normalized datasets of tt-pair and top and anti-top"
   ]
  },
  {
   "cell_type": "code",
   "execution_count": 4,
   "metadata": {},
   "outputs": [],
   "source": [
    "X0 = []\n",
    "X1 = []\n",
    "\n",
    "X0 = np.array(DCTR.load_dataset('/tf/data/BachelorThesis_Data/LHE/data/POWHEG_hvq/converted_lhe.npz'))\n",
    "X1 = np.array(DCTR.load_dataset('/tf/data/BachelorThesis_Data/LHE/data/MiNNLO/converted_lhe.npz'))\n"
   ]
  },
  {
   "cell_type": "code",
   "execution_count": 5,
   "metadata": {},
   "outputs": [],
   "source": [
    "# removing all particles except the top and anti-top\n",
    "# MiNNLO and POWHEG hvq gave different amounts of secondary particles -> too easy to tell apart\n",
    "\n",
    "X0 = DCTR.remove_jet_parts(X0) # default: maxJetParts=0 -> only tt-pair, top and anti-top left in array\n",
    "X1 = DCTR.remove_jet_parts(X1)\n"
   ]
  },
  {
   "cell_type": "code",
   "execution_count": 6,
   "metadata": {},
   "outputs": [],
   "source": [
    "# normalize data\n",
    "\n",
    "X0, X1 = DCTR.normalize_data2_per_particle(X0, X1)\n"
   ]
  },
  {
   "cell_type": "code",
   "execution_count": 7,
   "metadata": {},
   "outputs": [],
   "source": [
    "np.savez_compressed('/tf/data/BachelorThesis_Data/LHE/data/POWHEG_hvq/normed_lhe.npz', a=X0)\n",
    "np.savez_compressed('/tf/data/BachelorThesis_Data/LHE/data/MiNNLO/normed_lhe.npz', a=X1)\n"
   ]
  },
  {
   "cell_type": "code",
   "execution_count": 8,
   "metadata": {},
   "outputs": [],
   "source": [
    "X0 = []\n",
    "X1 = []\n"
   ]
  },
  {
   "cell_type": "code",
   "execution_count": null,
   "metadata": {},
   "outputs": [],
   "source": []
  }
 ],
 "metadata": {
  "kernelspec": {
   "display_name": "Python 3",
   "language": "python",
   "name": "python3"
  },
  "language_info": {
   "codemirror_mode": {
    "name": "ipython",
    "version": 3
   },
   "file_extension": ".py",
   "mimetype": "text/x-python",
   "name": "python",
   "nbconvert_exporter": "python",
   "pygments_lexer": "ipython3",
   "version": "3.8.10"
  }
 },
 "nbformat": 4,
 "nbformat_minor": 5
}
