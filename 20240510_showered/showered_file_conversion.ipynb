{
 "cells": [
  {
   "cell_type": "code",
   "execution_count": 1,
   "metadata": {},
   "outputs": [
    {
     "name": "stdout",
     "output_type": "stream",
     "text": [
      "[PhysicalDevice(name='/physical_device:GPU:0', device_type='GPU')]\n"
     ]
    }
   ],
   "source": [
    "# import system modules\n",
    "import sys\n",
    "import os\n",
    "os.system('for a in /sys/bus/pci/devices/*; do echo 0 | tee -a $a/numa_node>/dev/null; done') # get rid of NUMA node warnings in my docker: https://github.com/tensorflow/tensorflow/issues/42738\n",
    "import gc\n",
    "\n",
    "# import standard numerical modules\n",
    "import numpy as np\n",
    "import math\n",
    "\n",
    "# import machine learning modules\n",
    "import tensorflow as tf\n",
    "import keras.backend as K\n",
    "\n",
    "gpu = tf.config.list_physical_devices('GPU') # make sure GPU usage is enabled\n",
    "tf.config.experimental.set_virtual_device_configuration(gpu[0], [tf.config.experimental.VirtualDeviceConfiguration(memory_limit=int(7.5*1024))]) # make sure tensorflow doesn't use too much memorty and crashes\n",
    "print(gpu) \n",
    "\n",
    "sys.path.append('../20240503')\n",
    "import DCTR\n"
   ]
  },
  {
   "cell_type": "markdown",
   "metadata": {},
   "source": [
    "# define conversion function"
   ]
  },
  {
   "cell_type": "code",
   "execution_count": 3,
   "metadata": {},
   "outputs": [],
   "source": [
    "from madgraph.various.lhe_parser import EventFile # madgraph EventFile for getting event weights from lhe\n",
    "\n",
    "def convert_valentinas_datasets_to_mine(tt_npz_list, top_npz_list, lhe_list, theta):\n",
    "    '''converts valentinas dataset layout and shape into mine.\n",
    "    valentinas: tt:  [pt, y, eta, phi, mass, E]\n",
    "                top: [pt, y, eta, phi, mass, PID]\n",
    "    mine:            [pt, y, phi, mass, eta, E, PID, w, theta]\n",
    "                     [0 , 1, 2  , 3   , 4  , 5, 6  , 7, 8    ]\n",
    "\n",
    "    args:\n",
    "        tt_npz_list\n",
    "\n",
    "    no event weights! We need to load lhe to find event weight.\n",
    "    '''\n",
    "    assert len(tt_npz_list) == len(top_npz_list) == len(lhe_list), 'Lengths of lists must be equal!'\n",
    "\n",
    "    # create mapping from valentinas to mine\n",
    "    target_order  = ['pt', 'y', 'phi', 'mass', 'eta', 'E', 'PID', 'w', 'theta'] # my order\n",
    "    org_order_tt  = ['pt', 'y', 'eta', 'phi', 'mass', 'E', 'PID', 'w', 'theta'] # tt org\n",
    "    org_order_top = ['pt', 'y', 'eta', 'phi', 'mass', 'PID', 'E', 'w', 'theta'] # top org\n",
    "    mapping_tt = [org_order_tt.index(col) for col in target_order]\n",
    "    mapping_top = [org_order_top.index(col) for col in target_order]\n",
    "    \n",
    "    out = []\n",
    "    skipped = []\n",
    "    for i, _ in enumerate(tt_npz_list):\n",
    "        # check if files exist\n",
    "        if not os.path.exists(tt_npz_list[i]):\n",
    "            print(f\"file: {tt_npz_list[i]} doesn't exist; skipping\")\n",
    "            skipped.append(i+1)\n",
    "            continue\n",
    "        elif not os.path.exists(top_npz_list[i]):\n",
    "            print(f\"file: {top_npz_list[i]} doesn't exist; skipping\")\n",
    "            skipped.append(i+1)\n",
    "            continue\n",
    "        elif not os.path.exists(lhe_list[i]):\n",
    "            print(f\"file: {lhe_list[i]} doesn't exist; skipping\")\n",
    "            skipped.append(i+1)\n",
    "            continue\n",
    "        \n",
    "        # get event weights from lhe file\n",
    "        wgt = []\n",
    "        lhe = EventFile(lhe_list[i]) # uses madgraphs EventFile function to open the lhe file\n",
    "        for event in lhe:\n",
    "            w = event.wgt\n",
    "            wgt.append(w)\n",
    "        # print(f'{np.shape(wgt) = }')\n",
    "        \n",
    "        # load tt-dataset\n",
    "        tt = []\n",
    "        tt = np.load(tt_npz_list[i])['a']\n",
    "        # print(f'{np.shape(tt) = }')\n",
    "        \n",
    "        # load top (and anti-top) dataset\n",
    "        top = []\n",
    "        top = np.load(top_npz_list[i])['a']\n",
    "        # print(f'{np.shape(top) = }')\n",
    "\n",
    "        # check that lhe file and converted npz contain same number of events\n",
    "        if len(tt) != len(wgt) != len(top):\n",
    "            print(f'different number of events in files! \\n' + \n",
    "                  f'tt : len: {len(tt)} | file: {tt_npz_list[i]} \\n' +\n",
    "                  f'top: len: {len(top)} | file: {top_npz_list[i]} \\n' +\n",
    "                  f'lhe: len: {len(wgt)} | file: {lhe_list[i]} \\n' +\n",
    "                  f'skipping files {i+1}')\n",
    "            skipped.append(i+1)\n",
    "            continue\n",
    "        elif len(wgt) <= 10:\n",
    "            print(f'file: {lhe_list[i]} only has {len(wgt)} events; skipping')\n",
    "            skipped.append(i+1)\n",
    "            continue\n",
    "        \n",
    "\n",
    "        # pad arrays into correct final shape\n",
    "        tt = np.pad(tt, [(0,0), (0,0), (0, 3)])\n",
    "        top = np.pad(top, [(0,0), (0,0), (0, 3)])   \n",
    "        # print(f'shape after padding {np.shape(tt) = }')\n",
    "        # print(f'shape after padding {np.shape(top) = }') \n",
    "\n",
    "        # re-sort datasets\n",
    "        tt = tt[..., mapping_tt] \n",
    "        top = top[..., mapping_top]\n",
    "\n",
    "        # concat to have tt-pair and top and anti-top for each event\n",
    "        concat = []\n",
    "        concat = np.concatenate((tt, top), axis=1)\n",
    "        # print(f'{np.shape(concat) = }')\n",
    "        \n",
    "        # add wgt\n",
    "        wgt = [wgt] * 3 # every particle has same wgt (as it is an event wgt)\n",
    "        concat[..., 7] = np.transpose(wgt)\n",
    "        \n",
    "        # add theta\n",
    "        theta_ = np.full_like(concat[..., 8], theta)\n",
    "        concat[..., 8] = theta_\n",
    "        \n",
    "        # add to out\n",
    "        if i == 0:\n",
    "            out = concat\n",
    "        else:\n",
    "            out = np.concatenate((out, concat), axis = 0)\n",
    "        print(f'finished processing file {i+1:0>4}', end='\\r')\n",
    "    \n",
    "    return out, skipped\n"
   ]
  },
  {
   "cell_type": "code",
   "execution_count": 4,
   "metadata": {},
   "outputs": [
    {
     "name": "stdout",
     "output_type": "stream",
     "text": [
      "/tf/data/BachelorThesis_Data/showered/MiNNLO/ShowerTTR_1_0.855.npz\n",
      "/tf/data/BachelorThesis_Data/showered/MiNNLO/ShowerTTR_251_0.855.npz\n",
      "/tf/data/BachelorThesis_Data/showered/MiNNLO/ShowerTTR_501_0.855.npz\n",
      "/tf/data/BachelorThesis_Data/showered/MiNNLO/ShowerTTR_751_0.855.npz\n",
      "/tf/data/BachelorThesis_Data/showered/MiNNLO/ShowerTopR_1_0.855.npz\n",
      "/tf/data/BachelorThesis_Data/showered/MiNNLO/ShowerTopR_251_0.855.npz\n",
      "/tf/data/BachelorThesis_Data/showered/MiNNLO/ShowerTopR_501_0.855.npz\n",
      "/tf/data/BachelorThesis_Data/showered/MiNNLO/ShowerTopR_751_0.855.npz\n",
      "/tf/data/BachelorThesis_Data/LHE/data/MiNNLO/0001-0500/pwgevents-0001.lhe\n",
      "/tf/data/BachelorThesis_Data/LHE/data/MiNNLO/0001-0500/pwgevents-0251.lhe\n",
      "/tf/data/BachelorThesis_Data/LHE/data/MiNNLO/0501-1000/pwgevents-0501.lhe\n",
      "/tf/data/BachelorThesis_Data/LHE/data/MiNNLO/0501-1000/pwgevents-0751.lhe\n"
     ]
    }
   ],
   "source": [
    "# load showered .npz events \n",
    "\n",
    "# x1 NNLO MiNNLO\n",
    "x1_path = '/tf/data/BachelorThesis_Data/showered/MiNNLO/'\n",
    "x1_lhe_path = '/tf/data/BachelorThesis_Data/LHE/data/MiNNLO/'\n",
    "num_train = 1000\n",
    "\n",
    "shower_tt_list = [''] * num_train\n",
    "shower_top_list = [''] * num_train\n",
    "lhe_list = [''] * num_train\n",
    "for i in range(num_train):\n",
    "    shower_tt_list[i] = f'{x1_path}ShowerTTR_{i+1}_0.855.npz'\n",
    "    shower_top_list[i] = f'{x1_path}ShowerTopR_{i+1}_0.855.npz'\n",
    "    # find lhe file\n",
    "    for root, dirs, files in os.walk(x1_lhe_path):\n",
    "        for name in files:\n",
    "            if name == f'pwgevents-{i+1:0>4}.lhe':\n",
    "                lhe_list[i] = f'{root}/{name}'\n",
    "\n",
    "print(*shower_tt_list[:-1:250], sep='\\n')\n",
    "print(*shower_top_list[:-1:250], sep='\\n')\n",
    "print(*lhe_list[:-1:250], sep='\\n')\n"
   ]
  },
  {
   "cell_type": "code",
   "execution_count": 8,
   "metadata": {
    "collapsed": true,
    "jupyter": {
     "outputs_hidden": true
    }
   },
   "outputs": [
    {
     "name": "stdout",
     "output_type": "stream",
     "text": [
      "different number of events in files! \n",
      "tt : len: 7000 | file: /tf/data/BachelorThesis_Data/showered/MiNNLO/ShowerTTR_75_0.855.npz \n",
      "top: len: 7000 | file: /tf/data/BachelorThesis_Data/showered/MiNNLO/ShowerTopR_75_0.855.npz \n",
      "lhe: len: 6999 | file: /tf/data/BachelorThesis_Data/LHE/data/MiNNLO/0001-0500/pwgevents-0075.lhe \n",
      "skipping files 75\n",
      "different number of events in files! \n",
      "tt : len: 7999 | file: /tf/data/BachelorThesis_Data/showered/MiNNLO/ShowerTTR_107_0.855.npz \n",
      "top: len: 7999 | file: /tf/data/BachelorThesis_Data/showered/MiNNLO/ShowerTopR_107_0.855.npz \n",
      "lhe: len: 7998 | file: /tf/data/BachelorThesis_Data/LHE/data/MiNNLO/0001-0500/pwgevents-0107.lhe \n",
      "skipping files 107\n",
      "different number of events in files! \n",
      "tt : len: 7999 | file: /tf/data/BachelorThesis_Data/showered/MiNNLO/ShowerTTR_108_0.855.npz \n",
      "top: len: 7999 | file: /tf/data/BachelorThesis_Data/showered/MiNNLO/ShowerTopR_108_0.855.npz \n",
      "lhe: len: 7998 | file: /tf/data/BachelorThesis_Data/LHE/data/MiNNLO/0001-0500/pwgevents-0108.lhe \n",
      "skipping files 108\n",
      "different number of events in files! \n",
      "tt : len: 7999 | file: /tf/data/BachelorThesis_Data/showered/MiNNLO/ShowerTTR_290_0.855.npz \n",
      "top: len: 7999 | file: /tf/data/BachelorThesis_Data/showered/MiNNLO/ShowerTopR_290_0.855.npz \n",
      "lhe: len: 7998 | file: /tf/data/BachelorThesis_Data/LHE/data/MiNNLO/0001-0500/pwgevents-0290.lhe \n",
      "skipping files 290\n",
      "file: /tf/data/BachelorThesis_Data/LHE/data/MiNNLO/possibly_broken/pwgevents-0309.lhe only has 0 events; skipping\n",
      "different number of events in files! \n",
      "tt : len: 7000 | file: /tf/data/BachelorThesis_Data/showered/MiNNLO/ShowerTTR_313_0.855.npz \n",
      "top: len: 7000 | file: /tf/data/BachelorThesis_Data/showered/MiNNLO/ShowerTopR_313_0.855.npz \n",
      "lhe: len: 6999 | file: /tf/data/BachelorThesis_Data/LHE/data/MiNNLO/0001-0500/pwgevents-0313.lhe \n",
      "skipping files 313\n",
      "file: /tf/data/BachelorThesis_Data/LHE/data/MiNNLO/possibly_broken/pwgevents-0363.lhe only has 0 events; skipping\n",
      "different number of events in files! \n",
      "tt : len: 8000 | file: /tf/data/BachelorThesis_Data/showered/MiNNLO/ShowerTTR_393_0.855.npz \n",
      "top: len: 8000 | file: /tf/data/BachelorThesis_Data/showered/MiNNLO/ShowerTopR_393_0.855.npz \n",
      "lhe: len: 7999 | file: /tf/data/BachelorThesis_Data/LHE/data/MiNNLO/0001-0500/pwgevents-0393.lhe \n",
      "skipping files 393\n",
      "different number of events in files! \n",
      "tt : len: 8999 | file: /tf/data/BachelorThesis_Data/showered/MiNNLO/ShowerTTR_395_0.855.npz \n",
      "top: len: 8999 | file: /tf/data/BachelorThesis_Data/showered/MiNNLO/ShowerTopR_395_0.855.npz \n",
      "lhe: len: 8998 | file: /tf/data/BachelorThesis_Data/LHE/data/MiNNLO/0001-0500/pwgevents-0395.lhe \n",
      "skipping files 395\n",
      "different number of events in files! \n",
      "tt : len: 7000 | file: /tf/data/BachelorThesis_Data/showered/MiNNLO/ShowerTTR_401_0.855.npz \n",
      "top: len: 7000 | file: /tf/data/BachelorThesis_Data/showered/MiNNLO/ShowerTopR_401_0.855.npz \n",
      "lhe: len: 6999 | file: /tf/data/BachelorThesis_Data/LHE/data/MiNNLO/0001-0500/pwgevents-0401.lhe \n",
      "skipping files 401\n",
      "file: /tf/data/BachelorThesis_Data/showered/MiNNLO/ShowerTTR_467_0.855.npz doesn't exist; skipping\n",
      "file: /tf/data/BachelorThesis_Data/showered/MiNNLO/ShowerTTR_468_0.855.npz doesn't exist; skipping\n",
      "file: /tf/data/BachelorThesis_Data/showered/MiNNLO/ShowerTTR_471_0.855.npz doesn't exist; skipping\n",
      "file: /tf/data/BachelorThesis_Data/showered/MiNNLO/ShowerTTR_482_0.855.npz doesn't exist; skipping\n",
      "file: /tf/data/BachelorThesis_Data/showered/MiNNLO/ShowerTTR_485_0.855.npz doesn't exist; skipping\n",
      "file: /tf/data/BachelorThesis_Data/showered/MiNNLO/ShowerTTR_501_0.855.npz doesn't exist; skipping\n",
      "file: /tf/data/BachelorThesis_Data/LHE/data/MiNNLO/possibly_broken/pwgevents-0510.lhe only has 0 events; skipping\n",
      "file: /tf/data/BachelorThesis_Data/showered/MiNNLO/ShowerTTR_521_0.855.npz doesn't exist; skipping\n",
      "different number of events in files! \n",
      "tt : len: 7000 | file: /tf/data/BachelorThesis_Data/showered/MiNNLO/ShowerTTR_536_0.855.npz \n",
      "top: len: 7000 | file: /tf/data/BachelorThesis_Data/showered/MiNNLO/ShowerTopR_536_0.855.npz \n",
      "lhe: len: 6999 | file: /tf/data/BachelorThesis_Data/LHE/data/MiNNLO/0501-1000/pwgevents-0536.lhe \n",
      "skipping files 536\n",
      "file: /tf/data/BachelorThesis_Data/showered/MiNNLO/ShowerTTR_547_0.855.npz doesn't exist; skipping\n",
      "file: /tf/data/BachelorThesis_Data/LHE/data/MiNNLO/possibly_broken/pwgevents-0548.lhe only has 0 events; skipping\n",
      "file: /tf/data/BachelorThesis_Data/showered/MiNNLO/ShowerTTR_550_0.855.npz doesn't exist; skipping\n",
      "different number of events in files! \n",
      "tt : len: 6000 | file: /tf/data/BachelorThesis_Data/showered/MiNNLO/ShowerTTR_554_0.855.npz \n",
      "top: len: 6000 | file: /tf/data/BachelorThesis_Data/showered/MiNNLO/ShowerTopR_554_0.855.npz \n",
      "lhe: len: 5999 | file: /tf/data/BachelorThesis_Data/LHE/data/MiNNLO/0501-1000/pwgevents-0554.lhe \n",
      "skipping files 554\n",
      "different number of events in files! \n",
      "tt : len: 3000 | file: /tf/data/BachelorThesis_Data/showered/MiNNLO/ShowerTTR_577_0.855.npz \n",
      "top: len: 3000 | file: /tf/data/BachelorThesis_Data/showered/MiNNLO/ShowerTopR_577_0.855.npz \n",
      "lhe: len: 2999 | file: /tf/data/BachelorThesis_Data/LHE/data/MiNNLO/0501-1000/pwgevents-0577.lhe \n",
      "skipping files 577\n",
      "file: /tf/data/BachelorThesis_Data/showered/MiNNLO/ShowerTTR_586_0.855.npz doesn't exist; skipping\n",
      "file: /tf/data/BachelorThesis_Data/showered/MiNNLO/ShowerTTR_599_0.855.npz doesn't exist; skipping\n",
      "different number of events in files! \n",
      "tt : len: 7999 | file: /tf/data/BachelorThesis_Data/showered/MiNNLO/ShowerTTR_602_0.855.npz \n",
      "top: len: 7999 | file: /tf/data/BachelorThesis_Data/showered/MiNNLO/ShowerTopR_602_0.855.npz \n",
      "lhe: len: 7998 | file: /tf/data/BachelorThesis_Data/LHE/data/MiNNLO/0501-1000/pwgevents-0602.lhe \n",
      "skipping files 602\n",
      "different number of events in files! \n",
      "tt : len: 6000 | file: /tf/data/BachelorThesis_Data/showered/MiNNLO/ShowerTTR_608_0.855.npz \n",
      "top: len: 6000 | file: /tf/data/BachelorThesis_Data/showered/MiNNLO/ShowerTopR_608_0.855.npz \n",
      "lhe: len: 5999 | file: /tf/data/BachelorThesis_Data/LHE/data/MiNNLO/0501-1000/pwgevents-0608.lhe \n",
      "skipping files 608\n",
      "different number of events in files! \n",
      "tt : len: 3999 | file: /tf/data/BachelorThesis_Data/showered/MiNNLO/ShowerTTR_616_0.855.npz \n",
      "top: len: 3999 | file: /tf/data/BachelorThesis_Data/showered/MiNNLO/ShowerTopR_616_0.855.npz \n",
      "lhe: len: 3998 | file: /tf/data/BachelorThesis_Data/LHE/data/MiNNLO/0501-1000/pwgevents-0616.lhe \n",
      "skipping files 616\n",
      "file: /tf/data/BachelorThesis_Data/showered/MiNNLO/ShowerTTR_617_0.855.npz doesn't exist; skipping\n",
      "file: /tf/data/BachelorThesis_Data/showered/MiNNLO/ShowerTTR_626_0.855.npz doesn't exist; skipping\n",
      "file: /tf/data/BachelorThesis_Data/showered/MiNNLO/ShowerTTR_629_0.855.npz doesn't exist; skipping\n",
      "file: /tf/data/BachelorThesis_Data/showered/MiNNLO/ShowerTTR_651_0.855.npz doesn't exist; skipping\n",
      "file: /tf/data/BachelorThesis_Data/LHE/data/MiNNLO/possibly_broken/pwgevents-0663.lhe only has 0 events; skipping\n",
      "file: /tf/data/BachelorThesis_Data/showered/MiNNLO/ShowerTTR_670_0.855.npz doesn't exist; skipping\n",
      "different number of events in files! \n",
      "tt : len: 6000 | file: /tf/data/BachelorThesis_Data/showered/MiNNLO/ShowerTTR_672_0.855.npz \n",
      "top: len: 6000 | file: /tf/data/BachelorThesis_Data/showered/MiNNLO/ShowerTopR_672_0.855.npz \n",
      "lhe: len: 5999 | file: /tf/data/BachelorThesis_Data/LHE/data/MiNNLO/0501-1000/pwgevents-0672.lhe \n",
      "skipping files 672\n",
      "file: /tf/data/BachelorThesis_Data/showered/MiNNLO/ShowerTTR_687_0.855.npz doesn't exist; skipping\n",
      "file: /tf/data/BachelorThesis_Data/showered/MiNNLO/ShowerTTR_689_0.855.npz doesn't exist; skipping\n",
      "file: /tf/data/BachelorThesis_Data/showered/MiNNLO/ShowerTTR_692_0.855.npz doesn't exist; skipping\n",
      "file: /tf/data/BachelorThesis_Data/showered/MiNNLO/ShowerTTR_704_0.855.npz doesn't exist; skipping\n",
      "file: /tf/data/BachelorThesis_Data/LHE/data/MiNNLO/possibly_broken/pwgevents-0705.lhe only has 0 events; skipping\n",
      "file: /tf/data/BachelorThesis_Data/showered/MiNNLO/ShowerTTR_710_0.855.npz doesn't exist; skipping\n",
      "file: /tf/data/BachelorThesis_Data/showered/MiNNLO/ShowerTTR_718_0.855.npz doesn't exist; skipping\n",
      "file: /tf/data/BachelorThesis_Data/showered/MiNNLO/ShowerTTR_721_0.855.npz doesn't exist; skipping\n",
      "file: /tf/data/BachelorThesis_Data/showered/MiNNLO/ShowerTTR_726_0.855.npz doesn't exist; skipping\n",
      "file: /tf/data/BachelorThesis_Data/showered/MiNNLO/ShowerTTR_727_0.855.npz doesn't exist; skipping\n",
      "file: /tf/data/BachelorThesis_Data/showered/MiNNLO/ShowerTTR_730_0.855.npz doesn't exist; skipping\n",
      "file: /tf/data/BachelorThesis_Data/showered/MiNNLO/ShowerTTR_731_0.855.npz doesn't exist; skipping\n",
      "file: /tf/data/BachelorThesis_Data/showered/MiNNLO/ShowerTTR_739_0.855.npz doesn't exist; skipping\n",
      "file: /tf/data/BachelorThesis_Data/showered/MiNNLO/ShowerTTR_755_0.855.npz doesn't exist; skipping\n",
      "file: /tf/data/BachelorThesis_Data/showered/MiNNLO/ShowerTTR_761_0.855.npz doesn't exist; skipping\n",
      "file: /tf/data/BachelorThesis_Data/showered/MiNNLO/ShowerTTR_766_0.855.npz doesn't exist; skipping\n",
      "file: /tf/data/BachelorThesis_Data/showered/MiNNLO/ShowerTTR_772_0.855.npz doesn't exist; skipping\n",
      "file: /tf/data/BachelorThesis_Data/showered/MiNNLO/ShowerTTR_773_0.855.npz doesn't exist; skipping\n",
      "file: /tf/data/BachelorThesis_Data/showered/MiNNLO/ShowerTTR_787_0.855.npz doesn't exist; skipping\n",
      "file: /tf/data/BachelorThesis_Data/showered/MiNNLO/ShowerTTR_793_0.855.npz doesn't exist; skipping\n",
      "file: /tf/data/BachelorThesis_Data/showered/MiNNLO/ShowerTTR_800_0.855.npz doesn't exist; skipping\n",
      "different number of events in files! \n",
      "tt : len: 7000 | file: /tf/data/BachelorThesis_Data/showered/MiNNLO/ShowerTTR_801_0.855.npz \n",
      "top: len: 7000 | file: /tf/data/BachelorThesis_Data/showered/MiNNLO/ShowerTopR_801_0.855.npz \n",
      "lhe: len: 6999 | file: /tf/data/BachelorThesis_Data/LHE/data/MiNNLO/0501-1000/pwgevents-0801.lhe \n",
      "skipping files 801\n",
      "file: /tf/data/BachelorThesis_Data/showered/MiNNLO/ShowerTTR_804_0.855.npz doesn't exist; skipping\n",
      "different number of events in files! \n",
      "tt : len: 7999 | file: /tf/data/BachelorThesis_Data/showered/MiNNLO/ShowerTTR_805_0.855.npz \n",
      "top: len: 7999 | file: /tf/data/BachelorThesis_Data/showered/MiNNLO/ShowerTopR_805_0.855.npz \n",
      "lhe: len: 7998 | file: /tf/data/BachelorThesis_Data/LHE/data/MiNNLO/0501-1000/pwgevents-0805.lhe \n",
      "skipping files 805\n",
      "file: /tf/data/BachelorThesis_Data/showered/MiNNLO/ShowerTTR_808_0.855.npz doesn't exist; skipping\n",
      "file: /tf/data/BachelorThesis_Data/showered/MiNNLO/ShowerTTR_813_0.855.npz doesn't exist; skipping\n",
      "file: /tf/data/BachelorThesis_Data/showered/MiNNLO/ShowerTTR_815_0.855.npz doesn't exist; skipping\n",
      "file: /tf/data/BachelorThesis_Data/showered/MiNNLO/ShowerTTR_823_0.855.npz doesn't exist; skipping\n",
      "file: /tf/data/BachelorThesis_Data/LHE/data/MiNNLO/possibly_broken/pwgevents-0826.lhe only has 0 events; skipping\n",
      "file: /tf/data/BachelorThesis_Data/showered/MiNNLO/ShowerTTR_829_0.855.npz doesn't exist; skipping\n",
      "file: /tf/data/BachelorThesis_Data/showered/MiNNLO/ShowerTTR_832_0.855.npz doesn't exist; skipping\n",
      "file: /tf/data/BachelorThesis_Data/showered/MiNNLO/ShowerTTR_834_0.855.npz doesn't exist; skipping\n",
      "file: /tf/data/BachelorThesis_Data/showered/MiNNLO/ShowerTTR_836_0.855.npz doesn't exist; skipping\n",
      "file: /tf/data/BachelorThesis_Data/showered/MiNNLO/ShowerTTR_840_0.855.npz doesn't exist; skipping\n",
      "file: /tf/data/BachelorThesis_Data/showered/MiNNLO/ShowerTTR_843_0.855.npz doesn't exist; skipping\n",
      "file: /tf/data/BachelorThesis_Data/showered/MiNNLO/ShowerTTR_847_0.855.npz doesn't exist; skipping\n",
      "file: /tf/data/BachelorThesis_Data/showered/MiNNLO/ShowerTTR_851_0.855.npz doesn't exist; skipping\n",
      "file: /tf/data/BachelorThesis_Data/showered/MiNNLO/ShowerTTR_853_0.855.npz doesn't exist; skipping\n",
      "file: /tf/data/BachelorThesis_Data/showered/MiNNLO/ShowerTTR_859_0.855.npz doesn't exist; skipping\n",
      "file: /tf/data/BachelorThesis_Data/showered/MiNNLO/ShowerTTR_863_0.855.npz doesn't exist; skipping\n",
      "file: /tf/data/BachelorThesis_Data/showered/MiNNLO/ShowerTTR_866_0.855.npz doesn't exist; skipping\n",
      "file: /tf/data/BachelorThesis_Data/showered/MiNNLO/ShowerTTR_872_0.855.npz doesn't exist; skipping\n",
      "file: /tf/data/BachelorThesis_Data/showered/MiNNLO/ShowerTTR_875_0.855.npz doesn't exist; skipping\n",
      "file: /tf/data/BachelorThesis_Data/showered/MiNNLO/ShowerTTR_887_0.855.npz doesn't exist; skipping\n",
      "file: /tf/data/BachelorThesis_Data/showered/MiNNLO/ShowerTTR_895_0.855.npz doesn't exist; skipping\n",
      "file: /tf/data/BachelorThesis_Data/showered/MiNNLO/ShowerTTR_913_0.855.npz doesn't exist; skipping\n",
      "file: /tf/data/BachelorThesis_Data/showered/MiNNLO/ShowerTTR_931_0.855.npz doesn't exist; skipping\n",
      "file: /tf/data/BachelorThesis_Data/showered/MiNNLO/ShowerTTR_932_0.855.npz doesn't exist; skipping\n",
      "file: /tf/data/BachelorThesis_Data/showered/MiNNLO/ShowerTTR_933_0.855.npz doesn't exist; skipping\n",
      "file: /tf/data/BachelorThesis_Data/showered/MiNNLO/ShowerTTR_935_0.855.npz doesn't exist; skipping\n",
      "file: /tf/data/BachelorThesis_Data/showered/MiNNLO/ShowerTTR_936_0.855.npz doesn't exist; skipping\n",
      "file: /tf/data/BachelorThesis_Data/showered/MiNNLO/ShowerTTR_937_0.855.npz doesn't exist; skipping\n",
      "file: /tf/data/BachelorThesis_Data/showered/MiNNLO/ShowerTTR_938_0.855.npz doesn't exist; skipping\n",
      "file: /tf/data/BachelorThesis_Data/showered/MiNNLO/ShowerTTR_940_0.855.npz doesn't exist; skipping\n",
      "file: /tf/data/BachelorThesis_Data/showered/MiNNLO/ShowerTTR_953_0.855.npz doesn't exist; skipping\n",
      "file: /tf/data/BachelorThesis_Data/showered/MiNNLO/ShowerTTR_970_0.855.npz doesn't exist; skipping\n",
      "file: /tf/data/BachelorThesis_Data/showered/MiNNLO/ShowerTTR_976_0.855.npz doesn't exist; skipping\n",
      "file: /tf/data/BachelorThesis_Data/showered/MiNNLO/ShowerTTR_983_0.855.npz doesn't exist; skipping\n",
      "file: /tf/data/BachelorThesis_Data/showered/MiNNLO/ShowerTTR_987_0.855.npz doesn't exist; skipping\n",
      "file: /tf/data/BachelorThesis_Data/showered/MiNNLO/ShowerTTR_993_0.855.npz doesn't exist; skipping\n",
      "skipped = [75, 107, 108, 290, 309, 313, 363, 393, 395, 401, 467, 468, 471, 482, 485, 501, 510, 521, 536, 547, 548, 550, 554, 577, 586, 599, 602, 608, 616, 617, 626, 629, 651, 663, 670, 672, 687, 689, 692, 704, 705, 710, 718, 721, 726, 727, 730, 731, 739, 755, 761, 766, 772, 773, 787, 793, 800, 801, 804, 805, 808, 813, 815, 823, 826, 829, 832, 834, 836, 840, 843, 847, 851, 853, 859, 863, 866, 872, 875, 887, 895, 913, 931, 932, 933, 935, 936, 937, 938, 940, 953, 970, 976, 983, 987, 993]\n",
      "np.shape(x1) = (8857945, 3, 9)\n"
     ]
    }
   ],
   "source": [
    "x1, skipped = convert_valentinas_datasets_to_mine(shower_tt_list, shower_top_list, lhe_list, theta = 1)\n",
    "\n",
    "print(f'{skipped = }')\n",
    "print(f'{np.shape(x1) = }')\n"
   ]
  },
  {
   "cell_type": "code",
   "execution_count": 11,
   "metadata": {},
   "outputs": [],
   "source": [
    "# save dataset to memory mappable npy array | takes more disk space than compressed, but allows partial reading from disk\n",
    "np.save('../Data/MiNNLO/showered/converted_lhe.npy', x1)\n",
    "np.save('../Data/MiNNLO/showered/skipped_files.npy', skipped)\n"
   ]
  },
  {
   "cell_type": "code",
   "execution_count": null,
   "metadata": {},
   "outputs": [],
   "source": []
  },
  {
   "cell_type": "code",
   "execution_count": 20,
   "metadata": {},
   "outputs": [
    {
     "name": "stdout",
     "output_type": "stream",
     "text": [
      "/tf/data/BachelorThesis_Data/showered/hvq/ShowerTT_1.npz\n",
      "/tf/data/BachelorThesis_Data/showered/hvq/ShowerTT_21.npz\n",
      "/tf/data/BachelorThesis_Data/showered/hvq/ShowerTT_41.npz\n",
      "/tf/data/BachelorThesis_Data/showered/hvq/ShowerTop_1.npz\n",
      "/tf/data/BachelorThesis_Data/showered/hvq/ShowerTop_21.npz\n",
      "/tf/data/BachelorThesis_Data/showered/hvq/ShowerTop_41.npz\n",
      "/tf/data/BachelorThesis_Data/LHE/data/POWHEG_new/Results1/pwgevents.lhe\n",
      "/tf/data/BachelorThesis_Data/LHE/data/POWHEG_new/Results21/pwgevents.lhe\n",
      "/tf/data/BachelorThesis_Data/LHE/data/POWHEG_new/Results41/pwgevents.lhe\n"
     ]
    }
   ],
   "source": [
    "# load showered .npz events \n",
    "\n",
    "# x0 NLO hvq\n",
    "x0_path = '/tf/data/BachelorThesis_Data/showered/hvq/'\n",
    "x0_lhe_path = '/tf/data/BachelorThesis_Data/LHE/data/POWHEG_new/'\n",
    "num_train = 50\n",
    "\n",
    "shower_tt_list = [''] * num_train\n",
    "shower_top_list = [''] * num_train\n",
    "lhe_list = [''] * num_train\n",
    "for i in range(num_train):\n",
    "    shower_tt_list[i] = f'{x0_path}ShowerTT_{i+1}.npz'\n",
    "    shower_top_list[i] = f'{x0_path}ShowerTop_{i+1}.npz'\n",
    "    # find lhe file\n",
    "    for root, dirs, files in os.walk(x0_lhe_path):\n",
    "        for name in files:\n",
    "            if f'{root}/{name}' == f'{x0_lhe_path}Results{i+1}/pwgevents.lhe':\n",
    "                lhe_list[i] = f'{root}/{name}'\n",
    "\n",
    "print(*shower_tt_list[:-1:20], sep='\\n')\n",
    "print(*shower_top_list[:-1:20], sep='\\n')\n",
    "print(*lhe_list[:-1:20], sep='\\n')\n"
   ]
  },
  {
   "cell_type": "code",
   "execution_count": 21,
   "metadata": {},
   "outputs": [
    {
     "name": "stdout",
     "output_type": "stream",
     "text": [
      "skipped = []cessing file 0009\n",
      "np.shape(x1) = (8857945, 3, 9)\n"
     ]
    }
   ],
   "source": [
    "x0_1, skipped = convert_valentinas_datasets_to_mine(shower_tt_list[:10], shower_top_list[:10], lhe_list[:10], theta = 0)\n",
    "\n",
    "print(f'{skipped = }')\n",
    "print(f'{np.shape(x0_1) = }')\n",
    "\n",
    "# save dataset to memory mappable npy array | takes more disk space than compressed, but allows partial reading from disk\n",
    "np.save('../Data/POWHEG_hvq/showered/converted_lhe_01.npy', x0_1)\n",
    "np.save('../Data/MiNNLO/showered/skipped_files_01.npy', skipped)\n"
   ]
  },
  {
   "cell_type": "code",
   "execution_count": 23,
   "metadata": {},
   "outputs": [
    {
     "name": "stdout",
     "output_type": "stream",
     "text": [
      "skipped = []\n",
      "np.shape(x0_1) = (20000000, 3, 9)\n"
     ]
    }
   ],
   "source": [
    "print(f'{skipped = }')\n",
    "print(f'{np.shape(x0_1) = }')\n"
   ]
  },
  {
   "cell_type": "code",
   "execution_count": 24,
   "metadata": {},
   "outputs": [
    {
     "name": "stdout",
     "output_type": "stream",
     "text": [
      "different number of events in files! \n",
      "tt : len: 1064007 | file: /tf/data/BachelorThesis_Data/showered/hvq/ShowerTT_18.npz \n",
      "top: len: 1064007 | file: /tf/data/BachelorThesis_Data/showered/hvq/ShowerTop_18.npz \n",
      "lhe: len: 1064006 | file: /tf/data/BachelorThesis_Data/LHE/data/POWHEG_new/Results18/pwgevents.lhe \n",
      "skipping files 7\n",
      "skipped = [7]essing file 0008\n",
      "np.shape(x0_2) = (16000000, 3, 9)\n"
     ]
    }
   ],
   "source": [
    "x0_2, skipped = convert_valentinas_datasets_to_mine(shower_tt_list[11:20], shower_top_list[11:20], lhe_list[11:20], theta = 0)\n",
    "\n",
    "print(f'{skipped = }')\n",
    "print(f'{np.shape(x0_2) = }')\n",
    "\n",
    "# save dataset to memory mappable npy array | takes more disk space than compressed, but allows partial reading from disk\n",
    "np.save('../Data/POWHEG_hvq/showered/converted_lhe_02.npy', x0_2)\n",
    "np.save('../Data/MiNNLO/showered/skipped_files_02.npy', skipped)\n"
   ]
  },
  {
   "cell_type": "code",
   "execution_count": 25,
   "metadata": {},
   "outputs": [
    {
     "name": "stdout",
     "output_type": "stream",
     "text": [
      "skipped = []cessing file 0008\n",
      "np.shape(x0_3) = (18000000, 3, 9)\n"
     ]
    }
   ],
   "source": [
    "x0_3, skipped = convert_valentinas_datasets_to_mine(shower_tt_list[21:30], shower_top_list[21:30], lhe_list[21:30], theta = 0)\n",
    "\n",
    "print(f'{skipped = }')\n",
    "print(f'{np.shape(x0_3) = }')\n",
    "\n",
    "# save dataset to memory mappable npy array | takes more disk space than compressed, but allows partial reading from disk\n",
    "np.save('../Data/POWHEG_hvq/showered/converted_lhe_03.npy', x0_3)\n",
    "np.save('../Data/MiNNLO/showered/skipped_files_03.npy', skipped)\n"
   ]
  },
  {
   "cell_type": "code",
   "execution_count": 26,
   "metadata": {},
   "outputs": [
    {
     "name": "stdout",
     "output_type": "stream",
     "text": [
      "skipped = []cessing file 0008\n",
      "np.shape(x0_4) = (18000000, 3, 9)\n"
     ]
    }
   ],
   "source": [
    "x0_4, skipped = convert_valentinas_datasets_to_mine(shower_tt_list[31:40], shower_top_list[31:40], lhe_list[31:40], theta = 0)\n",
    "\n",
    "print(f'{skipped = }')\n",
    "print(f'{np.shape(x0_4) = }')\n",
    "\n",
    "# save dataset to memory mappable npy array | takes more disk space than compressed, but allows partial reading from disk\n",
    "np.save('../Data/POWHEG_hvq/showered/converted_lhe_04.npy', x0_4)\n",
    "np.save('../Data/MiNNLO/showered/skipped_files_04.npy', skipped)\n"
   ]
  },
  {
   "cell_type": "code",
   "execution_count": 27,
   "metadata": {},
   "outputs": [
    {
     "name": "stdout",
     "output_type": "stream",
     "text": [
      "skipped = []cessing file 0008\n",
      "np.shape(x0_5) = (18000000, 3, 9)\n"
     ]
    }
   ],
   "source": [
    "x0_5, skipped = convert_valentinas_datasets_to_mine(shower_tt_list[41:], shower_top_list[41:], lhe_list[41:], theta = 0)\n",
    "\n",
    "print(f'{skipped = }')\n",
    "print(f'{np.shape(x0_5) = }')\n",
    "\n",
    "# save dataset to memory mappable npy array | takes more disk space than compressed, but allows partial reading from disk\n",
    "np.save('../Data/POWHEG_hvq/showered/converted_lhe_05.npy', x0_5)\n",
    "np.save('../Data/MiNNLO/showered/skipped_files_05.npy', skipped)\n"
   ]
  },
  {
   "cell_type": "code",
   "execution_count": null,
   "metadata": {},
   "outputs": [],
   "source": []
  },
  {
   "cell_type": "markdown",
   "metadata": {},
   "source": [
    "# create normalized datasets"
   ]
  },
  {
   "cell_type": "code",
   "execution_count": 4,
   "metadata": {},
   "outputs": [],
   "source": [
    "data_dir = '../Data'\n"
   ]
  },
  {
   "cell_type": "code",
   "execution_count": 31,
   "metadata": {},
   "outputs": [
    {
     "name": "stdout",
     "output_type": "stream",
     "text": [
      "x0 POWHEG shape: (20000000, 3, 9)\n"
     ]
    }
   ],
   "source": [
    "# load data 01\n",
    "x0 = []\n",
    "x0 = np.load(f'{data_dir}/POWHEG_hvq/showered/converted_lhe_01.npy')\n",
    "print(f'x0 POWHEG shape: {x0.shape}')\n",
    "\n",
    "# normalize data\n",
    "x0_nrm, nrm_array = DCTR.normalize_data(x0)\n"
   ]
  },
  {
   "cell_type": "code",
   "execution_count": 32,
   "metadata": {},
   "outputs": [
    {
     "name": "stdout",
     "output_type": "stream",
     "text": [
      "[(3.683839756313715, 1.0609460007389058, True), (8.612103828713617e-06, 1.034977498713008, False), (-0.0004003776885255839, 1.8138344846642072, False), (6.215296416594436, 0.27569957542245294, True), (-9.040021626823053e-05, 3.2822364242329503, False), (6.636608323497679, 0.47452490624975824, True)]\n",
      "[(4.595774290081871, 0.7097691197460952, True), (-3.8328073562234005e-05, 1.2119908934987196, False), (0.000304694309451561, 1.8134625978763672, False), (171.93769206352815, 6.964270672174379, False), (-5.563968293036282e-05, 1.866646625911125, False), (-13.81551055796443, 1.5631940186722204e-13, True)]\n",
      "[(4.592728535455571, 0.7155761005838078, True), (7.53851788734336e-05, 1.2062537312547548, False), (-1.294039825749624e-05, 1.8140254480324653, False), (171.9382316455017, 6.9452321287801695, False), (0.0003029718978719232, 1.8647740777094741, False), (-13.81551055796443, 1.5631940186722204e-13, True)]\n",
      "\n",
      "\n",
      "[[3.65206736e+00 1.01234024e+00 1.00000000e+00]\n",
      " [1.71881058e-04 1.03624555e+00 0.00000000e+00]\n",
      " [2.89435719e-05 1.81390387e+00 0.00000000e+00]\n",
      " [6.21729978e+00 2.77141958e-01 1.00000000e+00]\n",
      " [5.94384058e-04 3.29695779e+00 0.00000000e+00]\n",
      " [6.63804130e+00 4.75845643e-01 1.00000000e+00]]\n",
      "[[ 4.59585574e+00  7.10117694e-01  1.00000000e+00]\n",
      " [ 2.27463666e-04  1.21320764e+00  0.00000000e+00]\n",
      " [-2.82138707e-04  1.81365441e+00  0.00000000e+00]\n",
      " [ 1.71937065e+02  6.96520376e+00  0.00000000e+00]\n",
      " [ 2.75971475e-04  1.86791222e+00  0.00000000e+00]\n",
      " [ 5.88871085e+00  5.58280441e-01  1.00000000e+00]]\n",
      "[[4.59861760e+00 7.10321894e-01 1.00000000e+00]\n",
      " [1.17123224e-04 1.20764220e+00 0.00000000e+00]\n",
      " [3.62806913e-04 1.81394157e+00 0.00000000e+00]\n",
      " [1.71936912e+02 6.95005870e+00 0.00000000e+00]\n",
      " [9.95937081e-05 1.86062591e+00 0.00000000e+00]\n",
      " [5.88603070e+00 5.54853473e-01 1.00000000e+00]]\n",
      "[[[3.17723963e-02 4.86057645e-02 0.00000000e+00]\n",
      "  [1.63268954e-04 1.26805196e-03 0.00000000e+00]\n",
      "  [4.29321260e-04 6.93859771e-05 0.00000000e+00]\n",
      "  [2.00336388e-03 1.44238260e-03 0.00000000e+00]\n",
      "  [6.84784274e-04 1.47213610e-02 0.00000000e+00]\n",
      "  [1.43297368e-03 1.32073679e-03 0.00000000e+00]]\n",
      "\n",
      " [[8.14524371e-05 3.48574353e-04 0.00000000e+00]\n",
      "  [2.65791740e-04 1.21674961e-03 0.00000000e+00]\n",
      "  [5.86833017e-04 1.91816194e-04 0.00000000e+00]\n",
      "  [6.27464090e-04 9.33090041e-04 0.00000000e+00]\n",
      "  [3.31611158e-04 1.26559601e-03 0.00000000e+00]\n",
      "  [1.97042214e+01 5.58280441e-01 0.00000000e+00]]\n",
      "\n",
      " [[5.88906030e-03 5.25420669e-03 0.00000000e+00]\n",
      "  [4.17380451e-05 1.38847035e-03 0.00000000e+00]\n",
      "  [3.75747311e-04 8.38732551e-05 0.00000000e+00]\n",
      "  [1.31971899e-03 4.82656927e-03 0.00000000e+00]\n",
      "  [2.03378190e-04 4.14816946e-03 0.00000000e+00]\n",
      "  [1.97015413e+01 5.54853473e-01 0.00000000e+00]]]\n"
     ]
    }
   ],
   "source": [
    "# check nrm_array against unshowered\n",
    "print(*nrm_array, sep = '\\n')\n",
    "old_nrm_array = np.load(f'{data_dir}/POWHEG_hvq/13TeV/01-02_nrm_array.npz')['a']\n",
    "print('\\n')\n",
    "print(*old_nrm_array, sep = '\\n')\n",
    "\n",
    "print(np.absolute(nrm_array - old_nrm_array))\n"
   ]
  },
  {
   "cell_type": "code",
   "execution_count": 33,
   "metadata": {},
   "outputs": [
    {
     "name": "stdout",
     "output_type": "stream",
     "text": [
      "x0_nrm saved\n"
     ]
    }
   ],
   "source": [
    "# save \n",
    "np.save(f'{data_dir}/POWHEG_hvq/showered/normed_lhe_01.npy', x0_nrm)\n",
    "\n",
    "print('x0_nrm saved')\n",
    "np.save(f'{data_dir}/POWHEG_hvq/showered/norm_array_lhe_01.npy', nrm_array)\n"
   ]
  },
  {
   "cell_type": "code",
   "execution_count": null,
   "metadata": {},
   "outputs": [],
   "source": []
  },
  {
   "cell_type": "code",
   "execution_count": 34,
   "metadata": {},
   "outputs": [
    {
     "name": "stdout",
     "output_type": "stream",
     "text": [
      "x0 POWHEG shape: (16000000, 3, 9)\n"
     ]
    }
   ],
   "source": [
    "# load data 02\n",
    "x0 = []\n",
    "x0 = np.load(f'{data_dir}/POWHEG_hvq/showered/converted_lhe_02.npy')\n",
    "print(f'x0 POWHEG shape: {x0.shape}')\n",
    "\n",
    "# normalize data\n",
    "x0_nrm, _ = DCTR.normalize_data(x0, nrm_array)\n"
   ]
  },
  {
   "cell_type": "code",
   "execution_count": 35,
   "metadata": {},
   "outputs": [
    {
     "name": "stdout",
     "output_type": "stream",
     "text": [
      "x0_nrm saved\n"
     ]
    }
   ],
   "source": [
    "# save \n",
    "np.save(f'{data_dir}/POWHEG_hvq/showered/normed_lhe_02.npy', x0_nrm)\n",
    "\n",
    "print('x0_nrm saved')\n"
   ]
  },
  {
   "cell_type": "code",
   "execution_count": null,
   "metadata": {},
   "outputs": [],
   "source": []
  },
  {
   "cell_type": "code",
   "execution_count": 36,
   "metadata": {},
   "outputs": [
    {
     "name": "stdout",
     "output_type": "stream",
     "text": [
      "x0 POWHEG shape: (18000000, 3, 9)\n"
     ]
    }
   ],
   "source": [
    "# load data 03\n",
    "x0 = []\n",
    "x0 = np.load(f'{data_dir}/POWHEG_hvq/showered/converted_lhe_03.npy')\n",
    "print(f'x0 POWHEG shape: {x0.shape}')\n",
    "\n",
    "# normalize data\n",
    "x0_nrm, _ = DCTR.normalize_data(x0, nrm_array)\n"
   ]
  },
  {
   "cell_type": "code",
   "execution_count": 37,
   "metadata": {},
   "outputs": [
    {
     "name": "stdout",
     "output_type": "stream",
     "text": [
      "x0_nrm saved\n"
     ]
    }
   ],
   "source": [
    "# save \n",
    "np.save(f'{data_dir}/POWHEG_hvq/showered/normed_lhe_03.npy', x0_nrm)\n",
    "\n",
    "print('x0_nrm saved')\n"
   ]
  },
  {
   "cell_type": "code",
   "execution_count": null,
   "metadata": {},
   "outputs": [],
   "source": []
  },
  {
   "cell_type": "code",
   "execution_count": 42,
   "metadata": {},
   "outputs": [
    {
     "name": "stdout",
     "output_type": "stream",
     "text": [
      "x0 POWHEG shape: (18000000, 3, 9)\n"
     ]
    }
   ],
   "source": [
    "# load data 04\n",
    "x0 = []\n",
    "x0 = np.load(f'{data_dir}/POWHEG_hvq/showered/converted_lhe_04.npy')\n",
    "print(f'x0 POWHEG shape: {x0.shape}')\n",
    "\n",
    "# normalize data\n",
    "x0_nrm, _ = DCTR.normalize_data(x0, nrm_array)\n"
   ]
  },
  {
   "cell_type": "code",
   "execution_count": 43,
   "metadata": {},
   "outputs": [
    {
     "name": "stdout",
     "output_type": "stream",
     "text": [
      "x0_nrm saved\n"
     ]
    }
   ],
   "source": [
    "# save \n",
    "np.save(f'{data_dir}/POWHEG_hvq/showered/normed_lhe_04.npy', x0_nrm)\n",
    "\n",
    "print('x0_nrm saved')\n"
   ]
  },
  {
   "cell_type": "code",
   "execution_count": null,
   "metadata": {},
   "outputs": [],
   "source": []
  },
  {
   "cell_type": "code",
   "execution_count": 44,
   "metadata": {},
   "outputs": [
    {
     "name": "stdout",
     "output_type": "stream",
     "text": [
      "x1 MiNNLO shape: (8857945, 3, 9)\n"
     ]
    }
   ],
   "source": [
    "# x1 MiNNLO Dataset\n",
    "# load data\n",
    "x1 = []\n",
    "x1 = np.load(f'{data_dir}/MiNNLO/showered/converted_lhe.npy')\n",
    "print(f'x1 MiNNLO shape: {x1.shape}')\n",
    "\n",
    "# normalize data\n",
    "x1_nrm, _ = DCTR.normalize_data(x1, nrm_array)\n"
   ]
  },
  {
   "cell_type": "code",
   "execution_count": 45,
   "metadata": {},
   "outputs": [
    {
     "name": "stdout",
     "output_type": "stream",
     "text": [
      "x1_nrm saved\n"
     ]
    }
   ],
   "source": [
    "# save \n",
    "np.save(f'{data_dir}/MiNNLO/showered/normed_lhe.npy', x1_nrm)\n",
    "\n",
    "print('x1_nrm saved')\n"
   ]
  }
 ],
 "metadata": {
  "kernelspec": {
   "display_name": "Python 3 (ipykernel)",
   "language": "python",
   "name": "python3"
  },
  "language_info": {
   "codemirror_mode": {
    "name": "ipython",
    "version": 3
   },
   "file_extension": ".py",
   "mimetype": "text/x-python",
   "name": "python",
   "nbconvert_exporter": "python",
   "pygments_lexer": "ipython3",
   "version": "3.8.10"
  }
 },
 "nbformat": 4,
 "nbformat_minor": 4
}
